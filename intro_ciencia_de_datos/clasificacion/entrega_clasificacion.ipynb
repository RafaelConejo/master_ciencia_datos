{
 "cells": [
  {
   "cell_type": "markdown",
   "id": "c5be9012",
   "metadata": {},
   "source": [
    "## Ejercicio 1"
   ]
  },
  {
   "cell_type": "markdown",
   "id": "d6cb4921",
   "metadata": {},
   "source": [
    "Create a function my_knn that accepts any measure from the philentropy package and performs basic knn.\n",
    "\n",
    "• A possible function interface could be:\n",
    "\n",
    "    my_knn <- function(train, train_labels, test, k=1, metric=“euclidean”)\n",
    "    \n",
    "• The function will output the predictions over the test set. \n",
    "\n",
    "• Select two distance/similarity measures and apply the my_knn function to each of them with different k choices for the breast cancer data and do a comparison of the results (try using a plot)."
   ]
  },
  {
   "cell_type": "code",
   "execution_count": null,
   "id": "6daa7ecd",
   "metadata": {},
   "outputs": [],
   "source": []
  },
  {
   "cell_type": "markdown",
   "id": "1a819066",
   "metadata": {},
   "source": [
    "## Ejercicio 2\n"
   ]
  },
  {
   "cell_type": "markdown",
   "id": "eeef2b27",
   "metadata": {},
   "source": [
    "• Using the breast cancer dataset: \n",
    "\n",
    "    • Divide into training and test (80%, 20%) 32 \n",
    "\n",
    "    • Perform 10 fold-cv with logistic regression over the training data. \n",
    "\n",
    "    • Test final model on test data."
   ]
  },
  {
   "cell_type": "code",
   "execution_count": null,
   "id": "616f388a",
   "metadata": {},
   "outputs": [],
   "source": []
  },
  {
   "cell_type": "markdown",
   "id": "3898f067",
   "metadata": {},
   "source": [
    "## Ejercicio 3\n"
   ]
  },
  {
   "cell_type": "markdown",
   "id": "cb4c2a80",
   "metadata": {},
   "source": [
    "• Use Smarket data (without Today variable)\n",
    "\n",
    "• Try with lda using all Lag variables. \n",
    "\n",
    "• Repeat with qda and compare."
   ]
  },
  {
   "cell_type": "code",
   "execution_count": 9,
   "id": "8b5fbecb",
   "metadata": {},
   "outputs": [
    {
     "name": "stderr",
     "output_type": "stream",
     "text": [
      "also installing the dependencies 'bit', 'fs', 'bit64', 'progress', 'processx', 'evaluate', 'xfun', 'blob', 'lifecycle', 'tidyselect', 'vctrs', 'data.table', 'gargle', 'ids', 'rematch2', 'ellipsis', 'timechange', 'vroom', 'tzdb', 'callr', 'knitr', 'broom', 'cli', 'crayon', 'dbplyr', 'dplyr', 'dtplyr', 'forcats', 'googledrive', 'googlesheets4', 'haven', 'hms', 'httr', 'jsonlite', 'lubridate', 'modelr', 'pillar', 'purrr', 'readr', 'reprex', 'rlang', 'rstudioapi', 'rvest', 'tibble', 'tidyr', 'xml2'\n",
      "\n"
     ]
    },
    {
     "name": "stdout",
     "output_type": "stream",
     "text": [
      "\n",
      "  There are binary versions available but the source versions are later:\n",
      "              binary source needs_compilation\n",
      "fs             1.5.0  1.5.2              TRUE\n",
      "processx       3.5.2  3.8.0              TRUE\n",
      "evaluate        0.14   0.18             FALSE\n",
      "xfun            0.22   0.34              TRUE\n",
      "blob           1.2.1  1.2.3             FALSE\n",
      "lifecycle      1.0.0  1.0.3             FALSE\n",
      "tidyselect     1.1.1  1.2.0             FALSE\n",
      "vctrs          0.3.8  0.5.0              TRUE\n",
      "data.table    1.14.0 1.14.4              TRUE\n",
      "gargle         1.1.0  1.2.1             FALSE\n",
      "timechange     0.0.2  0.1.1              TRUE\n",
      "vroom          1.4.0  1.6.0              TRUE\n",
      "tzdb           0.1.1  0.3.0              TRUE\n",
      "callr          3.7.0  3.7.3             FALSE\n",
      "knitr           1.33   1.40             FALSE\n",
      "broom          0.7.6  1.0.1             FALSE\n",
      "cli            2.5.0  3.4.1              TRUE\n",
      "crayon         1.4.1  1.5.2             FALSE\n",
      "dbplyr         2.1.1  2.2.1             FALSE\n",
      "dplyr          1.0.6 1.0.10              TRUE\n",
      "dtplyr         1.1.0  1.2.2             FALSE\n",
      "forcats        0.5.1  0.5.2             FALSE\n",
      "googledrive    1.0.1  2.0.0             FALSE\n",
      "googlesheets4  0.3.0  1.0.1             FALSE\n",
      "haven          2.4.1  2.5.1              TRUE\n",
      "hms            1.0.0  1.1.2             FALSE\n",
      "httr           1.4.2  1.4.4             FALSE\n",
      "jsonlite       1.7.2  1.8.3              TRUE\n",
      "lubridate     1.7.10  1.9.0              TRUE\n",
      "modelr         0.1.8  0.1.9             FALSE\n",
      "pillar         1.6.0  1.8.1             FALSE\n",
      "purrr          0.3.4  0.3.5              TRUE\n",
      "readr          1.4.0  2.1.3              TRUE\n",
      "reprex         2.0.0  2.0.2             FALSE\n",
      "rlang         0.4.11  1.0.6              TRUE\n",
      "rstudioapi      0.13   0.14             FALSE\n",
      "rvest          1.0.0  1.0.3             FALSE\n",
      "tibble         3.1.1  3.1.8              TRUE\n",
      "tidyr          1.1.3  1.2.1              TRUE\n",
      "xml2           1.3.2  1.3.3              TRUE\n",
      "tidyverse      1.3.1  1.3.2             FALSE\n",
      "\n",
      "  Binaries will be installed\n",
      "package 'bit' successfully unpacked and MD5 sums checked\n",
      "package 'fs' successfully unpacked and MD5 sums checked\n",
      "package 'bit64' successfully unpacked and MD5 sums checked\n",
      "package 'progress' successfully unpacked and MD5 sums checked\n",
      "package 'processx' successfully unpacked and MD5 sums checked\n",
      "package 'xfun' successfully unpacked and MD5 sums checked\n",
      "package 'vctrs' successfully unpacked and MD5 sums checked\n"
     ]
    },
    {
     "name": "stderr",
     "output_type": "stream",
     "text": [
      "Warning message:\n",
      "\"cannot remove prior installation of package 'vctrs'\"Warning message in file.copy(savedcopy, lib, recursive = TRUE):\n",
      "\"problema al copiar E:\\anaconda\\Lib\\R\\library\\00LOCK\\vctrs\\libs\\x64\\vctrs.dll  a E:\\anaconda\\Lib\\R\\library\\vctrs\\libs\\x64\\vctrs.dll: Permission denied\"Warning message:\n",
      "\"restored 'vctrs'\""
     ]
    },
    {
     "name": "stdout",
     "output_type": "stream",
     "text": [
      "package 'data.table' successfully unpacked and MD5 sums checked\n",
      "package 'ids' successfully unpacked and MD5 sums checked\n",
      "package 'rematch2' successfully unpacked and MD5 sums checked\n",
      "package 'ellipsis' successfully unpacked and MD5 sums checked\n",
      "package 'timechange' successfully unpacked and MD5 sums checked\n",
      "package 'vroom' successfully unpacked and MD5 sums checked\n",
      "package 'tzdb' successfully unpacked and MD5 sums checked\n",
      "package 'cli' successfully unpacked and MD5 sums checked\n",
      "package 'dplyr' successfully unpacked and MD5 sums checked\n",
      "package 'haven' successfully unpacked and MD5 sums checked\n",
      "package 'jsonlite' successfully unpacked and MD5 sums checked\n"
     ]
    },
    {
     "name": "stderr",
     "output_type": "stream",
     "text": [
      "Warning message:\n",
      "\"cannot remove prior installation of package 'jsonlite'\"Warning message in file.copy(savedcopy, lib, recursive = TRUE):\n",
      "\"problema al copiar E:\\anaconda\\Lib\\R\\library\\00LOCK\\jsonlite\\libs\\x64\\jsonlite.dll  a E:\\anaconda\\Lib\\R\\library\\jsonlite\\libs\\x64\\jsonlite.dll: Permission denied\"Warning message:\n",
      "\"restored 'jsonlite'\""
     ]
    },
    {
     "name": "stdout",
     "output_type": "stream",
     "text": [
      "package 'lubridate' successfully unpacked and MD5 sums checked\n",
      "package 'purrr' successfully unpacked and MD5 sums checked\n",
      "package 'readr' successfully unpacked and MD5 sums checked\n",
      "package 'rlang' successfully unpacked and MD5 sums checked\n"
     ]
    },
    {
     "name": "stderr",
     "output_type": "stream",
     "text": [
      "Warning message:\n",
      "\"cannot remove prior installation of package 'rlang'\"Warning message in file.copy(savedcopy, lib, recursive = TRUE):\n",
      "\"problema al copiar E:\\anaconda\\Lib\\R\\library\\00LOCK\\rlang\\libs\\x64\\rlang.dll  a E:\\anaconda\\Lib\\R\\library\\rlang\\libs\\x64\\rlang.dll: Permission denied\"Warning message:\n",
      "\"restored 'rlang'\""
     ]
    },
    {
     "name": "stdout",
     "output_type": "stream",
     "text": [
      "package 'tibble' successfully unpacked and MD5 sums checked\n",
      "package 'tidyr' successfully unpacked and MD5 sums checked\n",
      "package 'xml2' successfully unpacked and MD5 sums checked\n",
      "\n",
      "The downloaded binary packages are in\n",
      "\tC:\\Users\\rafac\\AppData\\Local\\Temp\\RtmpCuhrsJ\\downloaded_packages\n"
     ]
    },
    {
     "name": "stderr",
     "output_type": "stream",
     "text": [
      "installing the source packages 'evaluate', 'blob', 'lifecycle', 'tidyselect', 'gargle', 'callr', 'knitr', 'broom', 'crayon', 'dbplyr', 'dtplyr', 'forcats', 'googledrive', 'googlesheets4', 'hms', 'httr', 'modelr', 'pillar', 'reprex', 'rstudioapi', 'rvest', 'tidyverse'\n",
      "\n",
      "Warning message in install.packages(\"tidyverse\"):\n",
      "\"installation of package 'lifecycle' had non-zero exit status\"Warning message in install.packages(\"tidyverse\"):\n",
      "\"installation of package 'callr' had non-zero exit status\"Warning message in install.packages(\"tidyverse\"):\n",
      "\"installation of package 'broom' had non-zero exit status\"Warning message in install.packages(\"tidyverse\"):\n",
      "\"installation of package 'tidyselect' had non-zero exit status\"Warning message in install.packages(\"tidyverse\"):\n",
      "\"installation of package 'gargle' had non-zero exit status\"Warning message in install.packages(\"tidyverse\"):\n",
      "\"installation of package 'knitr' had non-zero exit status\"Warning message in install.packages(\"tidyverse\"):\n",
      "\"installation of package 'forcats' had non-zero exit status\"Warning message in install.packages(\"tidyverse\"):\n",
      "\"installation of package 'hms' had non-zero exit status\"Warning message in install.packages(\"tidyverse\"):\n",
      "\"installation of package 'pillar' had non-zero exit status\"Warning message in install.packages(\"tidyverse\"):\n",
      "\"installation of package 'rvest' had non-zero exit status\"Warning message in install.packages(\"tidyverse\"):\n",
      "\"installation of package 'dbplyr' had non-zero exit status\"Warning message in install.packages(\"tidyverse\"):\n",
      "\"installation of package 'dtplyr' had non-zero exit status\"Warning message in install.packages(\"tidyverse\"):\n",
      "\"installation of package 'googledrive' had non-zero exit status\"Warning message in install.packages(\"tidyverse\"):\n",
      "\"installation of package 'modelr' had non-zero exit status\"Warning message in install.packages(\"tidyverse\"):\n",
      "\"installation of package 'reprex' had non-zero exit status\"Warning message in install.packages(\"tidyverse\"):\n",
      "\"installation of package 'googlesheets4' had non-zero exit status\"Warning message in install.packages(\"tidyverse\"):\n",
      "\"installation of package 'tidyverse' had non-zero exit status\""
     ]
    },
    {
     "ename": "ERROR",
     "evalue": "Error in Smarket %>% dplyr::select(-Today): no se pudo encontrar la función \"%>%\"\n",
     "output_type": "error",
     "traceback": [
      "Error in Smarket %>% dplyr::select(-Today): no se pudo encontrar la función \"%>%\"\nTraceback:\n"
     ]
    }
   ],
   "source": [
    "library(\"ISLR\")\n",
    "library(\"MASS\")\n",
    "\n",
    "install.packages(\"tidyverse\")\n",
    "\n",
    "data(Smarket)\n",
    "Smarket %>% dplyr::select(-Today)"
   ]
  },
  {
   "cell_type": "markdown",
   "id": "52e84b26",
   "metadata": {},
   "source": [
    "Antes de ejecutar lda con todas se observar si todas las variables Lag tienen una varianza similar y una distribucion normal."
   ]
  },
  {
   "cell_type": "code",
   "execution_count": 24,
   "id": "daf4cb66",
   "metadata": {},
   "outputs": [
    {
     "data": {
      "text/plain": [
       "\n",
       "\tShapiro-Wilk normality test\n",
       "\n",
       "data:  Smarket$Lag1\n",
       "W = 0.97219, p-value = 8.889e-15\n"
      ]
     },
     "metadata": {},
     "output_type": "display_data"
    },
    {
     "data": {
      "text/plain": [
       "\n",
       "\tShapiro-Wilk normality test\n",
       "\n",
       "data:  Smarket$Lag2\n",
       "W = 0.97217, p-value = 8.798e-15\n"
      ]
     },
     "metadata": {},
     "output_type": "display_data"
    },
    {
     "data": {
      "text/plain": [
       "\n",
       "\tShapiro-Wilk normality test\n",
       "\n",
       "data:  Smarket$Lag3\n",
       "W = 0.9724, p-value = 1.035e-14\n"
      ]
     },
     "metadata": {},
     "output_type": "display_data"
    },
    {
     "data": {
      "text/plain": [
       "\n",
       "\tShapiro-Wilk normality test\n",
       "\n",
       "data:  Smarket$Lag4\n",
       "W = 0.97242, p-value = 1.049e-14\n"
      ]
     },
     "metadata": {},
     "output_type": "display_data"
    },
    {
     "data": {
      "text/plain": [
       "\n",
       "\tShapiro-Wilk normality test\n",
       "\n",
       "data:  Smarket$Lag5\n",
       "W = 0.97011, p-value = 2.149e-15\n"
      ]
     },
     "metadata": {},
     "output_type": "display_data"
    }
   ],
   "source": [
    "shapiro.test(Smarket$Lag1)\n",
    "shapiro.test(Smarket$Lag2)\n",
    "shapiro.test(Smarket$Lag3)\n",
    "shapiro.test(Smarket$Lag4)\n",
    "shapiro.test(Smarket$Lag5)"
   ]
  },
  {
   "cell_type": "markdown",
   "id": "1f28b61b",
   "metadata": {},
   "source": [
    "Los resultados nos dan un p-value muy bajo en todos los casos, no son superiors a un valor de 0.05 por tanto no poseen una distribucción normal y podemos asumir que LDA no funcionará muy bien."
   ]
  },
  {
   "cell_type": "code",
   "execution_count": 25,
   "id": "b8f8204c",
   "metadata": {},
   "outputs": [
    {
     "data": {
      "text/html": [
       "1.29117506222642"
      ],
      "text/latex": [
       "1.29117506222642"
      ],
      "text/markdown": [
       "1.29117506222642"
      ],
      "text/plain": [
       "[1] 1.291175"
      ]
     },
     "metadata": {},
     "output_type": "display_data"
    },
    {
     "data": {
      "text/html": [
       "1.2911328189265"
      ],
      "text/latex": [
       "1.2911328189265"
      ],
      "text/markdown": [
       "1.2911328189265"
      ],
      "text/plain": [
       "[1] 1.291133"
      ]
     },
     "metadata": {},
     "output_type": "display_data"
    },
    {
     "data": {
      "text/html": [
       "1.29664442448359"
      ],
      "text/latex": [
       "1.29664442448359"
      ],
      "text/markdown": [
       "1.29664442448359"
      ],
      "text/plain": [
       "[1] 1.296644"
      ]
     },
     "metadata": {},
     "output_type": "display_data"
    },
    {
     "data": {
      "text/html": [
       "1.29680562160128"
      ],
      "text/latex": [
       "1.29680562160128"
      ],
      "text/markdown": [
       "1.29680562160128"
      ],
      "text/plain": [
       "[1] 1.296806"
      ]
     },
     "metadata": {},
     "output_type": "display_data"
    },
    {
     "data": {
      "text/html": [
       "1.31687148397502"
      ],
      "text/latex": [
       "1.31687148397502"
      ],
      "text/markdown": [
       "1.31687148397502"
      ],
      "text/plain": [
       "[1] 1.316871"
      ]
     },
     "metadata": {},
     "output_type": "display_data"
    },
    {
     "data": {
      "image/png": "[encoded data removed]",
      "text/plain": [
       "plot without title"
      ]
     },
     "metadata": {},
     "output_type": "display_data"
    }
   ],
   "source": [
    "var(Smarket$Lag1)\n",
    "var(Smarket$Lag2)\n",
    "var(Smarket$Lag3)\n",
    "var(Smarket$Lag4)\n",
    "var(Smarket$Lag5)\n",
    "\n",
    "boxplot(Smarket[ , 2:6])"
   ]
  },
  {
   "cell_type": "markdown",
   "id": "19a2da1e",
   "metadata": {},
   "source": [
    "Las varianzas son similares excepto para el caso de Lag5, lo cual puede afectar a los resultados.\n",
    "\n",
    "Tras estas observaciones se procede a la aplicación de LDA"
   ]
  },
  {
   "cell_type": "code",
   "execution_count": 45,
   "id": "03c49a58",
   "metadata": {},
   "outputs": [
    {
     "data": {
      "text/plain": [
       "Call:\n",
       "lda(Direction ~ Lag1 + Lag2 + Lag3 + Lag4 + Lag5, data = Smarket, \n",
       "    subset = Year < 2005)\n",
       "\n",
       "Prior probabilities of groups:\n",
       "    Down       Up \n",
       "0.491984 0.508016 \n",
       "\n",
       "Group means:\n",
       "            Lag1        Lag2         Lag3         Lag4          Lag5\n",
       "Down  0.04279022  0.03389409 -0.009806517 -0.010598778  0.0043665988\n",
       "Up   -0.03954635 -0.03132544  0.005834320  0.003110454 -0.0006508876\n",
       "\n",
       "Coefficients of linear discriminants:\n",
       "             LD1\n",
       "Lag1 -0.63046918\n",
       "Lag2 -0.50221745\n",
       "Lag3  0.10142974\n",
       "Lag4  0.09725317\n",
       "Lag5 -0.03685767"
      ]
     },
     "metadata": {},
     "output_type": "display_data"
    }
   ],
   "source": [
    "#Tomamos todos los años menos 2005, para usar estos casos para un futuro predict\n",
    "Smarket.lda <- lda(Direction ~ Lag1+Lag2+Lag3+Lag4+Lag5, data=Smarket, subset= Year<2005)\n",
    "Smarket.lda"
   ]
  },
  {
   "cell_type": "code",
   "execution_count": 46,
   "id": "caf2c30a",
   "metadata": {},
   "outputs": [
    {
     "data": {
      "image/png": "[encoded data removed]",
      "text/plain": [
       "plot without title"
      ]
     },
     "metadata": {},
     "output_type": "display_data"
    }
   ],
   "source": [
    "plot(Smarket.lda, type=\"both\")"
   ]
  },
  {
   "cell_type": "markdown",
   "id": "25d5b1d9",
   "metadata": {},
   "source": [
    "Podemos predecir los datos a partir del modelo que acabamos de generar"
   ]
  },
  {
   "cell_type": "code",
   "execution_count": 47,
   "id": "151ea6c3",
   "metadata": {},
   "outputs": [],
   "source": [
    "Smarket_2005 <- subset(Smarket, Year == 2005)\n",
    "pred_lda <- predict(Smarket.lda, Smarket_2005)"
   ]
  },
  {
   "cell_type": "code",
   "execution_count": 48,
   "id": "986baaf9",
   "metadata": {},
   "outputs": [
    {
     "data": {
      "text/plain": [
       "      \n",
       "       Down  Up\n",
       "  Down   37  30\n",
       "  Up     74 111"
      ]
     },
     "metadata": {},
     "output_type": "display_data"
    },
    {
     "data": {
      "text/html": [
       "0.587301587301587"
      ],
      "text/latex": [
       "0.587301587301587"
      ],
      "text/markdown": [
       "0.587301587301587"
      ],
      "text/plain": [
       "[1] 0.5873016"
      ]
     },
     "metadata": {},
     "output_type": "display_data"
    }
   ],
   "source": [
    "table(pred_lda$class, Smarket_2005$Direction)\n",
    "mean(pred_lda$class == Smarket_2005$Direction)"
   ]
  },
  {
   "cell_type": "markdown",
   "id": "512fdfb5",
   "metadata": {},
   "source": [
    "Efectivamente los resultados no son los desados.\n",
    "\n",
    "Procedamos a representar graficamente estos resultados"
   ]
  },
  {
   "cell_type": "code",
   "execution_count": 1,
   "id": "2bab4bb9",
   "metadata": {},
   "outputs": [
    {
     "name": "stderr",
     "output_type": "stream",
     "text": [
      "also installing the dependencies 'cli', 'rlang', 'tidyselect', 'tibble', 'vctrs', 'pillar', 'fontawesome', 'htmltools', 'glue', 'bslib', 'lifecycle', 'haven', 'dplyr', 'shiny', 'labelled', 'questionr'\n",
      "\n"
     ]
    },
    {
     "name": "stdout",
     "output_type": "stream",
     "text": [
      "\n",
      "  There are binary versions available but the source versions are later:\n",
      "             binary source needs_compilation\n",
      "cli           2.5.0  3.4.1              TRUE\n",
      "rlang        0.4.11  1.0.6              TRUE\n",
      "tidyselect    1.1.1  1.2.0             FALSE\n",
      "tibble        3.1.1  3.1.8              TRUE\n",
      "vctrs         0.3.8  0.5.0              TRUE\n",
      "pillar        1.6.0  1.8.1             FALSE\n",
      "fontawesome   0.2.1  0.4.0             FALSE\n",
      "htmltools   0.5.1.1  0.5.3              TRUE\n",
      "glue          1.4.2  1.6.2              TRUE\n",
      "bslib         0.2.4  0.4.1             FALSE\n",
      "lifecycle     1.0.0  1.0.3             FALSE\n",
      "haven         2.4.1  2.5.1              TRUE\n",
      "dplyr         1.0.6 1.0.10              TRUE\n",
      "shiny         1.6.0  1.7.3             FALSE\n",
      "labelled      2.8.0 2.10.0             FALSE\n",
      "questionr     0.7.3  0.7.7             FALSE\n",
      "klaR         0.6-15  1.7-1             FALSE\n",
      "\n",
      "  Binaries will be installed\n",
      "package 'cli' successfully unpacked and MD5 sums checked\n",
      "package 'rlang' successfully unpacked and MD5 sums checked\n",
      "package 'tibble' successfully unpacked and MD5 sums checked\n",
      "package 'vctrs' successfully unpacked and MD5 sums checked\n",
      "package 'htmltools' successfully unpacked and MD5 sums checked\n"
     ]
    },
    {
     "name": "stderr",
     "output_type": "stream",
     "text": [
      "Warning message:\n",
      "\"cannot remove prior installation of package 'htmltools'\"Warning message in file.copy(savedcopy, lib, recursive = TRUE):\n",
      "\"problema al copiar E:\\anaconda\\Lib\\R\\library\\00LOCK\\htmltools\\libs\\x64\\htmltools.dll  a E:\\anaconda\\Lib\\R\\library\\htmltools\\libs\\x64\\htmltools.dll: Permission denied\"Warning message:\n",
      "\"restored 'htmltools'\""
     ]
    },
    {
     "name": "stdout",
     "output_type": "stream",
     "text": [
      "package 'glue' successfully unpacked and MD5 sums checked\n",
      "package 'haven' successfully unpacked and MD5 sums checked\n",
      "package 'dplyr' successfully unpacked and MD5 sums checked\n",
      "\n",
      "The downloaded binary packages are in\n",
      "\tC:\\Users\\rafac\\AppData\\Local\\Temp\\RtmpCuhrsJ\\downloaded_packages\n"
     ]
    },
    {
     "name": "stderr",
     "output_type": "stream",
     "text": [
      "installing the source packages 'tidyselect', 'pillar', 'fontawesome', 'bslib', 'lifecycle', 'shiny', 'labelled', 'questionr', 'klaR'\n",
      "\n",
      "Warning message in install.packages(\"klaR\"):\n",
      "\"installation of package 'fontawesome' had non-zero exit status\"Warning message in install.packages(\"klaR\"):\n",
      "\"installation of package 'bslib' had non-zero exit status\"Warning message in install.packages(\"klaR\"):\n",
      "\"installation of package 'lifecycle' had non-zero exit status\"Warning message in install.packages(\"klaR\"):\n",
      "\"installation of package 'tidyselect' had non-zero exit status\"Warning message in install.packages(\"klaR\"):\n",
      "\"installation of package 'pillar' had non-zero exit status\"Warning message in install.packages(\"klaR\"):\n",
      "\"installation of package 'shiny' had non-zero exit status\"Warning message in install.packages(\"klaR\"):\n",
      "\"installation of package 'labelled' had non-zero exit status\"Warning message in install.packages(\"klaR\"):\n",
      "\"installation of package 'questionr' had non-zero exit status\"Warning message in install.packages(\"klaR\"):\n",
      "\"installation of package 'klaR' had non-zero exit status\""
     ]
    },
    {
     "ename": "ERROR",
     "evalue": "Error in library(klaR): there is no package called 'klaR'\n",
     "output_type": "error",
     "traceback": [
      "Error in library(klaR): there is no package called 'klaR'\nTraceback:\n",
      "1. library(klaR)"
     ]
    }
   ],
   "source": [
    "install.packages(\"klaR\")\n",
    "library(klaR)\n",
    "partimat(Direction ~ Lag1+Lag2+Lag3+Lag4+Lag5, data=Smarket, method=\"lda\")"
   ]
  },
  {
   "cell_type": "code",
   "execution_count": null,
   "id": "b6e21d1b",
   "metadata": {},
   "outputs": [],
   "source": []
  }
 ],
 "metadata": {
  "kernelspec": {
   "display_name": "R",
   "language": "R",
   "name": "ir"
  },
  "language_info": {
   "codemirror_mode": "r",
   "file_extension": ".r",
   "mimetype": "text/x-r-source",
   "name": "R",
   "pygments_lexer": "r",
   "version": "3.6.1"
  }
 },
 "nbformat": 4,
 "nbformat_minor": 5
}
