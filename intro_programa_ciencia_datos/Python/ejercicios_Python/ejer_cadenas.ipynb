{
 "cells": [
  {
   "cell_type": "markdown",
   "id": "53ca6e86",
   "metadata": {},
   "source": [
    "## Ejercicios Python Cadenas"
   ]
  },
  {
   "cell_type": "markdown",
   "id": "ff923b30",
   "metadata": {},
   "source": [
    "1. Escribe una función contar_letras(palabra,letra) que devuelva el número de veces que aparece una letra en una palabra."
   ]
  },
  {
   "cell_type": "code",
   "execution_count": 1,
   "id": "54c45ec7",
   "metadata": {},
   "outputs": [
    {
     "name": "stdout",
     "output_type": "stream",
     "text": [
      "2\n",
      "0\n"
     ]
    }
   ],
   "source": [
    "def contar_letras(palabra, letra):\n",
    "    cont = 0\n",
    "    for i in palabra:\n",
    "        if(i == letra):\n",
    "            cont = cont +1\n",
    "    return cont\n",
    "\n",
    "print(contar_letras(\"casa\", \"a\"))\n",
    "print(contar_letras(\"casa\", \"v\"))"
   ]
  },
  {
   "cell_type": "markdown",
   "id": "6ba1cccb",
   "metadata": {},
   "source": [
    "2. Escribe una función eliminar_letras(palabra, letra) que devuelva una versión de palabra que no contiene el carácter letra."
   ]
  },
  {
   "cell_type": "code",
   "execution_count": 3,
   "id": "b87077ed",
   "metadata": {},
   "outputs": [
    {
     "name": "stdout",
     "output_type": "stream",
     "text": [
      "cs\n",
      "casa\n"
     ]
    }
   ],
   "source": [
    "def eliminar_letras(palabra, letra):\n",
    "    new_palabra = \"\"\n",
    "    for i in palabra:\n",
    "        if(i != letra):\n",
    "            new_palabra = new_palabra + i\n",
    "    return new_palabra\n",
    "\n",
    "print(eliminar_letras(\"casa\", \"a\"))\n",
    "print(eliminar_letras(\"casa\", \"v\"))"
   ]
  },
  {
   "cell_type": "markdown",
   "id": "ef92fc5f",
   "metadata": {},
   "source": [
    "3. Escribe una función mayusculas_minusculas(palabra) que devuelva una cadena en la que las mayus y las minus estén al contrario"
   ]
  },
  {
   "cell_type": "code",
   "execution_count": null,
   "id": "dddc144d",
   "metadata": {},
   "outputs": [],
   "source": []
  },
  {
   "cell_type": "markdown",
   "id": "5aab3efa",
   "metadata": {},
   "source": [
    "4."
   ]
  },
  {
   "cell_type": "code",
   "execution_count": 4,
   "id": "54d995ba",
   "metadata": {},
   "outputs": [
    {
     "name": "stdout",
     "output_type": "stream",
     "text": [
      "2\n",
      "1\n",
      "-1\n"
     ]
    }
   ],
   "source": [
    "def buscar(palabra, sub):\n",
    "    position = -1\n",
    "    for i in range(len(palabra)):\n",
    "        #encuentro la primera coincidencia\n",
    "        if palabra[i] == sub[0]:\n",
    "            position = i\n",
    "\n",
    "            #si sub tiene un tamaño mayor que 1, sigo recorriendo\n",
    "            if len(sub) > 1:\n",
    "                for j in range(1, len(sub)):\n",
    "                    if palabra[i+j] != sub[j]:\n",
    "                        position = -1\n",
    "                    elif i+j >= len(palabra):\n",
    "                        position = -1\n",
    "            #este else me permite devolver la primera aparicion si len(sub) == 1\n",
    "            else:\n",
    "                return position\n",
    "                    \n",
    "    return position\n",
    "\n",
    "print(buscar(\"casa\", \"sa\"))\n",
    "print(buscar(\"casa\", \"a\"))\n",
    "print(buscar(\"casa\", \"va\"))"
   ]
  },
  {
   "cell_type": "code",
   "execution_count": null,
   "id": "b3dd66cb",
   "metadata": {},
   "outputs": [],
   "source": []
  }
 ],
 "metadata": {
  "kernelspec": {
   "display_name": "Python 3 (ipykernel)",
   "language": "python",
   "name": "python3"
  },
  "language_info": {
   "codemirror_mode": {
    "name": "ipython",
    "version": 3
   },
   "file_extension": ".py",
   "mimetype": "text/x-python",
   "name": "python",
   "nbconvert_exporter": "python",
   "pygments_lexer": "ipython3",
   "version": "3.9.12"
  }
 },
 "nbformat": 4,
 "nbformat_minor": 5
}
