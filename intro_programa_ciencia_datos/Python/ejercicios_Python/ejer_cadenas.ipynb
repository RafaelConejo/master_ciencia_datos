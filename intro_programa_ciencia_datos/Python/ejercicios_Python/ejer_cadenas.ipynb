{
 "cells": [
  {
   "cell_type": "markdown",
   "id": "53ca6e86",
   "metadata": {},
   "source": [
    "## Ejercicios Python Cadenas"
   ]
  },
  {
   "cell_type": "markdown",
   "id": "ff923b30",
   "metadata": {},
   "source": [
    "1. Escribe una función contar_letras(palabra,letra) que devuelva el número de veces que aparece una letra en una palabra."
   ]
  },
  {
   "cell_type": "code",
   "execution_count": 1,
   "id": "54c45ec7",
   "metadata": {},
   "outputs": [
    {
     "name": "stdout",
     "output_type": "stream",
     "text": [
      "2\n",
      "0\n"
     ]
    }
   ],
   "source": [
    "def contar_letras(palabra, letra):\n",
    "    cont = 0\n",
    "    for i in palabra:\n",
    "        if(i == letra):\n",
    "            cont = cont +1\n",
    "    return cont\n",
    "\n",
    "print(contar_letras(\"casa\", \"a\"))\n",
    "print(contar_letras(\"casa\", \"v\"))"
   ]
  },
  {
   "cell_type": "markdown",
   "id": "6ba1cccb",
   "metadata": {},
   "source": [
    "2. Escribe una función eliminar_letras(palabra, letra) que devuelva una versión de palabra que no contiene el carácter letra."
   ]
  },
  {
   "cell_type": "code",
   "execution_count": 3,
   "id": "b87077ed",
   "metadata": {},
   "outputs": [
    {
     "name": "stdout",
     "output_type": "stream",
     "text": [
      "cs\n",
      "casa\n"
     ]
    }
   ],
   "source": [
    "def eliminar_letras(palabra, letra):\n",
    "    new_palabra = \"\"\n",
    "    for i in palabra:\n",
    "        if(i != letra):\n",
    "            new_palabra = new_palabra + i\n",
    "    return new_palabra\n",
    "\n",
    "print(eliminar_letras(\"casa\", \"a\"))\n",
    "print(eliminar_letras(\"casa\", \"v\"))"
   ]
  },
  {
   "cell_type": "markdown",
   "id": "ef92fc5f",
   "metadata": {},
   "source": [
    "3. Escribe una función mayusculas_minusculas(palabra) que devuelva una cadena en la que las mayus y las minus estén al contrario"
   ]
  },
  {
   "cell_type": "code",
   "execution_count": 2,
   "id": "dddc144d",
   "metadata": {},
   "outputs": [
    {
     "name": "stdout",
     "output_type": "stream",
     "text": [
      "cAsA\n",
      "CASa\n"
     ]
    }
   ],
   "source": [
    "def mayusculas_minusculas(palabra):\n",
    "    new_palabra = \"\"\n",
    "    for i in palabra:\n",
    "        if(i.isupper()):\n",
    "            new_palabra = new_palabra + i.lower()\n",
    "        else:\n",
    "            new_palabra = new_palabra + i.upper()\n",
    "    return new_palabra\n",
    "\n",
    "print(mayusculas_minusculas(\"CaSa\"))\n",
    "print(mayusculas_minusculas(\"casA\"))"
   ]
  },
  {
   "cell_type": "markdown",
   "id": "5aab3efa",
   "metadata": {},
   "source": [
    "Ejercicio 4."
   ]
  },
  {
   "cell_type": "code",
   "execution_count": 4,
   "id": "54d995ba",
   "metadata": {},
   "outputs": [
    {
     "name": "stdout",
     "output_type": "stream",
     "text": [
      "2\n",
      "1\n",
      "-1\n"
     ]
    }
   ],
   "source": [
    "def buscar(palabra, sub):\n",
    "    position = -1\n",
    "    for i in range(len(palabra)):\n",
    "        #encuentro la primera coincidencia\n",
    "        if palabra[i] == sub[0]:\n",
    "            position = i\n",
    "\n",
    "            #si sub tiene un tamaño mayor que 1, sigo recorriendo\n",
    "            if len(sub) > 1:\n",
    "                for j in range(1, len(sub)):\n",
    "                    if palabra[i+j] != sub[j]:\n",
    "                        position = -1\n",
    "                    elif i+j >= len(palabra):\n",
    "                        position = -1\n",
    "            #este else me permite devolver la primera aparicion si len(sub) == 1\n",
    "            else:\n",
    "                return position\n",
    "                    \n",
    "    return position\n",
    "\n",
    "print(buscar(\"casa\", \"sa\"))\n",
    "print(buscar(\"casa\", \"a\"))\n",
    "print(buscar(\"casa\", \"va\"))"
   ]
  },
  {
   "cell_type": "markdown",
   "id": "c278f731",
   "metadata": {},
   "source": [
    "Ejercicio 5."
   ]
  },
  {
   "cell_type": "code",
   "execution_count": 1,
   "id": "41f70559",
   "metadata": {},
   "outputs": [
    {
     "name": "stdout",
     "output_type": "stream",
     "text": [
      "2\n",
      "3\n"
     ]
    }
   ],
   "source": [
    "def num_vocales(palabra):\n",
    "    cont = 0\n",
    "    vocales = {'a', 'e', 'i', 'o', 'u'}\n",
    "    for i in palabra:\n",
    "        if i in vocales:\n",
    "            cont = cont+1\n",
    "    \n",
    "    return cont\n",
    "\n",
    "print(num_vocales(\"casa\"))\n",
    "print(num_vocales(\"cohete\"))"
   ]
  },
  {
   "cell_type": "markdown",
   "id": "8c489689",
   "metadata": {},
   "source": [
    "Ejercicio 6."
   ]
  },
  {
   "cell_type": "code",
   "execution_count": 3,
   "id": "1cb1f66c",
   "metadata": {},
   "outputs": [
    {
     "name": "stdout",
     "output_type": "stream",
     "text": [
      "['a', 'a']\n",
      "['o', 'e', 'e']\n"
     ]
    }
   ],
   "source": [
    "def vocales(palabra):\n",
    "    my_vocal = []\n",
    "    vocales = {'a', 'e', 'i', 'o', 'u'}\n",
    "    for i in palabra:\n",
    "        if i in vocales:\n",
    "            my_vocal.append(i)\n",
    "    \n",
    "    return my_vocal\n",
    "\n",
    "\n",
    "print(vocales(\"casa\"))\n",
    "print(vocales(\"cohete\"))"
   ]
  },
  {
   "cell_type": "markdown",
   "id": "a5171c0f",
   "metadata": {},
   "source": [
    "Ejercicio 7."
   ]
  },
  {
   "cell_type": "code",
   "execution_count": 6,
   "id": "d9a88b2f",
   "metadata": {},
   "outputs": [
    {
     "name": "stdout",
     "output_type": "stream",
     "text": [
      "CASA\n",
      "CASA\n"
     ]
    }
   ],
   "source": [
    "def mayusculas(palabra):\n",
    "    new_palabra = \"\"\n",
    "    for i in palabra:\n",
    "        if(i.islower()):\n",
    "            new_palabra = new_palabra + i.upper()\n",
    "        else:\n",
    "            new_palabra = new_palabra + i\n",
    "    return new_palabra\n",
    "\n",
    "print(mayusculas(\"Casa\"))\n",
    "print(mayusculas(\"casa\"))"
   ]
  },
  {
   "cell_type": "markdown",
   "id": "6a97328a",
   "metadata": {},
   "source": [
    "Ejercicio 8."
   ]
  },
  {
   "cell_type": "code",
   "execution_count": 9,
   "id": "97fe6b80",
   "metadata": {},
   "outputs": [
    {
     "name": "stdout",
     "output_type": "stream",
     "text": [
      "False\n",
      "True\n"
     ]
    }
   ],
   "source": [
    "def inicio_fin_vocal(palabra):\n",
    "    vocales = ['a','e','i','o','u', 'A', 'E', 'I', 'O', 'U']\n",
    "    if(palabra[0] in vocales and palabra[len(palabra)-1] in vocales):\n",
    "        return True\n",
    "    else:\n",
    "        return False\n",
    "    \n",
    "print(inicio_fin_vocal(\"Casa\"))\n",
    "print(inicio_fin_vocal(\"asa\"))"
   ]
  },
  {
   "cell_type": "markdown",
   "id": "6f57b5de",
   "metadata": {},
   "source": [
    "Ejercicio 9."
   ]
  },
  {
   "cell_type": "code",
   "execution_count": 10,
   "id": "7f8b1ab2",
   "metadata": {},
   "outputs": [
    {
     "name": "stdout",
     "output_type": "stream",
     "text": [
      "Cs\n",
      "s\n"
     ]
    }
   ],
   "source": [
    "def elimina_vocales(palabra):\n",
    "    vocales = ['a','e','i','o','u', 'A', 'E', 'I', 'O', 'U']\n",
    "    new_palabra = ''\n",
    "    \n",
    "    for i in palabra:\n",
    "        if(i not in vocales):\n",
    "            new_palabra = new_palabra + i\n",
    "    \n",
    "    return new_palabra\n",
    "    \n",
    "print(elimina_vocales(\"Casa\"))\n",
    "print(elimina_vocales(\"asa\"))"
   ]
  },
  {
   "cell_type": "markdown",
   "id": "ef1f74d3",
   "metadata": {},
   "source": [
    "Ejercicio 10."
   ]
  },
  {
   "cell_type": "code",
   "execution_count": 2,
   "id": "edadf6d1",
   "metadata": {},
   "outputs": [
    {
     "name": "stdout",
     "output_type": "stream",
     "text": [
      "True\n"
     ]
    }
   ],
   "source": [
    "def es_inversa(palabra1, palabra2):\n",
    "    inversa = True\n",
    "    ini = 0\n",
    "    fin = len(palabra2) -1\n",
    "\n",
    "    if len(palabra1) == len(palabra2):\n",
    "        while(inversa and ini < len(palabra1)):\n",
    "            if palabra1[ini] != palabra2[fin]:\n",
    "                inversa = False\n",
    "            ini = ini +1\n",
    "            fin = fin -1\n",
    "    #evito caso en el que las dos palabras sean de diferente longitud\n",
    "    else:\n",
    "        inversa = False\n",
    "    return inversa\n",
    "    \n",
    "\n",
    "print(es_inversa(\"casa\", \"asac\"))"
   ]
  },
  {
   "cell_type": "markdown",
   "id": "13479f30",
   "metadata": {},
   "source": [
    "Ejercicio 11."
   ]
  },
  {
   "cell_type": "code",
   "execution_count": 3,
   "id": "c1d6b828",
   "metadata": {},
   "outputs": [
    {
     "name": "stdout",
     "output_type": "stream",
     "text": [
      "as\n"
     ]
    }
   ],
   "source": [
    "def comunes(palabra1, palabra2):\n",
    "    comun = ''\n",
    "    for i in palabra1:\n",
    "        if i in palabra2 and i not in comun:\n",
    "            comun = comun + i\n",
    "    \n",
    "    return comun\n",
    "    \n",
    "\n",
    "print(comunes(\"casa\", \"gatas\"))"
   ]
  },
  {
   "cell_type": "markdown",
   "id": "22096868",
   "metadata": {},
   "source": [
    "Ejercicio 12."
   ]
  },
  {
   "cell_type": "code",
   "execution_count": 4,
   "id": "0aebfefb",
   "metadata": {},
   "outputs": [
    {
     "name": "stdout",
     "output_type": "stream",
     "text": [
      "casacasacasacasa\n"
     ]
    }
   ],
   "source": [
    "def eco_palabra(palabra):\n",
    "    new_eco = ''\n",
    "    for i in range(len(palabra)):\n",
    "        new_eco = new_eco + palabra\n",
    "    \n",
    "    return new_eco\n",
    "    \n",
    "\n",
    "print(eco_palabra(\"casa\"))"
   ]
  },
  {
   "cell_type": "markdown",
   "id": "da14a880",
   "metadata": {},
   "source": [
    "Ejercicio 13."
   ]
  },
  {
   "cell_type": "code",
   "execution_count": 21,
   "id": "0ab01c19",
   "metadata": {},
   "outputs": [
    {
     "name": "stdout",
     "output_type": "stream",
     "text": [
      "True\n",
      "False\n",
      "True\n"
     ]
    }
   ],
   "source": [
    "def palindromo(frase):\n",
    "    ini = 0\n",
    "    fin = len(frase)-1\n",
    "    continuar = True\n",
    "    \n",
    "    while(continuar and ini != fin):\n",
    "        if(frase[ini] != frase[fin]):\n",
    "            continuar = False\n",
    "        else:\n",
    "            ini = ini + 1\n",
    "            fin = fin - 1\n",
    "    \n",
    "    return continuar\n",
    "\n",
    "print(palindromo('asa'))\n",
    "print(palindromo('casa'))\n",
    "print(palindromo('pasap'))"
   ]
  },
  {
   "cell_type": "markdown",
   "id": "d55ddde4",
   "metadata": {},
   "source": [
    "Ejercicio 14."
   ]
  },
  {
   "cell_type": "code",
   "execution_count": 5,
   "id": "8ab7ecbd",
   "metadata": {},
   "outputs": [
    {
     "name": "stdout",
     "output_type": "stream",
     "text": [
      "True\n"
     ]
    }
   ],
   "source": [
    "def orden_alfabetico(palabra):\n",
    "    aux = ''.join(sorted(palabra))\n",
    "    if palabra == aux:\n",
    "        return True\n",
    "    else:\n",
    "        return False\n",
    "    \n",
    "\n",
    "print(orden_alfabetico(\"abejo\"))"
   ]
  },
  {
   "cell_type": "markdown",
   "id": "6e8bcfe4",
   "metadata": {},
   "source": [
    "Ejercicio 15."
   ]
  },
  {
   "cell_type": "code",
   "execution_count": 24,
   "id": "b29a94ee",
   "metadata": {},
   "outputs": [
    {
     "name": "stdout",
     "output_type": "stream",
     "text": [
      "True\n",
      "False\n"
     ]
    }
   ],
   "source": [
    "def todas_las_letras(palabra, letras):\n",
    "    for i in letras:\n",
    "        if(i not in palabra):\n",
    "            return False\n",
    "    return True\n",
    "\n",
    "print(todas_las_letras(\"casa\", ['c','a']))\n",
    "print(todas_las_letras(\"casa\", ['c','a','s','h']))"
   ]
  },
  {
   "cell_type": "markdown",
   "id": "923c51d5",
   "metadata": {},
   "source": [
    "Ejercicio 16."
   ]
  },
  {
   "cell_type": "code",
   "execution_count": 44,
   "id": "ea96926d",
   "metadata": {},
   "outputs": [
    {
     "name": "stdout",
     "output_type": "stream",
     "text": [
      "True\n",
      "False\n",
      "True\n"
     ]
    }
   ],
   "source": [
    "def es_triple_doble(palabra):\n",
    "    cont = 0\n",
    "    i = 0\n",
    "    continuar = True\n",
    "    \n",
    "    while(continuar): \n",
    "        #mayor igual por si al sumar 2 me paso\n",
    "        if(cont == 3 or (i >= len(palabra)-1)):\n",
    "            continuar = False\n",
    "        \n",
    "        else:\n",
    "            if(palabra[i] == palabra[i+1]):\n",
    "                cont = cont + 1\n",
    "                i = i+2\n",
    "            else:\n",
    "                cont = 0\n",
    "                i = i+1\n",
    "        \n",
    "        \n",
    "    if(cont == 3):\n",
    "        return True \n",
    "    else:\n",
    "        return False\n",
    "\n",
    "\n",
    "            \n",
    "print(es_triple_doble(\"abgghhkkerf\")) \n",
    "print(es_triple_doble(\"abghhkkerf\")) \n",
    "print(es_triple_doble(\"abeerrff\"))"
   ]
  },
  {
   "cell_type": "markdown",
   "id": "cfe41afb",
   "metadata": {},
   "source": [
    "Ejercicio 17."
   ]
  },
  {
   "cell_type": "code",
   "execution_count": 76,
   "id": "d85aa2c4",
   "metadata": {},
   "outputs": [
    {
     "name": "stdout",
     "output_type": "stream",
     "text": [
      "['c', 'a', 's', 'a']\n",
      "['ca', 'sa']\n",
      "['cas', 'a']\n",
      "['casa']\n"
     ]
    }
   ],
   "source": [
    "def trocear(palabra, num):\n",
    "    result = []\n",
    "    \n",
    "    #Lo recorro de num en num\n",
    "    for part in range(0, len(palabra), num):\n",
    "        result.append(palabra[part:part+num])\n",
    "    \n",
    "    return result\n",
    "\n",
    "\n",
    "\n",
    "print(trocear(\"casa\", 1))\n",
    "print(trocear(\"casa\", 2))\n",
    "print(trocear(\"casa\", 3))\n",
    "print(trocear(\"casa\", 4))"
   ]
  },
  {
   "cell_type": "markdown",
   "id": "13f5a1b8",
   "metadata": {},
   "source": [
    "Ejercicio 18."
   ]
  },
  {
   "cell_type": "code",
   "execution_count": 6,
   "id": "8afb1793",
   "metadata": {},
   "outputs": [
    {
     "name": "stdout",
     "output_type": "stream",
     "text": [
      "True\n",
      "False\n"
     ]
    }
   ],
   "source": [
    "def anagrama(palabra1, palabra2):\n",
    "    palabra1 = ''.join(sorted(palabra1))\n",
    "    palabra2 = ''.join(sorted(palabra2))\n",
    "    if palabra1 == palabra2:\n",
    "        return True\n",
    "    else:\n",
    "        return False\n",
    "    \n",
    "\n",
    "print(anagrama(\"marta\", \"trama\"))\n",
    "print(anagrama(\"marta\", \"tramas\"))"
   ]
  },
  {
   "cell_type": "markdown",
   "id": "3d6d132a",
   "metadata": {},
   "source": [
    "Ejercicio 19."
   ]
  },
  {
   "cell_type": "code",
   "execution_count": 52,
   "id": "3ee77a76",
   "metadata": {},
   "outputs": [
    {
     "name": "stdout",
     "output_type": "stream",
     "text": [
      "True\n",
      "False\n"
     ]
    }
   ],
   "source": [
    "import string\n",
    "\n",
    "def pangrama(frase):\n",
    "    #creamos un array con todas las letras del alfabeto\n",
    "    alfabeto_minus = set(string.ascii_lowercase)\n",
    "    \n",
    "    for letra in alfabeto_minus:\n",
    "        if(letra not in frase.lower()):\n",
    "            return False\n",
    "    return True\n",
    "\n",
    "\n",
    "print(pangrama(\"Benjamin pidio una bebida de kiwi y fresa. Noe, sin verguenza, la mas exquisita champaña del menu\"))\n",
    "print(pangrama(\"Benjamin\"))"
   ]
  },
  {
   "cell_type": "markdown",
   "id": "d458bfe8",
   "metadata": {},
   "source": [
    "Ejercicio 20."
   ]
  },
  {
   "cell_type": "code",
   "execution_count": 63,
   "id": "85446abe",
   "metadata": {},
   "outputs": [
    {
     "name": "stdout",
     "output_type": "stream",
     "text": [
      "BCD\n",
      "DEC\n"
     ]
    }
   ],
   "source": [
    "def encriptar(cad, desp):\n",
    "    new_cad = ''\n",
    "    \n",
    "    for letra in cad:\n",
    "        #Separamos casos de letras mayus y minus\n",
    "        if(letra.isupper()):\n",
    "            new_cad = new_cad + chr((ord(letra) + desp - 65) % 26 + 65)\n",
    "        else:\n",
    "            new_cad = new_cad + chr((ord(letra) + desp - 97) % 26 + 97)\n",
    "    \n",
    "    return new_cad\n",
    "\n",
    "\n",
    "print(encriptar(\"ABC\", 1))   \n",
    "print(encriptar(\"ABZ\", 3))  "
   ]
  },
  {
   "cell_type": "markdown",
   "id": "35b372fd",
   "metadata": {},
   "source": [
    "Ejercicio 21."
   ]
  },
  {
   "cell_type": "code",
   "execution_count": 68,
   "id": "8e530f22",
   "metadata": {},
   "outputs": [
    {
     "name": "stdout",
     "output_type": "stream",
     "text": [
      "3\n",
      "3\n"
     ]
    }
   ],
   "source": [
    "def suma_digitos(cad):\n",
    "    suma = 0\n",
    "    #me aseguro que sea un string\n",
    "    numero = str(cad)\n",
    "    \n",
    "    for n in numero:\n",
    "        suma = suma + int(n)\n",
    "    \n",
    "    return suma\n",
    "\n",
    "\n",
    "print(suma_digitos(\"12\"))  \n",
    "print(suma_digitos(12))  "
   ]
  },
  {
   "cell_type": "code",
   "execution_count": null,
   "id": "f1efb525",
   "metadata": {},
   "outputs": [],
   "source": []
  }
 ],
 "metadata": {
  "kernelspec": {
   "display_name": "Python 3 (ipykernel)",
   "language": "python",
   "name": "python3"
  },
  "language_info": {
   "codemirror_mode": {
    "name": "ipython",
    "version": 3
   },
   "file_extension": ".py",
   "mimetype": "text/x-python",
   "name": "python",
   "nbconvert_exporter": "python",
   "pygments_lexer": "ipython3",
   "version": "3.9.12"
  }
 },
 "nbformat": 4,
 "nbformat_minor": 5
}
