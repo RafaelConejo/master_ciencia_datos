{
 "cells": [
  {
   "cell_type": "markdown",
   "id": "2e299194",
   "metadata": {},
   "source": [
    "## Ejercicios Python Listas"
   ]
  },
  {
   "cell_type": "markdown",
   "id": "ae84aeb6",
   "metadata": {},
   "source": [
    "Ejercicio 1."
   ]
  },
  {
   "cell_type": "code",
   "execution_count": 1,
   "id": "cb7dc413",
   "metadata": {},
   "outputs": [
    {
     "name": "stdout",
     "output_type": "stream",
     "text": [
      "3\n"
     ]
    }
   ],
   "source": [
    "def sum_nums_lista(numeros):\n",
    "    suma = 0\n",
    "    for i in numeros:\n",
    "        suma = suma + i\n",
    "    \n",
    "    return suma\n",
    "    \n",
    "    \n",
    "print(sum_nums_lista([1,2]))"
   ]
  },
  {
   "cell_type": "markdown",
   "id": "ed67e3b1",
   "metadata": {},
   "source": [
    "Ejercicio 2."
   ]
  },
  {
   "cell_type": "code",
   "execution_count": 4,
   "id": "446f7e64",
   "metadata": {},
   "outputs": [
    {
     "name": "stdout",
     "output_type": "stream",
     "text": [
      "1\n",
      "2\n"
     ]
    }
   ],
   "source": [
    "def contar_numeros_impares(numeros):\n",
    "    cont = 0\n",
    "    for i in numeros:\n",
    "        if(i % 2 != 0):\n",
    "            cont += 1\n",
    "    \n",
    "    return cont\n",
    "    \n",
    "    \n",
    "print(contar_numeros_impares([1,2]))\n",
    "print(contar_numeros_impares([1,3]))"
   ]
  },
  {
   "cell_type": "markdown",
   "id": "605be84f",
   "metadata": {},
   "source": [
    "Ejercicio 3 "
   ]
  },
  {
   "cell_type": "code",
   "execution_count": 7,
   "id": "01db1f2b",
   "metadata": {},
   "outputs": [
    {
     "name": "stdout",
     "output_type": "stream",
     "text": [
      "1\n",
      "0\n"
     ]
    }
   ],
   "source": [
    "def numeros_pares(numeros):\n",
    "    cont = 0\n",
    "    for i in numeros:\n",
    "        if(i % 2 == 0):\n",
    "            cont += 1\n",
    "    \n",
    "    return cont\n",
    "    \n",
    "    \n",
    "print(numeros_pares([1,2]))\n",
    "print(numeros_pares([1,3]))"
   ]
  },
  {
   "cell_type": "markdown",
   "id": "19308b6d",
   "metadata": {},
   "source": [
    "Ejercicio 4"
   ]
  },
  {
   "cell_type": "code",
   "execution_count": 8,
   "id": "f1a12e69",
   "metadata": {},
   "outputs": [
    {
     "name": "stdout",
     "output_type": "stream",
     "text": [
      "[1, 2, 8, 5, 10]\n"
     ]
    }
   ],
   "source": [
    "def combinar_listas(l1, l2):\n",
    "    new_lista = l1 + l2\n",
    "    \n",
    "    return new_lista\n",
    "    \n",
    "    \n",
    "print(combinar_listas([1,2,8], [5,10]))"
   ]
  },
  {
   "cell_type": "markdown",
   "id": "fc650c8d",
   "metadata": {},
   "source": [
    "Ejercicio 5"
   ]
  },
  {
   "cell_type": "code",
   "execution_count": 14,
   "id": "c60c1c1c",
   "metadata": {},
   "outputs": [
    {
     "name": "stdout",
     "output_type": "stream",
     "text": [
      "[1, 2, 5, 8, 10]\n"
     ]
    }
   ],
   "source": [
    "def mezclar(la, lb):\n",
    "    new_lista = la + lb\n",
    "    new_lista.sort()\n",
    "    \n",
    "    return new_lista\n",
    "    \n",
    "    \n",
    "print(mezclar([1,2,8], [5,10]))"
   ]
  },
  {
   "cell_type": "markdown",
   "id": "b8e739ac",
   "metadata": {},
   "source": [
    "Ejercicio 6"
   ]
  },
  {
   "cell_type": "code",
   "execution_count": 42,
   "id": "a395df00",
   "metadata": {},
   "outputs": [
    {
     "name": "stdout",
     "output_type": "stream",
     "text": [
      "[[1. 3. 5.]\n",
      " [2. 4. 6.]]\n"
     ]
    }
   ],
   "source": [
    "import numpy as np\n",
    "\n",
    "def traspuesta(matriz):\n",
    "    #importante crear la vacia con las dimensiones al reves\n",
    "    trasp = np.empty((len(matriz[0]), len(matriz)))\n",
    "    \n",
    "    for fila in range(len(matriz)):\n",
    "        for col in range(len(matriz[0])):\n",
    "            trasp[col][fila] = matriz[fila][col]\n",
    "    \n",
    "    return trasp\n",
    "    \n",
    "    \n",
    "matriz = [[1,2], [3,4], [5,6]]\n",
    "print(traspuesta(matriz))\n",
    "    "
   ]
  },
  {
   "cell_type": "markdown",
   "id": "efaf652d",
   "metadata": {},
   "source": [
    "Ejercicio 7"
   ]
  },
  {
   "cell_type": "code",
   "execution_count": 20,
   "id": "329ad7b6",
   "metadata": {},
   "outputs": [
    {
     "name": "stdout",
     "output_type": "stream",
     "text": [
      "[['p', 1], ['a', 3], ['t', 2]]\n",
      "[['c', 1], ['a', 2], ['s', 1]]\n"
     ]
    }
   ],
   "source": [
    "def contar_letras(palabra):\n",
    "    evaluadas = []\n",
    "    out = []\n",
    "    \n",
    "    for letra in range(0, len(palabra)):\n",
    "        if(palabra[letra] not in evaluadas):\n",
    "            cont = 1\n",
    "            for l in range(letra+1, len(palabra)):\n",
    "                if(palabra[letra] == palabra[l]):\n",
    "                    cont = cont +1\n",
    "            \n",
    "            evaluadas.append(palabra[letra])\n",
    "            out.append([palabra[letra], cont])\n",
    "    return out\n",
    "\n",
    "\n",
    "print(contar_letras('patata'))\n",
    "print(contar_letras('casa'))"
   ]
  },
  {
   "cell_type": "markdown",
   "id": "3e38f555",
   "metadata": {},
   "source": [
    "Ejercicio 8"
   ]
  },
  {
   "cell_type": "code",
   "execution_count": 44,
   "id": "f480b78e",
   "metadata": {},
   "outputs": [
    {
     "name": "stdout",
     "output_type": "stream",
     "text": [
      "[1, 3]\n"
     ]
    }
   ],
   "source": [
    "def eliminar(l1, l2):\n",
    "    new_l = []\n",
    "    \n",
    "    for i in l1:\n",
    "        if(i not in l2):\n",
    "            new_l.append(i)\n",
    "    return new_l\n",
    "\n",
    "\n",
    "print(eliminar([1,2,3], [2]))"
   ]
  },
  {
   "cell_type": "markdown",
   "id": "c0a5b79f",
   "metadata": {},
   "source": [
    "Ejercicio 9"
   ]
  },
  {
   "cell_type": "code",
   "execution_count": 3,
   "id": "7c9b98b9",
   "metadata": {},
   "outputs": [
    {
     "name": "stdout",
     "output_type": "stream",
     "text": [
      "[1, 3, 6]\n",
      "[1, 3, 6]\n"
     ]
    }
   ],
   "source": [
    "def suma_acumulada(numeros):\n",
    "    suma = 0\n",
    "    \n",
    "    for num in range(numeros[0], numeros[len(numeros)-1]+1):\n",
    "        suma = suma + num\n",
    "        \n",
    "    result = [numeros[0], numeros[len(numeros)-1], suma]\n",
    "    return result\n",
    "\n",
    "\n",
    "print(suma_acumulada([1,2,3]))\n",
    "print(suma_acumulada([1,3]))"
   ]
  },
  {
   "cell_type": "markdown",
   "id": "09b53aed",
   "metadata": {},
   "source": [
    "Ejercicio 10"
   ]
  },
  {
   "cell_type": "code",
   "execution_count": 6,
   "id": "d81637c3",
   "metadata": {},
   "outputs": [
    {
     "name": "stdout",
     "output_type": "stream",
     "text": [
      "[[1, 2], [1, 3], [2, 3]]\n",
      "[[1, 2], [1, 3], [1, 4], [2, 3], [2, 4], [3, 4]]\n"
     ]
    }
   ],
   "source": [
    "def parejas(lista):\n",
    "    out = []\n",
    "    pareja = []\n",
    "    \n",
    "    for i in range(0, len(lista)):\n",
    "        for j in range(i+1, len(lista)):\n",
    "            pareja = [lista[i], lista[j]]\n",
    "            \n",
    "            if(pareja not in out):\n",
    "                out.append(pareja)\n",
    "    \n",
    "    return out \n",
    "\n",
    "print(parejas([1,2,3]))\n",
    "print(parejas([1,2,3,4]))"
   ]
  },
  {
   "cell_type": "markdown",
   "id": "80353be2",
   "metadata": {},
   "source": [
    "Ejercicio 11"
   ]
  },
  {
   "cell_type": "code",
   "execution_count": 10,
   "id": "259baf67",
   "metadata": {},
   "outputs": [
    {
     "name": "stdout",
     "output_type": "stream",
     "text": [
      "cohete\n"
     ]
    }
   ],
   "source": [
    "def cadena_mas_larga(cadenas):\n",
    "    larga = ''\n",
    "    max_len = 0\n",
    "    \n",
    "    for cad in cadenas:\n",
    "        new_len = len(cad)\n",
    "        if(new_len > max_len):\n",
    "            max_len = new_len\n",
    "            larga = cad\n",
    "    \n",
    "    return larga\n",
    "\n",
    "\n",
    "print(cadena_mas_larga(['casa','gatos','cohete']))"
   ]
  },
  {
   "cell_type": "markdown",
   "id": "11cb3e9f",
   "metadata": {},
   "source": [
    "Ejercicio 12"
   ]
  },
  {
   "cell_type": "code",
   "execution_count": 12,
   "id": "bad3a339",
   "metadata": {},
   "outputs": [
    {
     "name": "stdout",
     "output_type": "stream",
     "text": [
      "3\n",
      "5\n"
     ]
    }
   ],
   "source": [
    "def suma_primer_digito(numeros):\n",
    "    suma = 0\n",
    "    \n",
    "    #Lo convierto en un string y luego vuelve a ser int\n",
    "    for num in numeros:\n",
    "        num = str(num)\n",
    "        primero = int(num[0])\n",
    "        \n",
    "        suma = suma + primero\n",
    "        \n",
    "    return suma\n",
    "\n",
    "print(suma_primer_digito([12,123,1234]))\n",
    "print(suma_primer_digito([22,323]))"
   ]
  },
  {
   "cell_type": "markdown",
   "id": "fd3de67f",
   "metadata": {},
   "source": [
    "Ejercicio 13"
   ]
  },
  {
   "cell_type": "code",
   "execution_count": 19,
   "id": "616cac4c",
   "metadata": {},
   "outputs": [
    {
     "name": "stdout",
     "output_type": "stream",
     "text": [
      "[[[0, 1], [3, 5], [4, 4]], 8]\n"
     ]
    }
   ],
   "source": [
    "def dispersa(v):\n",
    "    no_nulos = []\n",
    "    out = []\n",
    "    \n",
    "    for i in range(len(v)):\n",
    "        if(v[i] != 0):\n",
    "            valor = [i, v[i]]\n",
    "            no_nulos.append(valor)\n",
    "    \n",
    "    out.append(no_nulos)\n",
    "    out.append(len(v))\n",
    "    \n",
    "    return out\n",
    "            \n",
    "\n",
    "\n",
    "print(dispersa([1,0,0,5,4,0,0,0]))"
   ]
  },
  {
   "cell_type": "markdown",
   "id": "535f3608",
   "metadata": {},
   "source": [
    "Ejercicio 14"
   ]
  },
  {
   "cell_type": "code",
   "execution_count": 20,
   "id": "352563f9",
   "metadata": {},
   "outputs": [
    {
     "name": "stdout",
     "output_type": "stream",
     "text": [
      "Se saca la carta número: 42\n",
      "Se saca la carta número: 10\n",
      "Se saca la carta número: 11\n",
      "Se saca la carta número: 4\n",
      "Se saca la carta número: 17\n",
      "Se saca la carta número: 19\n",
      "Se saca la carta número: 3\n",
      "Se saca la carta número: 20\n",
      "Se saca la carta número: 37\n",
      "Se saca la carta número: 29\n",
      "Se saca la carta número: 24\n",
      "Se saca la carta número: 35\n",
      "Se saca la carta número: 14\n",
      "Se saca la carta número: 2\n",
      "Se saca la carta número: 13\n",
      "Se saca la carta número: 21\n",
      "Se saca la carta número: 8\n",
      "Se saca la carta número: 9\n",
      "Se saca la carta número: 27\n",
      "Se saca la carta número: 47\n",
      "Se saca la carta número: 23\n",
      "Se saca la carta número: 30\n",
      "Se saca la carta número: 39\n",
      "Se saca la carta número: 1\n",
      "Se saca la carta número: 46\n",
      "Se saca la carta número: 38\n",
      "Se saca la carta número: 26\n",
      "Se saca la carta número: 45\n",
      "Se saca la carta número: 34\n",
      "Se saca la carta número: 33\n",
      "Se saca la carta número: 48\n",
      "Se saca la carta número: 25\n",
      "Se saca la carta número: 5\n",
      "Se saca la carta número: 31\n",
      "Se saca la carta número: 15\n",
      "Se saca la carta número: 49\n",
      "Se saca la carta número: 40\n",
      "Se saca la carta número: 16\n",
      "Se saca la carta número: 32\n",
      "Se saca la carta número: 7\n",
      "Se saca la carta número: 6\n",
      "Se saca la carta número: 44\n",
      "Se saca la carta número: 41\n",
      "Se saca la carta número: 43\n",
      "Se saca la carta número: 12\n",
      "Se saca la carta número: 36\n",
      "Se saca la carta número: 18\n",
      "Se saca la carta número: 28\n",
      "Se saca la carta número: 22\n"
     ]
    }
   ],
   "source": [
    "import random\n",
    "\n",
    "def sacar_carta(baraja):\n",
    "    while(len(baraja) != 0):\n",
    "        pos_elimina = random.randrange(len(baraja))\n",
    "        carta = baraja[pos_elimina]\n",
    "        \n",
    "        baraja.pop(pos_elimina)\n",
    "        print(\"Se saca la carta número: \" + str(carta))\n",
    "    \n",
    "\n",
    "baraja = list(range(1,50))\n",
    "sacar_carta(baraja) "
   ]
  },
  {
   "cell_type": "code",
   "execution_count": null,
   "id": "c65136db",
   "metadata": {},
   "outputs": [],
   "source": []
  }
 ],
 "metadata": {
  "kernelspec": {
   "display_name": "Python 3 (ipykernel)",
   "language": "python",
   "name": "python3"
  },
  "language_info": {
   "codemirror_mode": {
    "name": "ipython",
    "version": 3
   },
   "file_extension": ".py",
   "mimetype": "text/x-python",
   "name": "python",
   "nbconvert_exporter": "python",
   "pygments_lexer": "ipython3",
   "version": "3.9.12"
  }
 },
 "nbformat": 4,
 "nbformat_minor": 5
}
