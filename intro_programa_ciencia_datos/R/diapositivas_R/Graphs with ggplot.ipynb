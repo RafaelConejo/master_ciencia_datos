{
 "cells": [
  {
   "cell_type": "markdown",
   "metadata": {},
   "source": [
    "# Graphics in R: ggplot\n",
    "\n",
    "_Rocio Romero Zaliz_ - rocio@decsai.ugr.es"
   ]
  },
  {
   "cell_type": "markdown",
   "metadata": {},
   "source": [
    "## Bibliography & References\n",
    "* <a ref=\"http://vita.had.co.nz/papers/layered-grammar.pdf\">The Layered Grammar of Graphics</a>. Hadley Wickham. Journal of Computational and Graphical Statistics, Volume 19, Number 1, Pages 3–28 DOI: 10.1198/jcgs.2009.07098.\n",
    "* R graphics. Paul Murrell. Computer Science and Data Analysis Series. Chapman & Hall/CRC. 2006.\n",
    "* http://www.r-bloggers.com\n",
    "* http://www.statmethods.net\n",
    "* http://www.cookbook-r.com/"
   ]
  },
  {
   "cell_type": "markdown",
   "metadata": {},
   "source": [
    "## Basics\n",
    "\n",
    "* Plots have:\n",
    "    + data and aesthetic mappings,\n",
    "    + geometric objects,\n",
    "    + scales,\n",
    "    + statistical transformations, and\n",
    "    + a coordinate system\n",
    "* Plots may have several layers\n",
    "* Plots can be assigned to variables\n",
    "* `ggplot2` use full datasets and not individual vectors as base graphics do"
   ]
  },
  {
   "cell_type": "code",
   "execution_count": 2,
   "metadata": {
    "scrolled": true
   },
   "outputs": [
    {
     "ename": "ERROR",
     "evalue": "Error: package or namespace load failed for 'ggplot2' in loadNamespace(i, c(lib.loc, .libPaths()), versionCheck = vI[[i]]):\n there is no package called 'lifecycle'\n",
     "output_type": "error",
     "traceback": [
      "Error: package or namespace load failed for 'ggplot2' in loadNamespace(i, c(lib.loc, .libPaths()), versionCheck = vI[[i]]):\n there is no package called 'lifecycle'\nTraceback:\n",
      "1. library(ggplot2)",
      "2. tryCatch({\n .     attr(package, \"LibPath\") <- which.lib.loc\n .     ns <- loadNamespace(package, lib.loc)\n .     env <- attachNamespace(ns, pos = pos, deps, exclude, include.only)\n . }, error = function(e) {\n .     P <- if (!is.null(cc <- conditionCall(e))) \n .         paste(\" in\", deparse(cc)[1L])\n .     else \"\"\n .     msg <- gettextf(\"package or namespace load failed for %s%s:\\n %s\", \n .         sQuote(package), P, conditionMessage(e))\n .     if (logical.return) \n .         message(paste(\"Error:\", msg), domain = NA)\n .     else stop(msg, call. = FALSE, domain = NA)\n . })",
      "3. tryCatchList(expr, classes, parentenv, handlers)",
      "4. tryCatchOne(expr, names, parentenv, handlers[[1L]])",
      "5. value[[3L]](cond)",
      "6. stop(msg, call. = FALSE, domain = NA)"
     ]
    }
   ],
   "source": [
    "# Load library\n",
    "library(ggplot2)\n",
    "\n",
    "# Example dataset\n",
    "diamonds"
   ]
  },
  {
   "cell_type": "code",
   "execution_count": null,
   "metadata": {},
   "outputs": [],
   "source": [
    "help(diamonds)"
   ]
  },
  {
   "cell_type": "code",
   "execution_count": 2,
   "metadata": {
    "scrolled": true
   },
   "outputs": [
    {
     "data": {
      "text/plain": [
       "     carat               cut        color        clarity          depth      \n",
       " Min.   :0.2000   Fair     : 1610   D: 6775   SI1    :13065   Min.   :43.00  \n",
       " 1st Qu.:0.4000   Good     : 4906   E: 9797   VS2    :12258   1st Qu.:61.00  \n",
       " Median :0.7000   Very Good:12082   F: 9542   SI2    : 9194   Median :61.80  \n",
       " Mean   :0.7979   Premium  :13791   G:11292   VS1    : 8171   Mean   :61.75  \n",
       " 3rd Qu.:1.0400   Ideal    :21551   H: 8304   VVS2   : 5066   3rd Qu.:62.50  \n",
       " Max.   :5.0100                     I: 5422   VVS1   : 3655   Max.   :79.00  \n",
       "                                    J: 2808   (Other): 2531                  \n",
       "     table           price             x                y         \n",
       " Min.   :43.00   Min.   :  326   Min.   : 0.000   Min.   : 0.000  \n",
       " 1st Qu.:56.00   1st Qu.:  950   1st Qu.: 4.710   1st Qu.: 4.720  \n",
       " Median :57.00   Median : 2401   Median : 5.700   Median : 5.710  \n",
       " Mean   :57.46   Mean   : 3933   Mean   : 5.731   Mean   : 5.735  \n",
       " 3rd Qu.:59.00   3rd Qu.: 5324   3rd Qu.: 6.540   3rd Qu.: 6.540  \n",
       " Max.   :95.00   Max.   :18823   Max.   :10.740   Max.   :58.900  \n",
       "                                                                  \n",
       "       z         \n",
       " Min.   : 0.000  \n",
       " 1st Qu.: 2.910  \n",
       " Median : 3.530  \n",
       " Mean   : 3.539  \n",
       " 3rd Qu.: 4.040  \n",
       " Max.   :31.800  \n",
       "                 "
      ]
     },
     "metadata": {},
     "output_type": "display_data"
    }
   ],
   "source": [
    "summary(diamonds)"
   ]
  },
  {
   "cell_type": "code",
   "execution_count": 3,
   "metadata": {
    "scrolled": false
   },
   "outputs": [
    {
     "data": {
      "image/png": "[encoded data removed]",
      "text/plain": [
       "plot without title"
      ]
     },
     "metadata": {},
     "output_type": "display_data"
    }
   ],
   "source": [
    "# Start ggplot\n",
    "# The aes() function is used to specify the X and Y axes\n",
    "ggplot(data=diamonds, mapping=aes(x=carat, y=price)) "
   ]
  },
  {
   "cell_type": "code",
   "execution_count": null,
   "metadata": {},
   "outputs": [],
   "source": [
    "?aes"
   ]
  },
  {
   "cell_type": "markdown",
   "metadata": {},
   "source": [
    "# Scatterplots"
   ]
  },
  {
   "cell_type": "code",
   "execution_count": 4,
   "metadata": {},
   "outputs": [
    {
     "data": {
      "image/png": "[encoded data removed]",
      "text/plain": [
       "plot without title"
      ]
     },
     "metadata": {},
     "output_type": "display_data"
    }
   ],
   "source": [
    "ggplot(diamonds, aes(x=carat, y=price)) + geom_point()"
   ]
  },
  {
   "cell_type": "markdown",
   "metadata": {},
   "source": [
    "### Export plots\n",
    "\n",
    "* PDF\n",
    "* PNG\n",
    "* SVG\n",
    "* JPEG\n",
    "* BMP\n",
    "* TIFF"
   ]
  },
  {
   "cell_type": "code",
   "execution_count": null,
   "metadata": {},
   "outputs": [],
   "source": [
    "pdf(\"archivo1.pdf\")\n",
    "# R sentences\n",
    "ggplot(diamonds, aes(x=carat, y=price)) + geom_point()\n",
    "dev.off()"
   ]
  },
  {
   "cell_type": "code",
   "execution_count": null,
   "metadata": {},
   "outputs": [],
   "source": [
    "ggsave(\"archivo2.pdf\")"
   ]
  },
  {
   "cell_type": "code",
   "execution_count": null,
   "metadata": {},
   "outputs": [],
   "source": [
    "?ggsave"
   ]
  },
  {
   "cell_type": "markdown",
   "metadata": {},
   "source": [
    "### Tuning plots"
   ]
  },
  {
   "cell_type": "code",
   "execution_count": 5,
   "metadata": {
    "scrolled": false
   },
   "outputs": [
    {
     "data": {
      "image/png": "[encoded data removed]",
      "text/plain": [
       "plot without title"
      ]
     },
     "metadata": {},
     "output_type": "display_data"
    }
   ],
   "source": [
    "ggplot(diamonds, aes(x=carat, y=price)) + \n",
    "    geom_point() + \n",
    "    labs(title=\"Diamonds\", subtitle=\"Pay the price!\", x=\"Weight of the diamond\", y=\"Price in US dollars\", caption=\"Fig. 1\")"
   ]
  },
  {
   "cell_type": "code",
   "execution_count": 6,
   "metadata": {},
   "outputs": [
    {
     "data": {
      "image/png": "[encoded data removed]",
      "text/plain": [
       "plot without title"
      ]
     },
     "metadata": {},
     "output_type": "display_data"
    }
   ],
   "source": [
    "ggplot(diamonds, aes(x=carat, y=price)) +\n",
    "    geom_point(color=\"red\", size=1) +\n",
    "    labs(title=\"Diamonds\", subtitle=\"Pay the price!\", x=\"Weight of the diamond\", y=\"Price in US dollars\", caption=\"Fig. 1\")"
   ]
  },
  {
   "cell_type": "code",
   "execution_count": 7,
   "metadata": {},
   "outputs": [
    {
     "data": {
      "image/png": "[encoded data removed]",
      "text/plain": [
       "plot without title"
      ]
     },
     "metadata": {},
     "output_type": "display_data"
    }
   ],
   "source": [
    "ggplot(diamonds, aes(x=carat, y=price, color=cut)) +\n",
    "    geom_point(size=2) +\n",
    "    labs(title=\"Diamonds\", subtitle=\"Pay the price!\", x=\"Weight of the diamond\", y=\"Price in US dollars\", caption=\"Fig. 1\", color=\"Quality of the cut\")"
   ]
  },
  {
   "cell_type": "code",
   "execution_count": 8,
   "metadata": {},
   "outputs": [
    {
     "data": {
      "image/png": "[encoded data removed]",
      "text/plain": [
       "plot without title"
      ]
     },
     "metadata": {},
     "output_type": "display_data"
    }
   ],
   "source": [
    "ggplot(diamonds, aes(x=carat, y=price, color=cut, size=clarity)) +\n",
    "    geom_point() +\n",
    "    labs(title=\"Diamonds\", subtitle=\"Pay the price!\", x=\"Weight of the diamond\", y=\"Price in US dollars\", caption=\"Fig. 1\", color=\"Quality of the cut\", size=\"How clear is\")"
   ]
  },
  {
   "cell_type": "code",
   "execution_count": 1,
   "metadata": {},
   "outputs": [
    {
     "ename": "ERROR",
     "evalue": "Error in ggplot(diamonds, aes(x = carat, y = price, color = cut, size = clarity)): no se pudo encontrar la función \"ggplot\"\n",
     "output_type": "error",
     "traceback": [
      "Error in ggplot(diamonds, aes(x = carat, y = price, color = cut, size = clarity)): no se pudo encontrar la función \"ggplot\"\nTraceback:\n"
     ]
    }
   ],
   "source": [
    "ggplot(diamonds, aes(x=carat, y=price, color=cut, size=clarity)) +\n",
    "    geom_point() +\n",
    "    labs(title=\"Diamonds\", subtitle=\"Pay the price!\", x=\"Weight of the diamond\", y=\"Price in US dollars\", caption=\"Fig. 1\", color=\"Quality of the cut\", size=\"How clear is\") +\n",
    "    scale_colour_brewer(palette = \"Blues\")"
   ]
  },
  {
   "cell_type": "code",
   "execution_count": null,
   "metadata": {},
   "outputs": [],
   "source": [
    "library(RColorBrewer)\n",
    "brewer.pal.info"
   ]
  },
  {
   "cell_type": "code",
   "execution_count": null,
   "metadata": {},
   "outputs": [],
   "source": [
    "ggplot(diamonds, aes(x=carat, y=price, color=cut, size=clarity)) +\n",
    "    geom_point() +\n",
    "    labs(title=\"Diamonds\", subtitle=\"Pay the price!\", x=\"Weight of the diamond\", y=\"Price in US dollars\", caption=\"Fig. 1\", color=\"Quality of the cut\", size=\"How clear is\") +\n",
    "    scale_colour_brewer(palette = \"Oranges\") +\n",
    "    scale_x_continuous(breaks=seq(0, 5, 0.5)) +\n",
    "    scale_y_continuous(breaks=seq(0, 20000, 1000))"
   ]
  },
  {
   "cell_type": "code",
   "execution_count": null,
   "metadata": {},
   "outputs": [],
   "source": [
    "ggplot(diamonds, aes(x=carat, y=price, color=cut, size=clarity)) +\n",
    "    geom_point() +\n",
    "    labs(title=\"Diamonds\", subtitle=\"Pay the price!\", x=\"Weight of the diamond\", y=\"Price in US dollars\", caption=\"Fig. 1\", color=\"Quality of the cut\", size=\"How clear is\") +\n",
    "    scale_colour_brewer(palette = \"Oranges\") +\n",
    "    scale_x_continuous(breaks=seq(0, 5, 0.5), labels = letters[1:11]) +\n",
    "    scale_y_continuous(breaks=seq(0, 20000, 1000))"
   ]
  },
  {
   "cell_type": "code",
   "execution_count": null,
   "metadata": {},
   "outputs": [],
   "source": [
    "ggplot(diamonds, aes(x=carat, y=price, color=cut, size=clarity)) +\n",
    "    geom_point() +\n",
    "    labs(title=\"Diamonds\", subtitle=\"Pay the price!\", x=\"Weight of the diamond\", y=\"Price in US dollars\", caption=\"Fig. 1\", color=\"Quality of the cut\", size=\"How clear is\") +\n",
    "    scale_colour_brewer(palette = \"Oranges\") +\n",
    "    scale_x_continuous(breaks=seq(0, 5, 0.5), labels = letters[1:11]) +\n",
    "    scale_y_continuous(breaks=seq(0, 20000, 1000)) +\n",
    "    geom_text(aes(label=x))"
   ]
  },
  {
   "cell_type": "code",
   "execution_count": null,
   "metadata": {},
   "outputs": [],
   "source": [
    "ggplot(diamonds, aes(x=carat, y=price, size=clarity)) +\n",
    "    geom_point(aes(color=cut)) +\n",
    "    labs(title=\"Diamonds\", subtitle=\"Pay the price!\", x=\"Weight of the diamond\", y=\"Price in US dollars\", caption=\"Fig. 1\", color=\"Quality of the cut\", size=\"How clear is\") +\n",
    "    scale_colour_brewer(palette = \"Oranges\") +\n",
    "    scale_x_continuous(breaks=seq(0, 5, 0.5), labels = letters[1:11]) +\n",
    "    scale_y_continuous(breaks=seq(0, 20000, 1000)) +\n",
    "    geom_text(aes(label=x))"
   ]
  },
  {
   "cell_type": "code",
   "execution_count": null,
   "metadata": {},
   "outputs": [],
   "source": [
    "ggplot(diamonds, aes(x=carat, y=price, size=clarity)) +\n",
    "    geom_point(aes(color=cut)) +\n",
    "    labs(title=\"Diamonds\", subtitle=\"Pay the price!\", x=\"Weight of the diamond\", y=\"Price in US dollars\", caption=\"Fig. 1\", color=\"Quality of the cut\", size=\"How clear is\") +\n",
    "    scale_colour_brewer(palette = \"Oranges\") +\n",
    "    scale_x_continuous(breaks=seq(0, 5, 0.5), labels = letters[1:11]) +\n",
    "    scale_y_continuous(breaks=seq(0, 20000, 1000)) +\n",
    "    geom_text(data=subset(diamonds, price > 10000),\n",
    "            aes(x=carat, y=price, label=price))"
   ]
  },
  {
   "cell_type": "code",
   "execution_count": null,
   "metadata": {},
   "outputs": [],
   "source": [
    "ggplot(diamonds, aes(x=carat, y=price, size=clarity, shape=color)) +\n",
    "    geom_point(aes(color=cut)) +\n",
    "    labs(title=\"Diamonds\", subtitle=\"Pay the price!\", x=\"Weight of the diamond\", y=\"Price in US dollars\", caption=\"Fig. 1\", color=\"Quality of the cut\", size=\"How clear is\", shape=\"Color\") +\n",
    "    scale_colour_brewer(palette = \"Oranges\") +\n",
    "    scale_x_continuous(breaks=seq(0, 5, 0.5), labels = letters[1:11]) +\n",
    "    scale_y_continuous(breaks=seq(0, 20000, 1000))"
   ]
  },
  {
   "cell_type": "code",
   "execution_count": null,
   "metadata": {},
   "outputs": [],
   "source": [
    "sum(diamonds$color == 'J')"
   ]
  },
  {
   "cell_type": "code",
   "execution_count": null,
   "metadata": {},
   "outputs": [],
   "source": [
    "ggplot(diamonds, aes(x=carat, y=price, size=clarity, shape=cut)) +\n",
    "    geom_point(aes(color=color)) +\n",
    "    labs(title=\"Diamonds\", subtitle=\"Pay the price!\", x=\"Weight of the diamond\", y=\"Price in US dollars\", caption=\"Fig. 1\", shape=\"Quality of the cut\", size=\"How clear is\", color=\"Color\") +\n",
    "    scale_colour_brewer(palette = \"Oranges\") +\n",
    "    scale_x_continuous(breaks=seq(0, 5, 0.5), labels = letters[1:11]) +\n",
    "    scale_y_continuous(breaks=seq(0, 20000, 1000))"
   ]
  },
  {
   "cell_type": "code",
   "execution_count": null,
   "metadata": {},
   "outputs": [],
   "source": [
    "diamonds$cut"
   ]
  },
  {
   "cell_type": "code",
   "execution_count": null,
   "metadata": {},
   "outputs": [],
   "source": [
    "ggplot(diamonds, aes(x=carat, y=price, size=clarity, shape=as.character(cut))) +\n",
    "    geom_point(aes(color=color)) +\n",
    "    labs(title=\"Diamonds\", subtitle=\"Pay the price!\", x=\"Weight of the diamond\", y=\"Price in US dollars\", caption=\"Fig. 1\", shape=\"Quality of the cut\", size=\"How clear is\", color=\"Color\") +\n",
    "    scale_colour_brewer(palette = \"Oranges\") +\n",
    "    scale_x_continuous(breaks=seq(0, 5, 0.5), labels = letters[1:11]) +\n",
    "    scale_y_continuous(breaks=seq(0, 20000, 1000))"
   ]
  },
  {
   "cell_type": "markdown",
   "metadata": {},
   "source": [
    "## Facetting"
   ]
  },
  {
   "cell_type": "code",
   "execution_count": null,
   "metadata": {
    "scrolled": false
   },
   "outputs": [],
   "source": [
    "p <- ggplot(diamonds, aes(x=carat, y=price, size=clarity)) +\n",
    "         geom_point(aes(color=cut)) +\n",
    "         labs(title=\"Diamonds\", subtitle=\"Pay the price!\", x=\"Weight of the diamond\", y=\"Price in US dollars\", caption=\"Fig. 1\", color=\"Quality of the cut\", size=\"How clear is\", shape=\"Color\") +\n",
    "         scale_colour_brewer(palette = \"Oranges\")\n",
    "p"
   ]
  },
  {
   "cell_type": "code",
   "execution_count": null,
   "metadata": {},
   "outputs": [],
   "source": [
    "?formula"
   ]
  },
  {
   "cell_type": "code",
   "execution_count": null,
   "metadata": {
    "scrolled": false
   },
   "outputs": [],
   "source": [
    "p + facet_wrap(~ cut)"
   ]
  },
  {
   "cell_type": "code",
   "execution_count": null,
   "metadata": {},
   "outputs": [],
   "source": [
    "p + facet_wrap(~ cut, nrow=3)"
   ]
  },
  {
   "cell_type": "code",
   "execution_count": null,
   "metadata": {
    "scrolled": false
   },
   "outputs": [],
   "source": [
    "# Dangerous!!!!\n",
    "p + facet_wrap(~ cut, nrow=3, scales = \"free\")"
   ]
  },
  {
   "cell_type": "code",
   "execution_count": null,
   "metadata": {},
   "outputs": [],
   "source": [
    "p + facet_wrap(~ cut + clarity)"
   ]
  },
  {
   "cell_type": "markdown",
   "metadata": {},
   "source": [
    "## Histograms"
   ]
  },
  {
   "cell_type": "code",
   "execution_count": null,
   "metadata": {},
   "outputs": [],
   "source": [
    "q <- ggplot(diamonds, aes(x=carat)) +\n",
    "         labs(title=\"Diamonds\", subtitle=\"Pay the price!\", x=\"Weight of the diamond \", caption=\"Fig. 1\") +\n",
    "         scale_colour_brewer(palette = \"Oranges\")\n",
    "q"
   ]
  },
  {
   "cell_type": "code",
   "execution_count": null,
   "metadata": {},
   "outputs": [],
   "source": [
    "q + geom_histogram()"
   ]
  },
  {
   "cell_type": "code",
   "execution_count": null,
   "metadata": {},
   "outputs": [],
   "source": [
    "q + geom_histogram(bins = 10)"
   ]
  },
  {
   "cell_type": "code",
   "execution_count": null,
   "metadata": {},
   "outputs": [],
   "source": [
    "q + geom_histogram(binwidth = 2)"
   ]
  },
  {
   "cell_type": "code",
   "execution_count": null,
   "metadata": {},
   "outputs": [],
   "source": [
    "q + geom_histogram(color=\"red\", fill=\"blue\", bins = 15)"
   ]
  },
  {
   "cell_type": "markdown",
   "metadata": {},
   "source": [
    "## Boxplots"
   ]
  },
  {
   "cell_type": "code",
   "execution_count": null,
   "metadata": {},
   "outputs": [],
   "source": [
    "summary(diamonds)"
   ]
  },
  {
   "cell_type": "code",
   "execution_count": null,
   "metadata": {},
   "outputs": [],
   "source": [
    "ggplot(diamonds, aes(x=carat)) +\n",
    "    geom_boxplot()"
   ]
  },
  {
   "cell_type": "code",
   "execution_count": null,
   "metadata": {},
   "outputs": [],
   "source": [
    "ggplot(diamonds, aes(x=carat)) +\n",
    "    geom_boxplot() + coord_flip()"
   ]
  },
  {
   "cell_type": "code",
   "execution_count": null,
   "metadata": {
    "scrolled": true
   },
   "outputs": [],
   "source": [
    "library(tidyr)\n",
    "\n",
    "ndiamonds <- diamonds %>% pivot_longer(cols=c(x, y, z))\n",
    "ndiamonds"
   ]
  },
  {
   "cell_type": "code",
   "execution_count": null,
   "metadata": {},
   "outputs": [],
   "source": [
    "ggplot(ndiamonds, aes(x=name, y=value)) +\n",
    "    geom_boxplot()"
   ]
  },
  {
   "cell_type": "code",
   "execution_count": null,
   "metadata": {},
   "outputs": [],
   "source": [
    "ggplot(ndiamonds, aes(x=name, y=value)) +\n",
    "    geom_boxplot(aes(fill=name))"
   ]
  },
  {
   "cell_type": "code",
   "execution_count": null,
   "metadata": {},
   "outputs": [],
   "source": [
    "ggplot(ndiamonds, aes(x=name, y=value)) + \n",
    "    geom_boxplot(aes(fill=name)) +\n",
    "    facet_wrap(~ cut)"
   ]
  },
  {
   "cell_type": "code",
   "execution_count": null,
   "metadata": {},
   "outputs": [],
   "source": [
    "ggplot(ndiamonds, aes(x=name, y=value)) + \n",
    "    geom_boxplot(aes(fill=name)) +\n",
    "    facet_wrap(~ cut + color)"
   ]
  },
  {
   "cell_type": "code",
   "execution_count": null,
   "metadata": {},
   "outputs": [],
   "source": [
    "ggplot(ndiamonds, aes(x=name, y=value)) + \n",
    "    geom_boxplot(aes(fill=name), outlier.shape = NA) +\n",
    "    facet_wrap(~ cut)"
   ]
  },
  {
   "cell_type": "code",
   "execution_count": null,
   "metadata": {},
   "outputs": [],
   "source": [
    "ggplot(ndiamonds, aes(x=name, y=value)) + \n",
    "    geom_boxplot(aes(fill=name), outlier.shape = NA) +\n",
    "    facet_wrap( ~ cut) +\n",
    "    scale_y_continuous(limits = c(0, 10))"
   ]
  },
  {
   "cell_type": "code",
   "execution_count": null,
   "metadata": {},
   "outputs": [],
   "source": [
    "ggplot(ndiamonds, aes(x=name, y=value)) + \n",
    "    geom_boxplot(aes(fill=name), outlier.shape = NA) +\n",
    "    facet_wrap( ~ cut) +\n",
    "    coord_cartesian(ylim=c(0,10))"
   ]
  },
  {
   "cell_type": "markdown",
   "metadata": {},
   "source": [
    "## Line plots"
   ]
  },
  {
   "cell_type": "code",
   "execution_count": null,
   "metadata": {},
   "outputs": [],
   "source": [
    "# It does not make sense...\n",
    "ggplot(diamonds, aes(x=carat, y=price)) + geom_line()"
   ]
  },
  {
   "cell_type": "code",
   "execution_count": null,
   "metadata": {
    "scrolled": true
   },
   "outputs": [],
   "source": [
    "library(tidyverse)\n",
    "\n",
    "ndiamonds <- diamonds %>% group_by(carat) %>% \n",
    "    mutate(max_price_carat=max(price)) %>%\n",
    "    mutate(min_price_carat=min(price))\n",
    "ndiamonds"
   ]
  },
  {
   "cell_type": "code",
   "execution_count": null,
   "metadata": {},
   "outputs": [],
   "source": [
    "ggplot(ndiamonds, aes(x=carat, y=max_price_carat)) + geom_line()"
   ]
  },
  {
   "cell_type": "code",
   "execution_count": null,
   "metadata": {},
   "outputs": [],
   "source": [
    "ggplot(ndiamonds, aes(x=carat, y=min_price_carat)) + geom_line()"
   ]
  },
  {
   "cell_type": "code",
   "execution_count": null,
   "metadata": {},
   "outputs": [],
   "source": [
    "ggplot(ndiamonds, aes(x=carat)) + \n",
    "    geom_line(aes(y=max_price_carat)) +\n",
    "    geom_line(aes(y=min_price_carat))"
   ]
  },
  {
   "cell_type": "code",
   "execution_count": null,
   "metadata": {},
   "outputs": [],
   "source": [
    "ggplot(ndiamonds, aes(x=carat, color=\"red\")) + \n",
    "    geom_line(aes(y=max_price_carat)) +\n",
    "    geom_line(aes(y=min_price_carat))"
   ]
  },
  {
   "cell_type": "code",
   "execution_count": null,
   "metadata": {},
   "outputs": [],
   "source": [
    "ggplot(ndiamonds, aes(x=carat)) + \n",
    "    geom_line(aes(y=max_price_carat), color=\"red\") +\n",
    "    geom_line(aes(y=min_price_carat), color=\"blue\")"
   ]
  },
  {
   "cell_type": "code",
   "execution_count": null,
   "metadata": {},
   "outputs": [],
   "source": [
    "ggplot(ndiamonds, aes(x=carat)) + \n",
    "    geom_line(aes(y=max_price_carat), color=\"red\", linetype=\"dotted\") +\n",
    "    geom_line(aes(y=min_price_carat), color=\"blue\", linetype=\"dashed\")"
   ]
  },
  {
   "cell_type": "code",
   "execution_count": null,
   "metadata": {},
   "outputs": [],
   "source": [
    "ndiamonds <- ndiamonds %>% pivot_longer(cols=c(max_price_carat, min_price_carat))\n",
    "ndiamonds"
   ]
  },
  {
   "cell_type": "code",
   "execution_count": null,
   "metadata": {},
   "outputs": [],
   "source": [
    "ggplot(ndiamonds, aes(x=carat, y=value, group=name, linetype=name, color=name)) +\n",
    "    geom_line()"
   ]
  },
  {
   "cell_type": "markdown",
   "metadata": {},
   "source": [
    "## Bar plots"
   ]
  },
  {
   "cell_type": "code",
   "execution_count": null,
   "metadata": {},
   "outputs": [],
   "source": [
    "ggplot(diamonds, aes(x=cut)) + geom_bar()"
   ]
  },
  {
   "cell_type": "code",
   "execution_count": null,
   "metadata": {},
   "outputs": [],
   "source": [
    "diamonds %>% count(cut)"
   ]
  },
  {
   "cell_type": "code",
   "execution_count": null,
   "metadata": {},
   "outputs": [],
   "source": [
    "ggplot(diamonds, aes(x=cut, fill=color)) + geom_bar()"
   ]
  },
  {
   "cell_type": "code",
   "execution_count": null,
   "metadata": {},
   "outputs": [],
   "source": [
    "ggplot(diamonds, aes(x=cut, fill=color)) + geom_bar(position = \"dodge\")"
   ]
  },
  {
   "cell_type": "code",
   "execution_count": null,
   "metadata": {},
   "outputs": [],
   "source": [
    "ggplot(diamonds, aes(x=cut, y=price)) + geom_bar(stat=\"identity\") # Warning! Summing up prices!\n",
    "ggplot(diamonds, aes(x=cut, y=price)) + geom_col() # Same!"
   ]
  },
  {
   "cell_type": "code",
   "execution_count": null,
   "metadata": {},
   "outputs": [],
   "source": [
    "diamonds %>% select(cut, price) %>% add_count(cut) %>% group_by(cut, n) %>% \n",
    "    summarize(sprice = sum(price)) "
   ]
  },
  {
   "cell_type": "code",
   "execution_count": null,
   "metadata": {},
   "outputs": [],
   "source": [
    "ndiamonds <- diamonds %>% group_by(cut) %>% \n",
    "    mutate(max_price=max(price))\n",
    "\n",
    "ggplot(ndiamonds, aes(x=cut, y=max_price)) + geom_col()"
   ]
  },
  {
   "cell_type": "code",
   "execution_count": null,
   "metadata": {},
   "outputs": [],
   "source": [
    "ggplot(ndiamonds %>% select(cut, max_price) %>% unique(), aes(x=cut, y=max_price)) + geom_col()"
   ]
  },
  {
   "cell_type": "code",
   "execution_count": null,
   "metadata": {},
   "outputs": [],
   "source": [
    "ggplot(ndiamonds %>% select(cut, color, max_price) %>% unique(), aes(x=cut, y=max_price, fill=color)) +\n",
    "    geom_col(color=\"black\")"
   ]
  },
  {
   "cell_type": "code",
   "execution_count": null,
   "metadata": {},
   "outputs": [],
   "source": [
    "ggplot(ndiamonds, aes(x=cut, y=max_price, fill=color)) + geom_col()"
   ]
  },
  {
   "cell_type": "code",
   "execution_count": null,
   "metadata": {},
   "outputs": [],
   "source": [
    "ggplot(ndiamonds, aes(x=cut, y=max_price, fill=color)) + geom_col(colour=\"black\")"
   ]
  },
  {
   "cell_type": "code",
   "execution_count": null,
   "metadata": {},
   "outputs": [],
   "source": [
    "ggplot(ndiamonds, aes(x=cut, y=max_price, fill=color)) + geom_col(position = \"dodge\")"
   ]
  },
  {
   "cell_type": "code",
   "execution_count": null,
   "metadata": {},
   "outputs": [],
   "source": [
    "ggplot(ndiamonds, aes(x=cut, y=max_price, fill=color)) + geom_col(position = \"dodge\", colour=\"black\")"
   ]
  },
  {
   "cell_type": "markdown",
   "metadata": {},
   "source": [
    "# Customizing plots\n",
    "\n",
    "* Use of \"themes\"\n",
    "\n",
    "`theme(line, rect, text, title, aspect.ratio, axis.title, axis.title.x,\n",
    "  axis.title.x.top, axis.title.x.bottom, axis.title.y, axis.title.y.left,\n",
    "  axis.title.y.right, axis.text, axis.text.x, axis.text.x.top,\n",
    "  axis.text.x.bottom, axis.text.y, axis.text.y.left, axis.text.y.right,\n",
    "  axis.ticks, axis.ticks.x, axis.ticks.x.top, axis.ticks.x.bottom,\n",
    "  axis.ticks.y, axis.ticks.y.left, axis.ticks.y.right, axis.ticks.length,\n",
    "  axis.line, axis.line.x, axis.line.x.top, axis.line.x.bottom, axis.line.y,\n",
    "  axis.line.y.left, axis.line.y.right, legend.background, legend.margin,\n",
    "  legend.spacing, legend.spacing.x, legend.spacing.y, legend.key,\n",
    "  legend.key.size, legend.key.height, legend.key.width, legend.text,\n",
    "  legend.text.align, legend.title, legend.title.align, legend.position,\n",
    "  legend.direction, legend.justification, legend.box, legend.box.just,\n",
    "  legend.box.margin, legend.box.background, legend.box.spacing,\n",
    "  panel.background, panel.border, panel.spacing, panel.spacing.x,\n",
    "  panel.spacing.y, panel.grid, panel.grid.major, panel.grid.minor,\n",
    "  panel.grid.major.x, panel.grid.major.y, panel.grid.minor.x,\n",
    "  panel.grid.minor.y, panel.ontop, plot.background, plot.title,\n",
    "  plot.subtitle, plot.caption, plot.tag, plot.tag.position, plot.margin,\n",
    "  strip.background, strip.background.x, strip.background.y,\n",
    "  strip.placement, strip.text, strip.text.x, strip.text.y,\n",
    "  strip.switch.pad.grid, strip.switch.pad.wrap, ..., complete = FALSE,\n",
    "  validate = TRUE)`"
   ]
  },
  {
   "cell_type": "code",
   "execution_count": null,
   "metadata": {},
   "outputs": [],
   "source": [
    "w <- ggplot(diamonds, aes(x=carat, y=color, fill=cut)) +\n",
    "        coord_flip() +\n",
    "        geom_bar(stat=\"identity\")\n",
    "w"
   ]
  },
  {
   "cell_type": "code",
   "execution_count": null,
   "metadata": {},
   "outputs": [],
   "source": [
    "w + theme(legend.position=\"top\") # \"none\", \"left\", \"top\", \"bottom\", \"right\" or specific location using c()"
   ]
  },
  {
   "cell_type": "markdown",
   "metadata": {},
   "source": [
    "More on legends: http://www.sthda.com/english/wiki/ggplot2-legend-easy-steps-to-change-the-position-and-the-appearance-of-a-graph-legend-in-r-software"
   ]
  },
  {
   "cell_type": "code",
   "execution_count": null,
   "metadata": {},
   "outputs": [],
   "source": [
    "w + theme_dark()"
   ]
  },
  {
   "cell_type": "code",
   "execution_count": null,
   "metadata": {},
   "outputs": [],
   "source": [
    "w + theme_light()"
   ]
  },
  {
   "cell_type": "code",
   "execution_count": null,
   "metadata": {},
   "outputs": [],
   "source": [
    "w + theme(\n",
    "      panel.background = element_rect(fill = \"pink\",\n",
    "                                colour = \"lightblue\",\n",
    "                                size = 0.5, linetype = \"solid\"),\n",
    "      panel.grid.major = element_line(size = 0.1, linetype = 'dashed',\n",
    "                                colour = \"blue\"), \n",
    "      panel.grid.minor = element_blank(),\n",
    "      plot.background = element_rect(fill = \"green\"),\n",
    "    \n",
    "      text = element_text(size=10, family=\"Courier\"),\n",
    "      axis.text.x = element_text(angle=30)\n",
    "  )"
   ]
  },
  {
   "cell_type": "markdown",
   "metadata": {},
   "source": [
    "More on themes: http://www.sthda.com/english/wiki/ggplot2-themes-and-background-colors-the-3-elements"
   ]
  },
  {
   "cell_type": "markdown",
   "metadata": {},
   "source": [
    "## Pie charts"
   ]
  },
  {
   "cell_type": "code",
   "execution_count": null,
   "metadata": {
    "scrolled": false
   },
   "outputs": [],
   "source": [
    "ggplot(diamonds, aes(x=1, fill=cut)) + geom_bar(width = 1)"
   ]
  },
  {
   "cell_type": "code",
   "execution_count": null,
   "metadata": {},
   "outputs": [],
   "source": [
    "ggplot(diamonds, aes(x=1, fill=cut)) + geom_bar(width = 1) +\n",
    "    scale_fill_manual(values=c(\"#FFFFFF\", \"#AAAAAA\", \"#BBBBBB\", \"#CCCCCC\", \"#DDDDDD\"))"
   ]
  },
  {
   "cell_type": "code",
   "execution_count": null,
   "metadata": {},
   "outputs": [],
   "source": [
    "ggplot(diamonds, aes(x=1, fill=cut)) + geom_bar(width = 1) +\n",
    "    coord_polar(theta=\"y\", start=0)"
   ]
  },
  {
   "cell_type": "code",
   "execution_count": null,
   "metadata": {},
   "outputs": [],
   "source": [
    "ggplot(diamonds, aes(x=1, fill=cut)) + geom_bar(width = 1) +\n",
    "    coord_polar(theta=\"x\", start=0)"
   ]
  },
  {
   "cell_type": "code",
   "execution_count": null,
   "metadata": {},
   "outputs": [],
   "source": [
    "# Coxcomb plot\n",
    "# It takes foreeeeveeeerrrr\n",
    "# DO NOT RUN!\n",
    "\n",
    "#ggplot(diamonds, aes(x=1, y=clarity, fill=clarity)) + geom_bar(stat = \"identity\") +\n",
    "#    coord_polar(theta=\"y\")"
   ]
  },
  {
   "cell_type": "markdown",
   "metadata": {},
   "source": [
    "![Coxcomb plot](Rplot02.png)"
   ]
  },
  {
   "cell_type": "markdown",
   "metadata": {},
   "source": [
    "## Heatmap"
   ]
  },
  {
   "cell_type": "code",
   "execution_count": null,
   "metadata": {},
   "outputs": [],
   "source": [
    "ggplot(diamonds, aes(x = carat, y = color, fill = cut)) + geom_tile()"
   ]
  },
  {
   "cell_type": "code",
   "execution_count": null,
   "metadata": {},
   "outputs": [],
   "source": [
    "ggplot(diamonds, aes(x = carat, y = color, fill = price)) + geom_tile() +\n",
    "    scale_fill_gradient(low = \"white\", high = \"darkred\")"
   ]
  },
  {
   "cell_type": "markdown",
   "metadata": {},
   "source": [
    "# Exercises"
   ]
  },
  {
   "cell_type": "markdown",
   "metadata": {},
   "source": [
    "1) Plot distance against stretch."
   ]
  },
  {
   "cell_type": "code",
   "execution_count": null,
   "metadata": {},
   "outputs": [],
   "source": [
    "ex1 <- data.frame(stretch=c(46,54,48,50,44,42,52), distance=c(148,182,173,166,109,141,166))\n",
    "ex1"
   ]
  },
  {
   "cell_type": "code",
   "execution_count": null,
   "metadata": {},
   "outputs": [],
   "source": [
    "# Write code here"
   ]
  },
  {
   "cell_type": "markdown",
   "metadata": {},
   "source": [
    "2) The follwing data have ten observations taken during the years 1970-79, on October snow cover for Eurasia (snow cover is in millions of square kilometers)."
   ]
  },
  {
   "cell_type": "code",
   "execution_count": null,
   "metadata": {},
   "outputs": [],
   "source": [
    "ex2 <- data.frame(year=c(1970:1979), snow.cover=c(6.5,12.0,14.9,10.0,10.7,7.9,21.9,12.5,14.5,9.2))\n",
    "ex2"
   ]
  },
  {
   "cell_type": "markdown",
   "metadata": {},
   "source": [
    "- Plot snow.cover versus year."
   ]
  },
  {
   "cell_type": "code",
   "execution_count": null,
   "metadata": {},
   "outputs": [],
   "source": [
    "# Write code here"
   ]
  },
  {
   "cell_type": "markdown",
   "metadata": {},
   "source": [
    "- Plot a histogram of the snow.cover values."
   ]
  },
  {
   "cell_type": "code",
   "execution_count": null,
   "metadata": {},
   "outputs": [],
   "source": [
    "# Write code here"
   ]
  },
  {
   "cell_type": "markdown",
   "metadata": {},
   "source": [
    "3) Given the following data:\n",
    "\n",
    "`Year,Lowest Temperature (F),Highest Temperature (F),Warmest Minimum Temperature (F),Coldest Minimum Temperature (F),Average Minimum Temperature (F),Average Maximum Temperature (F),Mean Temperature (F),Total Precipitation (in),Total Snowfall (in),Max 24hr Precipitation (in),Max 24hr Snowfall (in)\n",
    "2014,4,58,44,18,21.8,35.2,28.5,2.34,19.2,0.5,11\n",
    "2013,11,61,43,20,29.3,40.8,35.1,2.76,1.5,0.9,1.5\n",
    "2012,13,62,46,27,30.2,44.2,37.2,3.23,4.3,1.38,4.3\n",
    "2011,6,53,40,24,24.6,34.7,29.7,4.93,36,1.29,12.3\n",
    "2010,13,57,49,20,27,38.1,32.5,2.08,2.1,1.25,1.3\n",
    "2009,6,47,38,16,22.4,33.5,27.9,2.98,9,1.19,3\n",
    "2008,12,64,53,20,30.6,42.4,36.5,2.85,0,1.29,0\n",
    "2007,9,72,54,22,31.4,43.6,37.5,3.63,2.6,1.52,1\n",
    "2006,16,64,45,32,34.2,47.5,40.9,4.99,2,1.17,2\n",
    "2005,5,66,49,18,25.2,37.4,31.3,4.67,15.3,1.03,8.5\n",
    "2004,1,58,44,15,18.5,31,24.7,2.13,17.3,0.56,6\n",
    "2003,7,50,38,20,22.1,32.9,27.5,2.3,4.7,1.52,1\n",
    "2002,21,69,50,31,34.5,45.4,39.9,1.93,3.5,0.62,3\n",
    "2001,18,54,40,27,28.5,38.8,33.6,3.16,8.3,0.83,6\n",
    "2000,3,64,51,19,24.7,37.9,31.3,3.23,9.5,0.84,5.5\n",
    "1999,9,60,41,22,27,40.8,33.9,7.02,4.5,2.42,2.5\n",
    "1998,14,65,47,29,34.2,45.8,40,5.2,0.5,2.55,0.5\n",
    "1997,4,62,44,17,25.1,39.2,32.1,3.65,4.4,1.23,3.5\n",
    "1996,6,56,40,18,24,37,30.5,5.64,26.1,1.4,13.6\n",
    "1995,15,64,54,27,31.9,43.1,37.5,3.75,0.2,1.41,0.2\n",
    "1994,-2,55,35,10,17.9,33.2,25.5,5.62,12,1.87,4.5\n",
    "1993,21,64,41,27,30.1,42.5,36.3,3.44,1.5,1.42,1.1\n",
    "1992,11,62,42,23,28.9,42.5,35.7,1.68,1.5,0.5,1.3\n",
    "1991,10,55,43,20,28.5,41.2,34.9,3.38,8.4,0.85,5.7\n",
    "1990,24,66,46,33,35.2,47.5,41.4,5.34,0.9,1.11,0.8\n",
    "1989,11,61,44,26,30.7,44,37.4,2.29,5,0.6,5\n",
    "1988,5,53,41,17,23.2,35.8,29.5,3.64,13.9,0.8,5.2\n",
    "1987,8,57,46,19,27.1,37.5,32.3,5.81,13.6,1.68,8.1\n",
    "1986,8,63,45,22,27.4,40.8,34.1,4.23,2.2,2.19,1.4\n",
    "1985,-2,58,40,9,23,34.6,28.8,1,8.4,0.3,4.1\n",
    "1984,8,57,39,19,24.6,35.1,29.9,1.87,11.7,0.6,4.2\n",
    "1983,12,58,43,21,29.4,39.6,34.5,NR,1.9,NR,1\n",
    "1982,0,58,37,15,19.6,32.5,26.1,6.46,11.8,2.73,5.8\n",
    "1981,2,49,40,14,20.2,32.3,26.2,0.58,8,0.41,4.1\n",
    "1980,17,60,40,27,28,39.4,33.7,1.72,2,0.81,2\n",
    "1979,8,63,50,20,26.9,40.2,33.5,10.52,6.6,3.45,3.1\n",
    "1978,12,58,36,21,22,33.9,28,8.27,34,1.8,13.7\n",
    "1977,-2,44,28,12,16.4,27.7,22,2.25,13,1.24,5\n",
    "1976,-1,56,36,15,20.5,34.2,27.3,5.78,5.6,1.94,1.9\n",
    "1975,15,63,48,29,31.3,43.3,37.3,4.76,2,0.8,1.3\n",
    "1974,6,66,45,23,29.1,41.4,35.2,3.8,13.4,1.05,5.6\n",
    "1973,10,66,45,18,28.8,42.1,35.5,4.53,1.8,1.49,1.8\n",
    "1972,5,62,45,15,28,42.1,35,2.41,2.8,0.64,1.8\n",
    "1971,4,46,34,16,20.8,33.1,26.9,2.67,11.4,0.99,6.4\n",
    "1970,3,51,42,14,18.7,31.5,25.1,0.66,8.4,0.16,2.6\n",
    "1969,11,48,42,24,26.3,37.3,31.8,1.1,1,0.43,1\n",
    "1968,-1,50,36,13,20.1,33.3,26.7,2.04,3.6,1.3,1.5\n",
    "1967,13,68,54,25,31.5,43.2,37.3,1.39,1.4,0.82,0.5\n",
    "1966,8,62,52,19,25.7,38.6,32.2,2.63,11.6,0.72,5.8\n",
    "1965,9,55,41,16,23.7,35.6,29.6,3.09,14.8,0.64,6.3\n",
    "1964,9,55,41,22,29.5,41.8,35.6,4.62,13.3,1.29,11.5\n",
    "1963,4,51,39,20,24,36.2,30.1,1.93,5.3,0.38,3\n",
    "1962,11,56,41,25,25.5,39.6,32.6,2.62,0.6,1.57,0.4\n",
    "1961,5,55,42,19,21.9,33.5,27.7,1.88,16.7,0.78,5.5\n",
    "1960,17,54,38,28,28.8,38.9,33.9,2.4,2.5,0.84,1.8\n",
    "1959,14,61,38,22,24.3,38,31.2,2.34,1.5,0.83,0.9\n",
    "1958,12,53,39,23,26.3,37.5,31.9,3.79,9.2,0.86,4.5\n",
    "1957,0,60,43,12,22.2,34.8,28.5,1.7,8.9,0.49,2.9\n",
    "1956,14,48,43,28,26.7,37.3,32,1.54,1.2,0.52,0.5\n",
    "1955,13,50,40,24,25.2,36.7,30.9,0.77,2.6,0.31,0.9\n",
    "1954,7,56,41,21,23.5,38.1,30.8,1.65,12.7,0.45,5.4\n",
    "1953,21,57,49,33,31.8,43.4,37.6,4.9,4.1,1.3,2\n",
    "1952,8,60,45,23,28.9,43.4,36.2,4.58,6.1,0.85,5.8\n",
    "1951,11,64,47,27,29.4,44.5,36.9,3.31,0.9,1.27,0.9\n",
    "1950,16,72,59,31,34.2,48.6,41.4,2.19,0.4,0.46,0.4\n",
    "1949,20,61,43,30,32.6,44.6,38.6,5.98,6.8,1.7,5.5\n",
    "1948,0,45,33,18,19.3,31.2,25.2,5.67,15.3,1.23,3.5\n",
    "1947,12,63,42,23,30.2,44.1,37.1,2.74,5.5,0.93,4\n",
    "1946,5,62,54,26,27,41.2,34.1,1.86,4.2,0.69,1.8\n",
    "1945,2,55,33,15,17.9,32.5,25.2,2.24,12.3,0.77,6.7\n",
    "1944,12,62,38,23,27.8,40,33.9,3.2,4.8,0.99,3.2\n",
    "1943,10,56,38,25,24.3,37.2,30.7,2.46,9.5,1.25,7.1\n",
    "1942,5,57,43,14,23.9,37.5,30.7,2.88,6.4,1.09,2.8\n",
    "1941,10,47,36,25,23.2,35.6,29.4,3.23,9.2,1.18,5\n",
    "1940,7,54,36,19,18.9,31,25,2.61,3.5,2.06,1.5\n",
    "1939,6,55,44,18,26.5,37.8,32.1,3.8,10.3,1.19,7.8\n",
    "1938,6,57,42,17,25.9,38.3,32.1,3.99,6.5,1.35,2.1\n",
    "1937,25,66,50,32,33.7,46.9,40.3,5.67,6.5,0.97,5.7\n",
    "1936,-3,54,37,16,23.3,35.3,29.3,6.9,12.1,2.39,9\n",
    "1935,-1,58,47,16,21.6,36.1,28.8,3.91,23.6,1.09,12.8\n",
    "1934,6,58,41,16,28.5,40.8,34.6,3.42,0.1,1.14,0.1\n",
    "1933,13,61,48,28,34,46.6,40.4,1.78,0,0.82,0\n",
    "1932,24,70,56,33,37.7,48.6,43.2,4.45,0.8,1.33,0.6\n",
    "1931,11,56,41,24,26.3,39.2,32.7,2.56,0.5,0.93,0.3\n",
    "1930,10,64,52,22,27,39.5,33.3,2.37,3.5,0.81,1.8\n",
    "1929,8,62,38,24,25,38.8,31.9,3.33,2.3,0.78,0.6\n",
    "1928,12,58,44,24,26.9,41,34,1.87,2.7,0.64,1.8\n",
    "1927,-1,52,40,22,24,37.8,30.9,2.03,5.7,0.44,5.1\n",
    "1926,5,54,40,23,25.7,38.2,32,2.85,3.1,0.95,2.3\n",
    "1925,-2,45,33,14,22,34.8,28.4,5.42,27.4,1.92,11.5\n",
    "1924,5,57,40,18,24.9,40.4,32.6,4.9,2.5,1.44,2.4\n",
    "1923,9,53,44,21,23.6,36.3,29.9,6.99,24.5,1.68,7.8\n",
    "1922,7,50,37,16,21.9,34.4,28.2,2.73,9.4,1.38,3.4\n",
    "1921,4,57,42,16,25.7,40.8,33.2,2.74,3.5,1.75,1.8\n",
    "1920,-1,51,36,14,16.1,30.8,23.4,2.09,8.2,0.64,2.8\n",
    "1919,10,61,43,26,29.4,41.8,35.6,3.51,0.3,1.22,0.3\n",
    "1918,-4,53,29,10,15.6,27.7,21.7,3.53,13.2,1.15,5.9\n",
    "1917,8,51,40,20,26.1,39.6,32.8,2.96,5.8,0.57,1.8\n",
    "1916,7,69,53,21,28.3,43.6,36,1.28,3.4,0.3,3\n",
    "1915,12,58,47,24,28.7,40.2,34.5,7.94,3.8,2.35,1.6\n",
    "1914,-5,58,42,9,24.8,38.2,31.5,5.27,1.3,1.51,1.1\n",
    "1913,18,63,45,29,33.5,48.3,40.8,3.43,0.3,0.54,0.2\n",
    "1912,-3,54,38,8,16.9,30.5,23.7,2.56,13,0.93,3.5\n",
    "1911,18,56,49,26,30.6,41.9,36.2,2.79,1.3,0.76,1\n",
    "1910,5,48,40,27,25.7,37.4,31.5,4.64,2.1,1.18,1\n",
    "1909,5,57,49,24,28.1,40.8,34.5,3.32,11.4,1.5,4.3\n",
    "1908,8,50,41,18,26.2,39.4,32.9,3.76,10,1.46,10\n",
    "1907,4,64,49,20,28,41.8,34.9,2.89,11,0.96,6\n",
    "1906,14,62,50,29,33.3,43.5,38.4,2.69,1.5,0.85,1.5\n",
    "1905,4,53,42,16,23.6,34.9,29.2,2.77,18.4,0.91,11\n",
    "1904,-4,54,39,13,19.5,31.1,25.3,2.97,11.1,0.72,7.5\n",
    "1903,10,51,39,21,24.3,36.7,30.5,4.18,4.5,1.3,4\n",
    "1902,13,51,40,21,24.7,36.3,30.8,2.27,6.1,0.8,3\n",
    "1901,8,53,38,27,26.8,38.2,32.6,1.66,2,0.9,1.8\n",
    "1900,10,57,46,20,25.5,38.8,32.4,4.22,1,1.46,0.5`"
   ]
  },
  {
   "cell_type": "code",
   "execution_count": null,
   "metadata": {},
   "outputs": [],
   "source": [
    "# Create dataset or load dataset from file"
   ]
  },
  {
   "cell_type": "markdown",
   "metadata": {},
   "source": [
    "* Create a function to convert ºF to ºC and in (inches) to mm."
   ]
  },
  {
   "cell_type": "code",
   "execution_count": null,
   "metadata": {},
   "outputs": [],
   "source": [
    "# Write code here"
   ]
  },
  {
   "cell_type": "markdown",
   "metadata": {},
   "source": [
    "- Plot Year vs. Warmest Minimum Temperature."
   ]
  },
  {
   "cell_type": "code",
   "execution_count": null,
   "metadata": {},
   "outputs": [],
   "source": [
    "# Write code here"
   ]
  },
  {
   "cell_type": "markdown",
   "metadata": {},
   "source": [
    "- Plot Year vs. Warmest Minimum Temperature and Coldest Minimum Temperature. Don’t forget to add a legend!"
   ]
  },
  {
   "cell_type": "code",
   "execution_count": null,
   "metadata": {},
   "outputs": [],
   "source": [
    "# Write code here"
   ]
  },
  {
   "cell_type": "markdown",
   "metadata": {},
   "source": [
    "# Advanced graphics\n",
    "\n",
    "Check this out!<br/>\n",
    "https://medium.com/@EvanSinar/7-data-visualization-types-you-should-be-using-more-and-how-to-start-4015b5d4adf2\n",
    "\n",
    "![Advanced graphics](https://cdn-images-1.medium.com/max/1600/1*WfeqeDfuShJaO_MwYvE1Zw.png)"
   ]
  },
  {
   "cell_type": "code",
   "execution_count": null,
   "metadata": {},
   "outputs": [],
   "source": []
  }
 ],
 "metadata": {
  "kernelspec": {
   "display_name": "R",
   "language": "R",
   "name": "ir"
  },
  "language_info": {
   "codemirror_mode": "r",
   "file_extension": ".r",
   "mimetype": "text/x-r-source",
   "name": "R",
   "pygments_lexer": "r",
   "version": "3.6.1"
  }
 },
 "nbformat": 4,
 "nbformat_minor": 2
}
