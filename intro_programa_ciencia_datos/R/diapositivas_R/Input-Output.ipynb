{
 "cells": [
  {
   "cell_type": "markdown",
   "metadata": {
    "collapsed": true
   },
   "source": [
    "### Introducción a la Programación para Ciencia de Datos\n",
    "\n",
    "### R (2da parte)\n",
    "_Rocío Romero Zaliz_ - rocio@decsai.ugr.es"
   ]
  },
  {
   "cell_type": "markdown",
   "metadata": {},
   "source": [
    "# Input/Output"
   ]
  },
  {
   "cell_type": "markdown",
   "metadata": {
    "slideshow": {
     "slide_type": "slide"
    }
   },
   "source": [
    "Suppose we have a file (file.txt) with this content:\n",
    "\n",
    "> `12  \n",
    "2 5  \n",
    "641`"
   ]
  },
  {
   "cell_type": "code",
   "execution_count": 2,
   "metadata": {},
   "outputs": [
    {
     "data": {
      "text/html": [
       "<ol class=list-inline>\n",
       "\t<li>12</li>\n",
       "\t<li>2</li>\n",
       "\t<li>5</li>\n",
       "\t<li>641</li>\n",
       "</ol>\n"
      ],
      "text/latex": [
       "\\begin{enumerate*}\n",
       "\\item 12\n",
       "\\item 2\n",
       "\\item 5\n",
       "\\item 641\n",
       "\\end{enumerate*}\n"
      ],
      "text/markdown": [
       "1. 12\n",
       "2. 2\n",
       "3. 5\n",
       "4. 641\n",
       "\n",
       "\n"
      ],
      "text/plain": [
       "[1]  12   2   5 641"
      ]
     },
     "metadata": {},
     "output_type": "display_data"
    },
    {
     "data": {
      "text/html": [
       "'numeric'"
      ],
      "text/latex": [
       "'numeric'"
      ],
      "text/markdown": [
       "'numeric'"
      ],
      "text/plain": [
       "[1] \"numeric\""
      ]
     },
     "metadata": {},
     "output_type": "display_data"
    }
   ],
   "source": [
    "scan(\"file.txt\")\n",
    "class(scan(\"file.txt\"))"
   ]
  },
  {
   "cell_type": "code",
   "execution_count": 3,
   "metadata": {},
   "outputs": [
    {
     "data": {
      "text/html": [
       "<ol class=list-inline>\n",
       "\t<li>'12'</li>\n",
       "\t<li>'2'</li>\n",
       "\t<li>'5'</li>\n",
       "\t<li>'641'</li>\n",
       "</ol>\n"
      ],
      "text/latex": [
       "\\begin{enumerate*}\n",
       "\\item '12'\n",
       "\\item '2'\n",
       "\\item '5'\n",
       "\\item '641'\n",
       "\\end{enumerate*}\n"
      ],
      "text/markdown": [
       "1. '12'\n",
       "2. '2'\n",
       "3. '5'\n",
       "4. '641'\n",
       "\n",
       "\n"
      ],
      "text/plain": [
       "[1] \"12\"  \"2\"   \"5\"   \"641\""
      ]
     },
     "metadata": {},
     "output_type": "display_data"
    },
    {
     "data": {
      "text/html": [
       "'character'"
      ],
      "text/latex": [
       "'character'"
      ],
      "text/markdown": [
       "'character'"
      ],
      "text/plain": [
       "[1] \"character\""
      ]
     },
     "metadata": {},
     "output_type": "display_data"
    }
   ],
   "source": [
    "scan(\"file.txt\", what=character())\n",
    "class(scan(\"file.txt\", what=character()))"
   ]
  },
  {
   "cell_type": "code",
   "execution_count": 4,
   "metadata": {},
   "outputs": [
    {
     "data": {
      "text/html": [
       "<ol class=list-inline>\n",
       "\t<li>12</li>\n",
       "\t<li>25</li>\n",
       "\t<li>641</li>\n",
       "</ol>\n"
      ],
      "text/latex": [
       "\\begin{enumerate*}\n",
       "\\item 12\n",
       "\\item 25\n",
       "\\item 641\n",
       "\\end{enumerate*}\n"
      ],
      "text/markdown": [
       "1. 12\n",
       "2. 25\n",
       "3. 641\n",
       "\n",
       "\n"
      ],
      "text/plain": [
       "[1]  12  25 641"
      ]
     },
     "metadata": {},
     "output_type": "display_data"
    }
   ],
   "source": [
    "scan(\"file.txt\", sep=\"\\n\")"
   ]
  },
  {
   "cell_type": "markdown",
   "metadata": {},
   "source": [
    "You can use `scan` to read from the keyboard by specifying an empty string for the filename, but it does not work in jupyter!\n",
    "\n",
    "> `scan(\"\")  \n",
    "1: 23 4  \n",
    "3: 2  \n",
    "4:   \n",
    "[1] 23  4  2`\n",
    "\n",
    "Note that we are prompted with the index of the next item to be input, and we signal the end of input with an empty line."
   ]
  },
  {
   "cell_type": "code",
   "execution_count": null,
   "metadata": {},
   "outputs": [],
   "source": [
    "scan(\"\") # Does not work in Jupyter"
   ]
  },
  {
   "cell_type": "markdown",
   "metadata": {},
   "source": [
    "If you want to read in a single line from the keyboard use `readline`:\n",
    "\n",
    "> `readline(\"Input data: \")  \n",
    "Input data: 23 4 2  \n",
    "[1] 23  4  2`"
   ]
  },
  {
   "cell_type": "code",
   "execution_count": 5,
   "metadata": {},
   "outputs": [
    {
     "name": "stdout",
     "output_type": "stream",
     "text": [
      "Input data: h\n"
     ]
    }
   ],
   "source": [
    "palabra <- readline(\"Input data: \")"
   ]
  },
  {
   "cell_type": "code",
   "execution_count": null,
   "metadata": {},
   "outputs": [],
   "source": [
    "palabra"
   ]
  },
  {
   "cell_type": "markdown",
   "metadata": {},
   "source": [
    "It’s a little better to use `cat` instead of print(), as the latter can print only one expression and its output is numbered."
   ]
  },
  {
   "cell_type": "code",
   "execution_count": 6,
   "metadata": {},
   "outputs": [
    {
     "name": "stdout",
     "output_type": "stream",
     "text": [
      "[1] 1 4 9\n",
      "1 4 9"
     ]
    }
   ],
   "source": [
    "x <- 1:3\n",
    "print(x^2)\n",
    "cat(x^2)"
   ]
  },
  {
   "cell_type": "code",
   "execution_count": null,
   "metadata": {},
   "outputs": [],
   "source": [
    "cat(x^2, x, \"hola\")"
   ]
  },
  {
   "cell_type": "code",
   "execution_count": null,
   "metadata": {},
   "outputs": [],
   "source": [
    "vb <- cat(x^2, x, \"hola\")\n",
    "vb"
   ]
  },
  {
   "cell_type": "code",
   "execution_count": null,
   "metadata": {},
   "outputs": [],
   "source": [
    "print(matrix(c(1,5,3,8), nrow = 2))\n",
    "cat(matrix(c(1,5,3,8), nrow = 2))"
   ]
  },
  {
   "cell_type": "code",
   "execution_count": 7,
   "metadata": {},
   "outputs": [
    {
     "name": "stdout",
     "output_type": "stream",
     "text": [
      "1_4_9_1_2_3_hola"
     ]
    }
   ],
   "source": [
    "cat(x^2, x, \"hola\", sep=\"_\")"
   ]
  },
  {
   "cell_type": "markdown",
   "metadata": {},
   "source": [
    "We will use of the function `read.table` to read in a data frame.\n",
    "\n",
    "Suppose we have a file matrix.txt with the following content:\n",
    "\n",
    "> nombre edad  \n",
    "John 25  \n",
    "Mary 28  \n",
    "Jim 19\n",
    "\n",
    "The first line contains an optional header, specifying column names."
   ]
  },
  {
   "cell_type": "code",
   "execution_count": null,
   "metadata": {},
   "outputs": [],
   "source": [
    "data <- read.table(\"matrix.txt\", header=TRUE)\n",
    "data"
   ]
  },
  {
   "cell_type": "markdown",
   "metadata": {},
   "source": [
    "Note that scan() would not work here, because our file has a mixture of numeric and character data (and a header). "
   ]
  },
  {
   "cell_type": "code",
   "execution_count": null,
   "metadata": {},
   "outputs": [],
   "source": [
    "scan(\"matrix.txt\", what=character())"
   ]
  },
  {
   "cell_type": "markdown",
   "metadata": {},
   "source": [
    "If we want to write a file, we change `read.table` for `write.table` function."
   ]
  },
  {
   "cell_type": "code",
   "execution_count": null,
   "metadata": {},
   "outputs": [],
   "source": [
    "write.table(matrix(1:6, nrow=2), \"output1.txt\", row.names=TRUE, col.names=TRUE)"
   ]
  },
  {
   "cell_type": "code",
   "execution_count": null,
   "metadata": {},
   "outputs": [],
   "source": [
    "write.table(matrix(1:6, nrow=2), \"output2.txt\", row.names=FALSE, col.names=FALSE)"
   ]
  },
  {
   "cell_type": "markdown",
   "metadata": {},
   "source": [
    "The function `cat` can also be used to write to a file, one part at a time."
   ]
  },
  {
   "cell_type": "code",
   "execution_count": null,
   "metadata": {},
   "outputs": [],
   "source": [
    "cat(\"abc\\n\", file=\"u.txt\")\n",
    "cat(\"de\\n\", file=\"u.txt\", append=TRUE)"
   ]
  },
  {
   "cell_type": "markdown",
   "metadata": {},
   "source": [
    "## Homework\n",
    "1. Ask the user to introduce with the keyboard a string s and a number n and show in the screen n times the string s (without spaces between words).\n",
    ">s=\"hola, n=3<br/>\n",
    "holaholahola"
   ]
  },
  {
   "cell_type": "code",
   "execution_count": null,
   "metadata": {},
   "outputs": [],
   "source": [
    "# Write your code here"
   ]
  },
  {
   "cell_type": "markdown",
   "metadata": {},
   "source": [
    "2. Create three files called dos.txt, tres.txt and cinco.txt containing the table of 2, 3 and 5 respectively (only include the first 10 values of each, one number in a separate line)."
   ]
  },
  {
   "cell_type": "code",
   "execution_count": null,
   "metadata": {},
   "outputs": [],
   "source": [
    "# Write your code here"
   ]
  },
  {
   "cell_type": "markdown",
   "metadata": {},
   "source": [
    "3. Load the three files created in the last exercise and create a matrix with three columns, one for each file conent."
   ]
  },
  {
   "cell_type": "code",
   "execution_count": null,
   "metadata": {},
   "outputs": [],
   "source": [
    "# Write your code here"
   ]
  },
  {
   "cell_type": "markdown",
   "metadata": {},
   "source": [
    "4. Write the first five rows of the matrix created in the last exercise in a new file called prime.txt and the last five in another file called fin.txt. Both files must have the data separated by commas."
   ]
  },
  {
   "cell_type": "code",
   "execution_count": null,
   "metadata": {},
   "outputs": [],
   "source": [
    "# Write your code here"
   ]
  },
  {
   "cell_type": "markdown",
   "metadata": {},
   "source": [
    "5. Given two numbers, f and c (given by the user using the keyboard), create a square figure of f rows and c collumns with character \"x\" (without spaces). See an example for f=4 and c=3 below:\n",
    "> xxx<br/>\n",
    " xxx<br/>\n",
    " xxx<br/>\n",
    " xxx<br/>"
   ]
  },
  {
   "cell_type": "code",
   "execution_count": null,
   "metadata": {},
   "outputs": [],
   "source": [
    "# Write your code here"
   ]
  }
 ],
 "metadata": {
  "celltoolbar": "Raw Cell Format",
  "kernelspec": {
   "display_name": "R",
   "language": "R",
   "name": "ir"
  },
  "language_info": {
   "codemirror_mode": "r",
   "file_extension": ".r",
   "mimetype": "text/x-r-source",
   "name": "R",
   "pygments_lexer": "r",
   "version": "3.6.1"
  }
 },
 "nbformat": 4,
 "nbformat_minor": 2
}
