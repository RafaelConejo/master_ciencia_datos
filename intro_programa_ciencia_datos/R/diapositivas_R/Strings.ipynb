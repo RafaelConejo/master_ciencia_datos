{
 "cells": [
  {
   "cell_type": "markdown",
   "metadata": {
    "collapsed": true
   },
   "source": [
    "### Introducción a la Programación para Ciencia de Datos\n",
    "\n",
    "### R (2da parte)\n",
    "_Rocío Romero Zaliz_ - rocio@decsai.ugr.es"
   ]
  },
  {
   "cell_type": "markdown",
   "metadata": {},
   "source": [
    "* Podcast SintonIA: https://www.spreaker.com/show/sintonia-la-ia-en-las-ondas\n",
    "* Instagram SintonIA: @sintonia_dasci\n",
    "* TikTok SintonIA: @sintonia_dasci"
   ]
  },
  {
   "cell_type": "markdown",
   "metadata": {},
   "source": [
    "* Twitter: @RCRZ_UGR"
   ]
  },
  {
   "cell_type": "markdown",
   "metadata": {},
   "source": [
    "# Index\n",
    "* String Manipulation\n",
    "* Input/Output\n",
    "* Functions\n",
    "* R Programming Structures \n",
    "* Performance Enhancement: Speed and Memory\n",
    "* Graphs with `ggplot`"
   ]
  },
  {
   "cell_type": "markdown",
   "metadata": {},
   "source": [
    "# String Manipulation using basic R"
   ]
  },
  {
   "cell_type": "markdown",
   "metadata": {},
   "source": [
    "Although R is a statistical language with numeric vectors and matrices playing a central role, character strings are also necessary and R has a number of string-manipulation utilities."
   ]
  },
  {
   "cell_type": "code",
   "execution_count": 1,
   "metadata": {
    "scrolled": true
   },
   "outputs": [
    {
     "data": {
      "text/html": [
       "'character'"
      ],
      "text/latex": [
       "'character'"
      ],
      "text/markdown": [
       "'character'"
      ],
      "text/plain": [
       "[1] \"character\""
      ]
     },
     "metadata": {},
     "output_type": "display_data"
    }
   ],
   "source": [
    "texto <- \"Ciencia de datos\"\n",
    "class(texto)"
   ]
  },
  {
   "cell_type": "code",
   "execution_count": 2,
   "metadata": {},
   "outputs": [
    {
     "data": {
      "text/html": [
       "1"
      ],
      "text/latex": [
       "1"
      ],
      "text/markdown": [
       "1"
      ],
      "text/plain": [
       "[1] 1"
      ]
     },
     "metadata": {},
     "output_type": "display_data"
    }
   ],
   "source": [
    "length(texto)"
   ]
  },
  {
   "cell_type": "markdown",
   "metadata": {},
   "source": [
    "Function `nchar` finds the length of a string"
   ]
  },
  {
   "cell_type": "code",
   "execution_count": 3,
   "metadata": {},
   "outputs": [
    {
     "data": {
      "text/html": [
       "16"
      ],
      "text/latex": [
       "16"
      ],
      "text/markdown": [
       "16"
      ],
      "text/plain": [
       "[1] 16"
      ]
     },
     "metadata": {},
     "output_type": "display_data"
    }
   ],
   "source": [
    "nchar(\"Ciencia de Datos\")"
   ]
  },
  {
   "cell_type": "code",
   "execution_count": 4,
   "metadata": {},
   "outputs": [
    {
     "data": {
      "text/html": [
       "2"
      ],
      "text/latex": [
       "2"
      ],
      "text/markdown": [
       "2"
      ],
      "text/plain": [
       "[1] 2"
      ]
     },
     "metadata": {},
     "output_type": "display_data"
    }
   ],
   "source": [
    "textos <- c(\"hola\", 'mundo')\n",
    "length(textos)"
   ]
  },
  {
   "cell_type": "code",
   "execution_count": 5,
   "metadata": {},
   "outputs": [
    {
     "data": {
      "text/html": [
       "'character'"
      ],
      "text/latex": [
       "'character'"
      ],
      "text/markdown": [
       "'character'"
      ],
      "text/plain": [
       "[1] \"character\""
      ]
     },
     "metadata": {},
     "output_type": "display_data"
    }
   ],
   "source": [
    "class(textos)"
   ]
  },
  {
   "cell_type": "code",
   "execution_count": 6,
   "metadata": {},
   "outputs": [
    {
     "name": "stdout",
     "output_type": "stream",
     "text": [
      "[1] \"hola\"  \"mundo\"\n"
     ]
    }
   ],
   "source": [
    "print(textos)"
   ]
  },
  {
   "cell_type": "code",
   "execution_count": 7,
   "metadata": {},
   "outputs": [
    {
     "data": {
      "text/html": [
       "<ol class=list-inline>\n",
       "\t<li>''</li>\n",
       "\t<li>''</li>\n",
       "\t<li>''</li>\n",
       "\t<li>''</li>\n",
       "\t<li>''</li>\n",
       "\t<li>''</li>\n",
       "\t<li>''</li>\n",
       "\t<li>''</li>\n",
       "\t<li>''</li>\n",
       "\t<li>''</li>\n",
       "</ol>\n"
      ],
      "text/latex": [
       "\\begin{enumerate*}\n",
       "\\item ''\n",
       "\\item ''\n",
       "\\item ''\n",
       "\\item ''\n",
       "\\item ''\n",
       "\\item ''\n",
       "\\item ''\n",
       "\\item ''\n",
       "\\item ''\n",
       "\\item ''\n",
       "\\end{enumerate*}\n"
      ],
      "text/markdown": [
       "1. ''\n",
       "2. ''\n",
       "3. ''\n",
       "4. ''\n",
       "5. ''\n",
       "6. ''\n",
       "7. ''\n",
       "8. ''\n",
       "9. ''\n",
       "10. ''\n",
       "\n",
       "\n"
      ],
      "text/plain": [
       " [1] \"\" \"\" \"\" \"\" \"\" \"\" \"\" \"\" \"\" \"\""
      ]
     },
     "metadata": {},
     "output_type": "display_data"
    }
   ],
   "source": [
    "# String construction\n",
    "\n",
    "empty_str <- character(10)\n",
    "empty_str"
   ]
  },
  {
   "cell_type": "markdown",
   "metadata": {},
   "source": [
    "Function `paste` concatenates several strings, returning the result in one long string. "
   ]
  },
  {
   "cell_type": "code",
   "execution_count": 8,
   "metadata": {},
   "outputs": [
    {
     "data": {
      "text/html": [
       "'Ciencia de Datos'"
      ],
      "text/latex": [
       "'Ciencia de Datos'"
      ],
      "text/markdown": [
       "'Ciencia de Datos'"
      ],
      "text/plain": [
       "[1] \"Ciencia de Datos\""
      ]
     },
     "metadata": {},
     "output_type": "display_data"
    }
   ],
   "source": [
    "paste(\"Ciencia\", \"de\", \"Datos\")"
   ]
  },
  {
   "cell_type": "code",
   "execution_count": 9,
   "metadata": {},
   "outputs": [
    {
     "data": {
      "text/html": [
       "'Ciencia_de_Datos'"
      ],
      "text/latex": [
       "'Ciencia\\_de\\_Datos'"
      ],
      "text/markdown": [
       "'Ciencia_de_Datos'"
      ],
      "text/plain": [
       "[1] \"Ciencia_de_Datos\""
      ]
     },
     "metadata": {},
     "output_type": "display_data"
    }
   ],
   "source": [
    "paste(\"Ciencia\", \"de\", \"Datos\", sep=\"_\") "
   ]
  },
  {
   "cell_type": "code",
   "execution_count": 10,
   "metadata": {},
   "outputs": [
    {
     "data": {
      "text/html": [
       "<ol class=list-inline>\n",
       "\t<li>'Ciencia hola cierta'</li>\n",
       "\t<li>'Ciencia mundo cierta'</li>\n",
       "</ol>\n"
      ],
      "text/latex": [
       "\\begin{enumerate*}\n",
       "\\item 'Ciencia hola cierta'\n",
       "\\item 'Ciencia mundo cierta'\n",
       "\\end{enumerate*}\n"
      ],
      "text/markdown": [
       "1. 'Ciencia hola cierta'\n",
       "2. 'Ciencia mundo cierta'\n",
       "\n",
       "\n"
      ],
      "text/plain": [
       "[1] \"Ciencia hola cierta\"  \"Ciencia mundo cierta\""
      ]
     },
     "metadata": {},
     "output_type": "display_data"
    }
   ],
   "source": [
    "paste(\"Ciencia\", c(\"hola\", \"mundo\"), \"cierta\")"
   ]
  },
  {
   "cell_type": "code",
   "execution_count": 11,
   "metadata": {},
   "outputs": [
    {
     "data": {
      "text/html": [
       "<ol class=list-inline>\n",
       "\t<li>'1_1'</li>\n",
       "\t<li>'2_2'</li>\n",
       "\t<li>'3_3'</li>\n",
       "\t<li>'1_4'</li>\n",
       "\t<li>'2_5'</li>\n",
       "</ol>\n"
      ],
      "text/latex": [
       "\\begin{enumerate*}\n",
       "\\item '1\\_1'\n",
       "\\item '2\\_2'\n",
       "\\item '3\\_3'\n",
       "\\item '1\\_4'\n",
       "\\item '2\\_5'\n",
       "\\end{enumerate*}\n"
      ],
      "text/markdown": [
       "1. '1_1'\n",
       "2. '2_2'\n",
       "3. '3_3'\n",
       "4. '1_4'\n",
       "5. '2_5'\n",
       "\n",
       "\n"
      ],
      "text/plain": [
       "[1] \"1_1\" \"2_2\" \"3_3\" \"1_4\" \"2_5\""
      ]
     },
     "metadata": {},
     "output_type": "display_data"
    }
   ],
   "source": [
    "paste(1:3, 1:5, sep=\"_\") "
   ]
  },
  {
   "cell_type": "code",
   "execution_count": 12,
   "metadata": {},
   "outputs": [
    {
     "data": {
      "text/html": [
       "'1_1|2_2|3_3|1_4|2_5'"
      ],
      "text/latex": [
       "'1\\_1\\textbar{}2\\_2\\textbar{}3\\_3\\textbar{}1\\_4\\textbar{}2\\_5'"
      ],
      "text/markdown": [
       "'1_1|2_2|3_3|1_4|2_5'"
      ],
      "text/plain": [
       "[1] \"1_1|2_2|3_3|1_4|2_5\""
      ]
     },
     "metadata": {},
     "output_type": "display_data"
    }
   ],
   "source": [
    "paste(1:3, 1:5, sep=\"_\", collapse=\"|\") "
   ]
  },
  {
   "cell_type": "code",
   "execution_count": null,
   "metadata": {},
   "outputs": [],
   "source": [
    "help(paste)"
   ]
  },
  {
   "cell_type": "markdown",
   "metadata": {},
   "source": [
    "## Example\n",
    "\n",
    "* Given a dataset, remove column info"
   ]
  },
  {
   "cell_type": "code",
   "execution_count": 13,
   "metadata": {},
   "outputs": [
    {
     "data": {
      "text/html": [
       "<table>\n",
       "<thead><tr><th scope=col>name</th><th scope=col>lastname</th><th scope=col>gender</th><th scope=col>age</th></tr></thead>\n",
       "<tbody>\n",
       "\t<tr><td>Susan  </td><td>Wilson </td><td>F      </td><td>23     </td></tr>\n",
       "\t<tr><td>Greg   </td><td>Gray   </td><td>M      </td><td>46     </td></tr>\n",
       "\t<tr><td>Amy    </td><td>Sanders</td><td>F      </td><td>32     </td></tr>\n",
       "\t<tr><td>Laura  </td><td>Xeon   </td><td>F      </td><td>90     </td></tr>\n",
       "\t<tr><td>David  </td><td>Rogers </td><td>M      </td><td>53     </td></tr>\n",
       "</tbody>\n",
       "</table>\n"
      ],
      "text/latex": [
       "\\begin{tabular}{r|llll}\n",
       " name & lastname & gender & age\\\\\n",
       "\\hline\n",
       "\t Susan   & Wilson  & F       & 23     \\\\\n",
       "\t Greg    & Gray    & M       & 46     \\\\\n",
       "\t Amy     & Sanders & F       & 32     \\\\\n",
       "\t Laura   & Xeon    & F       & 90     \\\\\n",
       "\t David   & Rogers  & M       & 53     \\\\\n",
       "\\end{tabular}\n"
      ],
      "text/markdown": [
       "\n",
       "| name | lastname | gender | age |\n",
       "|---|---|---|---|\n",
       "| Susan   | Wilson  | F       | 23      |\n",
       "| Greg    | Gray    | M       | 46      |\n",
       "| Amy     | Sanders | F       | 32      |\n",
       "| Laura   | Xeon    | F       | 90      |\n",
       "| David   | Rogers  | M       | 53      |\n",
       "\n"
      ],
      "text/plain": [
       "  name  lastname gender age\n",
       "1 Susan Wilson   F      23 \n",
       "2 Greg  Gray     M      46 \n",
       "3 Amy   Sanders  F      32 \n",
       "4 Laura Xeon     F      90 \n",
       "5 David Rogers   M      53 "
      ]
     },
     "metadata": {},
     "output_type": "display_data"
    }
   ],
   "source": [
    "data <- data.frame(name = c(\"Susan\", \"Greg\", \"Amy\", \"Laura\", \"David\"), lastname = c(\"Wilson\", \"Gray\", \"Sanders\", \"Xeon\", \"Rogers\"), gender = c(\"F\", \"M\", \"F\", \"F\", \"M\"), age = c(23, 46, 32, 90, 53))\n",
    "data"
   ]
  },
  {
   "cell_type": "code",
   "execution_count": 14,
   "metadata": {},
   "outputs": [
    {
     "data": {
      "text/html": [
       "<ol class=list-inline>\n",
       "\t<li>'name'</li>\n",
       "\t<li>'lastname'</li>\n",
       "\t<li>'gender'</li>\n",
       "\t<li>'age'</li>\n",
       "</ol>\n"
      ],
      "text/latex": [
       "\\begin{enumerate*}\n",
       "\\item 'name'\n",
       "\\item 'lastname'\n",
       "\\item 'gender'\n",
       "\\item 'age'\n",
       "\\end{enumerate*}\n"
      ],
      "text/markdown": [
       "1. 'name'\n",
       "2. 'lastname'\n",
       "3. 'gender'\n",
       "4. 'age'\n",
       "\n",
       "\n"
      ],
      "text/plain": [
       "[1] \"name\"     \"lastname\" \"gender\"   \"age\"     "
      ]
     },
     "metadata": {},
     "output_type": "display_data"
    }
   ],
   "source": [
    "colnames(data)"
   ]
  },
  {
   "cell_type": "code",
   "execution_count": 15,
   "metadata": {},
   "outputs": [
    {
     "data": {
      "text/html": [
       "<table>\n",
       "<thead><tr><th scope=col>var_1</th><th scope=col>var_2</th><th scope=col>var_3</th><th scope=col>var_4</th></tr></thead>\n",
       "<tbody>\n",
       "\t<tr><td>Susan  </td><td>Wilson </td><td>F      </td><td>23     </td></tr>\n",
       "\t<tr><td>Greg   </td><td>Gray   </td><td>M      </td><td>46     </td></tr>\n",
       "\t<tr><td>Amy    </td><td>Sanders</td><td>F      </td><td>32     </td></tr>\n",
       "\t<tr><td>Laura  </td><td>Xeon   </td><td>F      </td><td>90     </td></tr>\n",
       "\t<tr><td>David  </td><td>Rogers </td><td>M      </td><td>53     </td></tr>\n",
       "</tbody>\n",
       "</table>\n"
      ],
      "text/latex": [
       "\\begin{tabular}{r|llll}\n",
       " var\\_1 & var\\_2 & var\\_3 & var\\_4\\\\\n",
       "\\hline\n",
       "\t Susan   & Wilson  & F       & 23     \\\\\n",
       "\t Greg    & Gray    & M       & 46     \\\\\n",
       "\t Amy     & Sanders & F       & 32     \\\\\n",
       "\t Laura   & Xeon    & F       & 90     \\\\\n",
       "\t David   & Rogers  & M       & 53     \\\\\n",
       "\\end{tabular}\n"
      ],
      "text/markdown": [
       "\n",
       "| var_1 | var_2 | var_3 | var_4 |\n",
       "|---|---|---|---|\n",
       "| Susan   | Wilson  | F       | 23      |\n",
       "| Greg    | Gray    | M       | 46      |\n",
       "| Amy     | Sanders | F       | 32      |\n",
       "| Laura   | Xeon    | F       | 90      |\n",
       "| David   | Rogers  | M       | 53      |\n",
       "\n"
      ],
      "text/plain": [
       "  var_1 var_2   var_3 var_4\n",
       "1 Susan Wilson  F     23   \n",
       "2 Greg  Gray    M     46   \n",
       "3 Amy   Sanders F     32   \n",
       "4 Laura Xeon    F     90   \n",
       "5 David Rogers  M     53   "
      ]
     },
     "metadata": {},
     "output_type": "display_data"
    }
   ],
   "source": [
    "colnames(data) <- paste(\"var\", 1:dim(data)[2], sep=\"_\")\n",
    "data"
   ]
  },
  {
   "cell_type": "markdown",
   "metadata": {},
   "source": [
    "## Basic string functions\n",
    "The call `substr(x, start, stop)` returns the substring in the given character position range start:stop for string x. "
   ]
  },
  {
   "cell_type": "code",
   "execution_count": 16,
   "metadata": {},
   "outputs": [
    {
     "data": {
      "text/html": [
       "'Ciencia'"
      ],
      "text/latex": [
       "'Ciencia'"
      ],
      "text/markdown": [
       "'Ciencia'"
      ],
      "text/plain": [
       "[1] \"Ciencia\""
      ]
     },
     "metadata": {},
     "output_type": "display_data"
    }
   ],
   "source": [
    "substr(\"Ciencia de Datos\", 1, 7)"
   ]
  },
  {
   "cell_type": "code",
   "execution_count": 17,
   "metadata": {},
   "outputs": [
    {
     "ename": "ERROR",
     "evalue": "Error in substr(\"Ciencia de Datos\", 12): el argumento \"stop\" está ausente, sin valor por omisión\n",
     "output_type": "error",
     "traceback": [
      "Error in substr(\"Ciencia de Datos\", 12): el argumento \"stop\" está ausente, sin valor por omisión\nTraceback:\n",
      "1. substr(\"Ciencia de Datos\", 12)"
     ]
    }
   ],
   "source": [
    "substr(\"Ciencia de Datos\", 12)"
   ]
  },
  {
   "cell_type": "markdown",
   "metadata": {},
   "source": [
    "The call `strsplit(x, split)` splits a string x into an R list of substrings based on another string split in x. "
   ]
  },
  {
   "cell_type": "code",
   "execution_count": 18,
   "metadata": {},
   "outputs": [
    {
     "data": {
      "text/html": [
       "'Sat Nov 26 21:12:44 2022'"
      ],
      "text/latex": [
       "'Sat Nov 26 21:12:44 2022'"
      ],
      "text/markdown": [
       "'Sat Nov 26 21:12:44 2022'"
      ],
      "text/plain": [
       "[1] \"Sat Nov 26 21:12:44 2022\""
      ]
     },
     "metadata": {},
     "output_type": "display_data"
    }
   ],
   "source": [
    "date()"
   ]
  },
  {
   "cell_type": "code",
   "execution_count": 19,
   "metadata": {},
   "outputs": [
    {
     "data": {
      "text/html": [
       "<ol>\n",
       "\t<li><ol class=list-inline>\n",
       "\t<li>'Sat'</li>\n",
       "\t<li>'Nov'</li>\n",
       "\t<li>'26'</li>\n",
       "\t<li>'21:12:45'</li>\n",
       "\t<li>'2022'</li>\n",
       "</ol>\n",
       "</li>\n",
       "</ol>\n"
      ],
      "text/latex": [
       "\\begin{enumerate}\n",
       "\\item \\begin{enumerate*}\n",
       "\\item 'Sat'\n",
       "\\item 'Nov'\n",
       "\\item '26'\n",
       "\\item '21:12:45'\n",
       "\\item '2022'\n",
       "\\end{enumerate*}\n",
       "\n",
       "\\end{enumerate}\n"
      ],
      "text/markdown": [
       "1. 1. 'Sat'\n",
       "2. 'Nov'\n",
       "3. '26'\n",
       "4. '21:12:45'\n",
       "5. '2022'\n",
       "\n",
       "\n",
       "\n",
       "\n",
       "\n"
      ],
      "text/plain": [
       "[[1]]\n",
       "[1] \"Sat\"      \"Nov\"      \"26\"       \"21:12:45\" \"2022\"    \n"
      ]
     },
     "metadata": {},
     "output_type": "display_data"
    }
   ],
   "source": [
    "strsplit(date(), split=\" \")"
   ]
  },
  {
   "cell_type": "code",
   "execution_count": 20,
   "metadata": {},
   "outputs": [
    {
     "data": {
      "text/html": [
       "<ol>\n",
       "\t<li><ol class=list-inline>\n",
       "\t<li>'Sat'</li>\n",
       "\t<li>'Nov'</li>\n",
       "\t<li>'26'</li>\n",
       "\t<li>'21:12:46'</li>\n",
       "\t<li>'2022'</li>\n",
       "</ol>\n",
       "</li>\n",
       "\t<li><ol class=list-inline>\n",
       "\t<li>'hola'</li>\n",
       "\t<li>'mundo'</li>\n",
       "</ol>\n",
       "</li>\n",
       "</ol>\n"
      ],
      "text/latex": [
       "\\begin{enumerate}\n",
       "\\item \\begin{enumerate*}\n",
       "\\item 'Sat'\n",
       "\\item 'Nov'\n",
       "\\item '26'\n",
       "\\item '21:12:46'\n",
       "\\item '2022'\n",
       "\\end{enumerate*}\n",
       "\n",
       "\\item \\begin{enumerate*}\n",
       "\\item 'hola'\n",
       "\\item 'mundo'\n",
       "\\end{enumerate*}\n",
       "\n",
       "\\end{enumerate}\n"
      ],
      "text/markdown": [
       "1. 1. 'Sat'\n",
       "2. 'Nov'\n",
       "3. '26'\n",
       "4. '21:12:46'\n",
       "5. '2022'\n",
       "\n",
       "\n",
       "\n",
       "2. 1. 'hola'\n",
       "2. 'mundo'\n",
       "\n",
       "\n",
       "\n",
       "\n",
       "\n"
      ],
      "text/plain": [
       "[[1]]\n",
       "[1] \"Sat\"      \"Nov\"      \"26\"       \"21:12:46\" \"2022\"    \n",
       "\n",
       "[[2]]\n",
       "[1] \"hola\"  \"mundo\"\n"
      ]
     },
     "metadata": {},
     "output_type": "display_data"
    }
   ],
   "source": [
    "strsplit(c(date(), \"hola mundo\"), split=\" \")"
   ]
  },
  {
   "cell_type": "code",
   "execution_count": 21,
   "metadata": {},
   "outputs": [
    {
     "data": {
      "text/html": [
       "<ol>\n",
       "\t<li><ol class=list-inline>\n",
       "\t<li>'Est'</li>\n",
       "\t<li>'es un'</li>\n",
       "\t<li>'frase'</li>\n",
       "</ol>\n",
       "</li>\n",
       "\t<li><ol class=list-inline>\n",
       "\t<li>'Est'</li>\n",
       "\t<li>'es otr'</li>\n",
       "\t<li>'lind'</li>\n",
       "\t<li>'frase'</li>\n",
       "</ol>\n",
       "</li>\n",
       "</ol>\n"
      ],
      "text/latex": [
       "\\begin{enumerate}\n",
       "\\item \\begin{enumerate*}\n",
       "\\item 'Est'\n",
       "\\item 'es un'\n",
       "\\item 'frase'\n",
       "\\end{enumerate*}\n",
       "\n",
       "\\item \\begin{enumerate*}\n",
       "\\item 'Est'\n",
       "\\item 'es otr'\n",
       "\\item 'lind'\n",
       "\\item 'frase'\n",
       "\\end{enumerate*}\n",
       "\n",
       "\\end{enumerate}\n"
      ],
      "text/markdown": [
       "1. 1. 'Est'\n",
       "2. 'es un'\n",
       "3. 'frase'\n",
       "\n",
       "\n",
       "\n",
       "2. 1. 'Est'\n",
       "2. 'es otr'\n",
       "3. 'lind'\n",
       "4. 'frase'\n",
       "\n",
       "\n",
       "\n",
       "\n",
       "\n"
      ],
      "text/plain": [
       "[[1]]\n",
       "[1] \"Est\"   \"es un\" \"frase\"\n",
       "\n",
       "[[2]]\n",
       "[1] \"Est\"    \"es otr\" \"lind\"   \"frase\" \n"
      ]
     },
     "metadata": {},
     "output_type": "display_data"
    }
   ],
   "source": [
    "strsplit(c(\"Esta es una frase\", \"Esta es otra linda frase\"), split=\"a \")"
   ]
  },
  {
   "cell_type": "code",
   "execution_count": 22,
   "metadata": {},
   "outputs": [
    {
     "data": {
      "text/html": [
       "<ol>\n",
       "\t<li><ol class=list-inline>\n",
       "\t<li>'Esta'</li>\n",
       "\t<li>'es'</li>\n",
       "\t<li>'una'</li>\n",
       "\t<li>'frase'</li>\n",
       "</ol>\n",
       "</li>\n",
       "\t<li><ol class=list-inline>\n",
       "\t<li>'Esta '</li>\n",
       "\t<li>'s otra fras'</li>\n",
       "</ol>\n",
       "</li>\n",
       "</ol>\n"
      ],
      "text/latex": [
       "\\begin{enumerate}\n",
       "\\item \\begin{enumerate*}\n",
       "\\item 'Esta'\n",
       "\\item 'es'\n",
       "\\item 'una'\n",
       "\\item 'frase'\n",
       "\\end{enumerate*}\n",
       "\n",
       "\\item \\begin{enumerate*}\n",
       "\\item 'Esta '\n",
       "\\item 's otra fras'\n",
       "\\end{enumerate*}\n",
       "\n",
       "\\end{enumerate}\n"
      ],
      "text/markdown": [
       "1. 1. 'Esta'\n",
       "2. 'es'\n",
       "3. 'una'\n",
       "4. 'frase'\n",
       "\n",
       "\n",
       "\n",
       "2. 1. 'Esta '\n",
       "2. 's otra fras'\n",
       "\n",
       "\n",
       "\n",
       "\n",
       "\n"
      ],
      "text/plain": [
       "[[1]]\n",
       "[1] \"Esta\"  \"es\"    \"una\"   \"frase\"\n",
       "\n",
       "[[2]]\n",
       "[1] \"Esta \"       \"s otra fras\"\n"
      ]
     },
     "metadata": {},
     "output_type": "display_data"
    }
   ],
   "source": [
    "strsplit(c(\"Esta es una frase\", \"Esta es otra frase\"), split=c(\" \", \"e\"))"
   ]
  },
  {
   "cell_type": "markdown",
   "metadata": {},
   "source": [
    "## Example\n",
    "\n",
    "* Files in directory"
   ]
  },
  {
   "cell_type": "code",
   "execution_count": 23,
   "metadata": {},
   "outputs": [
    {
     "data": {
      "text/html": [
       "<ol class=list-inline>\n",
       "\t<li>'01_Curso_Jornada_1_R_Rstudio_2022.pdf'</li>\n",
       "\t<li>'02_Curso_2_Data_types_I_2022.pdf'</li>\n",
       "\t<li>'03_Curso_2.2_Data_types_II_Listas_2020.pdf'</li>\n",
       "\t<li>'03_Factores_y_DF_Listas_2022.pdf'</li>\n",
       "\t<li>'04_dplyr_joins_2022.pdf'</li>\n",
       "\t<li>'05_forcats_2022.pdf'</li>\n",
       "\t<li>'Functions.ipynb'</li>\n",
       "\t<li>'Graphs with ggplot.ipynb'</li>\n",
       "\t<li>'Input-Output.ipynb'</li>\n",
       "\t<li>'Programming.ipynb'</li>\n",
       "\t<li>'Strings.ipynb'</li>\n",
       "</ol>\n"
      ],
      "text/latex": [
       "\\begin{enumerate*}\n",
       "\\item '01\\_Curso\\_Jornada\\_1\\_R\\_Rstudio\\_2022.pdf'\n",
       "\\item '02\\_Curso\\_2\\_Data\\_types\\_I\\_2022.pdf'\n",
       "\\item '03\\_Curso\\_2.2\\_Data\\_types\\_II\\_Listas\\_2020.pdf'\n",
       "\\item '03\\_Factores\\_y\\_DF\\_Listas\\_2022.pdf'\n",
       "\\item '04\\_dplyr\\_joins\\_2022.pdf'\n",
       "\\item '05\\_forcats\\_2022.pdf'\n",
       "\\item 'Functions.ipynb'\n",
       "\\item 'Graphs with ggplot.ipynb'\n",
       "\\item 'Input-Output.ipynb'\n",
       "\\item 'Programming.ipynb'\n",
       "\\item 'Strings.ipynb'\n",
       "\\end{enumerate*}\n"
      ],
      "text/markdown": [
       "1. '01_Curso_Jornada_1_R_Rstudio_2022.pdf'\n",
       "2. '02_Curso_2_Data_types_I_2022.pdf'\n",
       "3. '03_Curso_2.2_Data_types_II_Listas_2020.pdf'\n",
       "4. '03_Factores_y_DF_Listas_2022.pdf'\n",
       "5. '04_dplyr_joins_2022.pdf'\n",
       "6. '05_forcats_2022.pdf'\n",
       "7. 'Functions.ipynb'\n",
       "8. 'Graphs with ggplot.ipynb'\n",
       "9. 'Input-Output.ipynb'\n",
       "10. 'Programming.ipynb'\n",
       "11. 'Strings.ipynb'\n",
       "\n",
       "\n"
      ],
      "text/plain": [
       " [1] \"01_Curso_Jornada_1_R_Rstudio_2022.pdf\"     \n",
       " [2] \"02_Curso_2_Data_types_I_2022.pdf\"          \n",
       " [3] \"03_Curso_2.2_Data_types_II_Listas_2020.pdf\"\n",
       " [4] \"03_Factores_y_DF_Listas_2022.pdf\"          \n",
       " [5] \"04_dplyr_joins_2022.pdf\"                   \n",
       " [6] \"05_forcats_2022.pdf\"                       \n",
       " [7] \"Functions.ipynb\"                           \n",
       " [8] \"Graphs with ggplot.ipynb\"                  \n",
       " [9] \"Input-Output.ipynb\"                        \n",
       "[10] \"Programming.ipynb\"                         \n",
       "[11] \"Strings.ipynb\"                             "
      ]
     },
     "metadata": {},
     "output_type": "display_data"
    }
   ],
   "source": [
    "files <- list.files()\n",
    "files"
   ]
  },
  {
   "cell_type": "code",
   "execution_count": 24,
   "metadata": {},
   "outputs": [
    {
     "data": {
      "text/html": [
       "<ol>\n",
       "\t<li><ol class=list-inline>\n",
       "\t<li>''</li>\n",
       "\t<li>''</li>\n",
       "\t<li>''</li>\n",
       "\t<li>''</li>\n",
       "\t<li>''</li>\n",
       "\t<li>''</li>\n",
       "\t<li>''</li>\n",
       "\t<li>''</li>\n",
       "\t<li>''</li>\n",
       "\t<li>''</li>\n",
       "\t<li>''</li>\n",
       "\t<li>''</li>\n",
       "\t<li>''</li>\n",
       "\t<li>''</li>\n",
       "\t<li>''</li>\n",
       "\t<li>''</li>\n",
       "\t<li>''</li>\n",
       "\t<li>''</li>\n",
       "\t<li>''</li>\n",
       "\t<li>''</li>\n",
       "\t<li>''</li>\n",
       "\t<li>''</li>\n",
       "\t<li>''</li>\n",
       "\t<li>''</li>\n",
       "\t<li>''</li>\n",
       "\t<li>''</li>\n",
       "\t<li>''</li>\n",
       "\t<li>''</li>\n",
       "\t<li>''</li>\n",
       "\t<li>''</li>\n",
       "\t<li>''</li>\n",
       "\t<li>''</li>\n",
       "\t<li>''</li>\n",
       "\t<li>''</li>\n",
       "\t<li>''</li>\n",
       "\t<li>''</li>\n",
       "\t<li>''</li>\n",
       "</ol>\n",
       "</li>\n",
       "\t<li><ol class=list-inline>\n",
       "\t<li>''</li>\n",
       "\t<li>''</li>\n",
       "\t<li>''</li>\n",
       "\t<li>''</li>\n",
       "\t<li>''</li>\n",
       "\t<li>''</li>\n",
       "\t<li>''</li>\n",
       "\t<li>''</li>\n",
       "\t<li>''</li>\n",
       "\t<li>''</li>\n",
       "\t<li>''</li>\n",
       "\t<li>''</li>\n",
       "\t<li>''</li>\n",
       "\t<li>''</li>\n",
       "\t<li>''</li>\n",
       "\t<li>''</li>\n",
       "\t<li>''</li>\n",
       "\t<li>''</li>\n",
       "\t<li>''</li>\n",
       "\t<li>''</li>\n",
       "\t<li>''</li>\n",
       "\t<li>''</li>\n",
       "\t<li>''</li>\n",
       "\t<li>''</li>\n",
       "\t<li>''</li>\n",
       "\t<li>''</li>\n",
       "\t<li>''</li>\n",
       "\t<li>''</li>\n",
       "\t<li>''</li>\n",
       "\t<li>''</li>\n",
       "\t<li>''</li>\n",
       "\t<li>''</li>\n",
       "</ol>\n",
       "</li>\n",
       "\t<li><ol class=list-inline>\n",
       "\t<li>''</li>\n",
       "\t<li>''</li>\n",
       "\t<li>''</li>\n",
       "\t<li>''</li>\n",
       "\t<li>''</li>\n",
       "\t<li>''</li>\n",
       "\t<li>''</li>\n",
       "\t<li>''</li>\n",
       "\t<li>''</li>\n",
       "\t<li>''</li>\n",
       "\t<li>''</li>\n",
       "\t<li>''</li>\n",
       "\t<li>''</li>\n",
       "\t<li>''</li>\n",
       "\t<li>''</li>\n",
       "\t<li>''</li>\n",
       "\t<li>''</li>\n",
       "\t<li>''</li>\n",
       "\t<li>''</li>\n",
       "\t<li>''</li>\n",
       "\t<li>''</li>\n",
       "\t<li>''</li>\n",
       "\t<li>''</li>\n",
       "\t<li>''</li>\n",
       "\t<li>''</li>\n",
       "\t<li>''</li>\n",
       "\t<li>''</li>\n",
       "\t<li>''</li>\n",
       "\t<li>''</li>\n",
       "\t<li>''</li>\n",
       "\t<li>''</li>\n",
       "\t<li>''</li>\n",
       "\t<li>''</li>\n",
       "\t<li>''</li>\n",
       "\t<li>''</li>\n",
       "\t<li>''</li>\n",
       "\t<li>''</li>\n",
       "\t<li>''</li>\n",
       "\t<li>''</li>\n",
       "\t<li>''</li>\n",
       "\t<li>''</li>\n",
       "\t<li>''</li>\n",
       "</ol>\n",
       "</li>\n",
       "\t<li><ol class=list-inline>\n",
       "\t<li>''</li>\n",
       "\t<li>''</li>\n",
       "\t<li>''</li>\n",
       "\t<li>''</li>\n",
       "\t<li>''</li>\n",
       "\t<li>''</li>\n",
       "\t<li>''</li>\n",
       "\t<li>''</li>\n",
       "\t<li>''</li>\n",
       "\t<li>''</li>\n",
       "\t<li>''</li>\n",
       "\t<li>''</li>\n",
       "\t<li>''</li>\n",
       "\t<li>''</li>\n",
       "\t<li>''</li>\n",
       "\t<li>''</li>\n",
       "\t<li>''</li>\n",
       "\t<li>''</li>\n",
       "\t<li>''</li>\n",
       "\t<li>''</li>\n",
       "\t<li>''</li>\n",
       "\t<li>''</li>\n",
       "\t<li>''</li>\n",
       "\t<li>''</li>\n",
       "\t<li>''</li>\n",
       "\t<li>''</li>\n",
       "\t<li>''</li>\n",
       "\t<li>''</li>\n",
       "\t<li>''</li>\n",
       "\t<li>''</li>\n",
       "\t<li>''</li>\n",
       "\t<li>''</li>\n",
       "</ol>\n",
       "</li>\n",
       "\t<li><ol class=list-inline>\n",
       "\t<li>''</li>\n",
       "\t<li>''</li>\n",
       "\t<li>''</li>\n",
       "\t<li>''</li>\n",
       "\t<li>''</li>\n",
       "\t<li>''</li>\n",
       "\t<li>''</li>\n",
       "\t<li>''</li>\n",
       "\t<li>''</li>\n",
       "\t<li>''</li>\n",
       "\t<li>''</li>\n",
       "\t<li>''</li>\n",
       "\t<li>''</li>\n",
       "\t<li>''</li>\n",
       "\t<li>''</li>\n",
       "\t<li>''</li>\n",
       "\t<li>''</li>\n",
       "\t<li>''</li>\n",
       "\t<li>''</li>\n",
       "\t<li>''</li>\n",
       "\t<li>''</li>\n",
       "\t<li>''</li>\n",
       "\t<li>''</li>\n",
       "</ol>\n",
       "</li>\n",
       "\t<li><ol class=list-inline>\n",
       "\t<li>''</li>\n",
       "\t<li>''</li>\n",
       "\t<li>''</li>\n",
       "\t<li>''</li>\n",
       "\t<li>''</li>\n",
       "\t<li>''</li>\n",
       "\t<li>''</li>\n",
       "\t<li>''</li>\n",
       "\t<li>''</li>\n",
       "\t<li>''</li>\n",
       "\t<li>''</li>\n",
       "\t<li>''</li>\n",
       "\t<li>''</li>\n",
       "\t<li>''</li>\n",
       "\t<li>''</li>\n",
       "\t<li>''</li>\n",
       "\t<li>''</li>\n",
       "\t<li>''</li>\n",
       "\t<li>''</li>\n",
       "</ol>\n",
       "</li>\n",
       "\t<li><ol class=list-inline>\n",
       "\t<li>''</li>\n",
       "\t<li>''</li>\n",
       "\t<li>''</li>\n",
       "\t<li>''</li>\n",
       "\t<li>''</li>\n",
       "\t<li>''</li>\n",
       "\t<li>''</li>\n",
       "\t<li>''</li>\n",
       "\t<li>''</li>\n",
       "\t<li>''</li>\n",
       "\t<li>''</li>\n",
       "\t<li>''</li>\n",
       "\t<li>''</li>\n",
       "\t<li>''</li>\n",
       "\t<li>''</li>\n",
       "</ol>\n",
       "</li>\n",
       "\t<li><ol class=list-inline>\n",
       "\t<li>''</li>\n",
       "\t<li>''</li>\n",
       "\t<li>''</li>\n",
       "\t<li>''</li>\n",
       "\t<li>''</li>\n",
       "\t<li>''</li>\n",
       "\t<li>''</li>\n",
       "\t<li>''</li>\n",
       "\t<li>''</li>\n",
       "\t<li>''</li>\n",
       "\t<li>''</li>\n",
       "\t<li>''</li>\n",
       "\t<li>''</li>\n",
       "\t<li>''</li>\n",
       "\t<li>''</li>\n",
       "\t<li>''</li>\n",
       "\t<li>''</li>\n",
       "\t<li>''</li>\n",
       "\t<li>''</li>\n",
       "\t<li>''</li>\n",
       "\t<li>''</li>\n",
       "\t<li>''</li>\n",
       "\t<li>''</li>\n",
       "\t<li>''</li>\n",
       "</ol>\n",
       "</li>\n",
       "\t<li><ol class=list-inline>\n",
       "\t<li>''</li>\n",
       "\t<li>''</li>\n",
       "\t<li>''</li>\n",
       "\t<li>''</li>\n",
       "\t<li>''</li>\n",
       "\t<li>''</li>\n",
       "\t<li>''</li>\n",
       "\t<li>''</li>\n",
       "\t<li>''</li>\n",
       "\t<li>''</li>\n",
       "\t<li>''</li>\n",
       "\t<li>''</li>\n",
       "\t<li>''</li>\n",
       "\t<li>''</li>\n",
       "\t<li>''</li>\n",
       "\t<li>''</li>\n",
       "\t<li>''</li>\n",
       "\t<li>''</li>\n",
       "</ol>\n",
       "</li>\n",
       "\t<li><ol class=list-inline>\n",
       "\t<li>''</li>\n",
       "\t<li>''</li>\n",
       "\t<li>''</li>\n",
       "\t<li>''</li>\n",
       "\t<li>''</li>\n",
       "\t<li>''</li>\n",
       "\t<li>''</li>\n",
       "\t<li>''</li>\n",
       "\t<li>''</li>\n",
       "\t<li>''</li>\n",
       "\t<li>''</li>\n",
       "\t<li>''</li>\n",
       "\t<li>''</li>\n",
       "\t<li>''</li>\n",
       "\t<li>''</li>\n",
       "\t<li>''</li>\n",
       "\t<li>''</li>\n",
       "</ol>\n",
       "</li>\n",
       "\t<li><ol class=list-inline>\n",
       "\t<li>''</li>\n",
       "\t<li>''</li>\n",
       "\t<li>''</li>\n",
       "\t<li>''</li>\n",
       "\t<li>''</li>\n",
       "\t<li>''</li>\n",
       "\t<li>''</li>\n",
       "\t<li>''</li>\n",
       "\t<li>''</li>\n",
       "\t<li>''</li>\n",
       "\t<li>''</li>\n",
       "\t<li>''</li>\n",
       "\t<li>''</li>\n",
       "</ol>\n",
       "</li>\n",
       "</ol>\n"
      ],
      "text/latex": [
       "\\begin{enumerate}\n",
       "\\item \\begin{enumerate*}\n",
       "\\item ''\n",
       "\\item ''\n",
       "\\item ''\n",
       "\\item ''\n",
       "\\item ''\n",
       "\\item ''\n",
       "\\item ''\n",
       "\\item ''\n",
       "\\item ''\n",
       "\\item ''\n",
       "\\item ''\n",
       "\\item ''\n",
       "\\item ''\n",
       "\\item ''\n",
       "\\item ''\n",
       "\\item ''\n",
       "\\item ''\n",
       "\\item ''\n",
       "\\item ''\n",
       "\\item ''\n",
       "\\item ''\n",
       "\\item ''\n",
       "\\item ''\n",
       "\\item ''\n",
       "\\item ''\n",
       "\\item ''\n",
       "\\item ''\n",
       "\\item ''\n",
       "\\item ''\n",
       "\\item ''\n",
       "\\item ''\n",
       "\\item ''\n",
       "\\item ''\n",
       "\\item ''\n",
       "\\item ''\n",
       "\\item ''\n",
       "\\item ''\n",
       "\\end{enumerate*}\n",
       "\n",
       "\\item \\begin{enumerate*}\n",
       "\\item ''\n",
       "\\item ''\n",
       "\\item ''\n",
       "\\item ''\n",
       "\\item ''\n",
       "\\item ''\n",
       "\\item ''\n",
       "\\item ''\n",
       "\\item ''\n",
       "\\item ''\n",
       "\\item ''\n",
       "\\item ''\n",
       "\\item ''\n",
       "\\item ''\n",
       "\\item ''\n",
       "\\item ''\n",
       "\\item ''\n",
       "\\item ''\n",
       "\\item ''\n",
       "\\item ''\n",
       "\\item ''\n",
       "\\item ''\n",
       "\\item ''\n",
       "\\item ''\n",
       "\\item ''\n",
       "\\item ''\n",
       "\\item ''\n",
       "\\item ''\n",
       "\\item ''\n",
       "\\item ''\n",
       "\\item ''\n",
       "\\item ''\n",
       "\\end{enumerate*}\n",
       "\n",
       "\\item \\begin{enumerate*}\n",
       "\\item ''\n",
       "\\item ''\n",
       "\\item ''\n",
       "\\item ''\n",
       "\\item ''\n",
       "\\item ''\n",
       "\\item ''\n",
       "\\item ''\n",
       "\\item ''\n",
       "\\item ''\n",
       "\\item ''\n",
       "\\item ''\n",
       "\\item ''\n",
       "\\item ''\n",
       "\\item ''\n",
       "\\item ''\n",
       "\\item ''\n",
       "\\item ''\n",
       "\\item ''\n",
       "\\item ''\n",
       "\\item ''\n",
       "\\item ''\n",
       "\\item ''\n",
       "\\item ''\n",
       "\\item ''\n",
       "\\item ''\n",
       "\\item ''\n",
       "\\item ''\n",
       "\\item ''\n",
       "\\item ''\n",
       "\\item ''\n",
       "\\item ''\n",
       "\\item ''\n",
       "\\item ''\n",
       "\\item ''\n",
       "\\item ''\n",
       "\\item ''\n",
       "\\item ''\n",
       "\\item ''\n",
       "\\item ''\n",
       "\\item ''\n",
       "\\item ''\n",
       "\\end{enumerate*}\n",
       "\n",
       "\\item \\begin{enumerate*}\n",
       "\\item ''\n",
       "\\item ''\n",
       "\\item ''\n",
       "\\item ''\n",
       "\\item ''\n",
       "\\item ''\n",
       "\\item ''\n",
       "\\item ''\n",
       "\\item ''\n",
       "\\item ''\n",
       "\\item ''\n",
       "\\item ''\n",
       "\\item ''\n",
       "\\item ''\n",
       "\\item ''\n",
       "\\item ''\n",
       "\\item ''\n",
       "\\item ''\n",
       "\\item ''\n",
       "\\item ''\n",
       "\\item ''\n",
       "\\item ''\n",
       "\\item ''\n",
       "\\item ''\n",
       "\\item ''\n",
       "\\item ''\n",
       "\\item ''\n",
       "\\item ''\n",
       "\\item ''\n",
       "\\item ''\n",
       "\\item ''\n",
       "\\item ''\n",
       "\\end{enumerate*}\n",
       "\n",
       "\\item \\begin{enumerate*}\n",
       "\\item ''\n",
       "\\item ''\n",
       "\\item ''\n",
       "\\item ''\n",
       "\\item ''\n",
       "\\item ''\n",
       "\\item ''\n",
       "\\item ''\n",
       "\\item ''\n",
       "\\item ''\n",
       "\\item ''\n",
       "\\item ''\n",
       "\\item ''\n",
       "\\item ''\n",
       "\\item ''\n",
       "\\item ''\n",
       "\\item ''\n",
       "\\item ''\n",
       "\\item ''\n",
       "\\item ''\n",
       "\\item ''\n",
       "\\item ''\n",
       "\\item ''\n",
       "\\end{enumerate*}\n",
       "\n",
       "\\item \\begin{enumerate*}\n",
       "\\item ''\n",
       "\\item ''\n",
       "\\item ''\n",
       "\\item ''\n",
       "\\item ''\n",
       "\\item ''\n",
       "\\item ''\n",
       "\\item ''\n",
       "\\item ''\n",
       "\\item ''\n",
       "\\item ''\n",
       "\\item ''\n",
       "\\item ''\n",
       "\\item ''\n",
       "\\item ''\n",
       "\\item ''\n",
       "\\item ''\n",
       "\\item ''\n",
       "\\item ''\n",
       "\\end{enumerate*}\n",
       "\n",
       "\\item \\begin{enumerate*}\n",
       "\\item ''\n",
       "\\item ''\n",
       "\\item ''\n",
       "\\item ''\n",
       "\\item ''\n",
       "\\item ''\n",
       "\\item ''\n",
       "\\item ''\n",
       "\\item ''\n",
       "\\item ''\n",
       "\\item ''\n",
       "\\item ''\n",
       "\\item ''\n",
       "\\item ''\n",
       "\\item ''\n",
       "\\end{enumerate*}\n",
       "\n",
       "\\item \\begin{enumerate*}\n",
       "\\item ''\n",
       "\\item ''\n",
       "\\item ''\n",
       "\\item ''\n",
       "\\item ''\n",
       "\\item ''\n",
       "\\item ''\n",
       "\\item ''\n",
       "\\item ''\n",
       "\\item ''\n",
       "\\item ''\n",
       "\\item ''\n",
       "\\item ''\n",
       "\\item ''\n",
       "\\item ''\n",
       "\\item ''\n",
       "\\item ''\n",
       "\\item ''\n",
       "\\item ''\n",
       "\\item ''\n",
       "\\item ''\n",
       "\\item ''\n",
       "\\item ''\n",
       "\\item ''\n",
       "\\end{enumerate*}\n",
       "\n",
       "\\item \\begin{enumerate*}\n",
       "\\item ''\n",
       "\\item ''\n",
       "\\item ''\n",
       "\\item ''\n",
       "\\item ''\n",
       "\\item ''\n",
       "\\item ''\n",
       "\\item ''\n",
       "\\item ''\n",
       "\\item ''\n",
       "\\item ''\n",
       "\\item ''\n",
       "\\item ''\n",
       "\\item ''\n",
       "\\item ''\n",
       "\\item ''\n",
       "\\item ''\n",
       "\\item ''\n",
       "\\end{enumerate*}\n",
       "\n",
       "\\item \\begin{enumerate*}\n",
       "\\item ''\n",
       "\\item ''\n",
       "\\item ''\n",
       "\\item ''\n",
       "\\item ''\n",
       "\\item ''\n",
       "\\item ''\n",
       "\\item ''\n",
       "\\item ''\n",
       "\\item ''\n",
       "\\item ''\n",
       "\\item ''\n",
       "\\item ''\n",
       "\\item ''\n",
       "\\item ''\n",
       "\\item ''\n",
       "\\item ''\n",
       "\\end{enumerate*}\n",
       "\n",
       "\\item \\begin{enumerate*}\n",
       "\\item ''\n",
       "\\item ''\n",
       "\\item ''\n",
       "\\item ''\n",
       "\\item ''\n",
       "\\item ''\n",
       "\\item ''\n",
       "\\item ''\n",
       "\\item ''\n",
       "\\item ''\n",
       "\\item ''\n",
       "\\item ''\n",
       "\\item ''\n",
       "\\end{enumerate*}\n",
       "\n",
       "\\end{enumerate}\n"
      ],
      "text/markdown": [
       "1. 1. ''\n",
       "2. ''\n",
       "3. ''\n",
       "4. ''\n",
       "5. ''\n",
       "6. ''\n",
       "7. ''\n",
       "8. ''\n",
       "9. ''\n",
       "10. ''\n",
       "11. ''\n",
       "12. ''\n",
       "13. ''\n",
       "14. ''\n",
       "15. ''\n",
       "16. ''\n",
       "17. ''\n",
       "18. ''\n",
       "19. ''\n",
       "20. ''\n",
       "21. ''\n",
       "22. ''\n",
       "23. ''\n",
       "24. ''\n",
       "25. ''\n",
       "26. ''\n",
       "27. ''\n",
       "28. ''\n",
       "29. ''\n",
       "30. ''\n",
       "31. ''\n",
       "32. ''\n",
       "33. ''\n",
       "34. ''\n",
       "35. ''\n",
       "36. ''\n",
       "37. ''\n",
       "\n",
       "\n",
       "\n",
       "2. 1. ''\n",
       "2. ''\n",
       "3. ''\n",
       "4. ''\n",
       "5. ''\n",
       "6. ''\n",
       "7. ''\n",
       "8. ''\n",
       "9. ''\n",
       "10. ''\n",
       "11. ''\n",
       "12. ''\n",
       "13. ''\n",
       "14. ''\n",
       "15. ''\n",
       "16. ''\n",
       "17. ''\n",
       "18. ''\n",
       "19. ''\n",
       "20. ''\n",
       "21. ''\n",
       "22. ''\n",
       "23. ''\n",
       "24. ''\n",
       "25. ''\n",
       "26. ''\n",
       "27. ''\n",
       "28. ''\n",
       "29. ''\n",
       "30. ''\n",
       "31. ''\n",
       "32. ''\n",
       "\n",
       "\n",
       "\n",
       "3. 1. ''\n",
       "2. ''\n",
       "3. ''\n",
       "4. ''\n",
       "5. ''\n",
       "6. ''\n",
       "7. ''\n",
       "8. ''\n",
       "9. ''\n",
       "10. ''\n",
       "11. ''\n",
       "12. ''\n",
       "13. ''\n",
       "14. ''\n",
       "15. ''\n",
       "16. ''\n",
       "17. ''\n",
       "18. ''\n",
       "19. ''\n",
       "20. ''\n",
       "21. ''\n",
       "22. ''\n",
       "23. ''\n",
       "24. ''\n",
       "25. ''\n",
       "26. ''\n",
       "27. ''\n",
       "28. ''\n",
       "29. ''\n",
       "30. ''\n",
       "31. ''\n",
       "32. ''\n",
       "33. ''\n",
       "34. ''\n",
       "35. ''\n",
       "36. ''\n",
       "37. ''\n",
       "38. ''\n",
       "39. ''\n",
       "40. ''\n",
       "41. ''\n",
       "42. ''\n",
       "\n",
       "\n",
       "\n",
       "4. 1. ''\n",
       "2. ''\n",
       "3. ''\n",
       "4. ''\n",
       "5. ''\n",
       "6. ''\n",
       "7. ''\n",
       "8. ''\n",
       "9. ''\n",
       "10. ''\n",
       "11. ''\n",
       "12. ''\n",
       "13. ''\n",
       "14. ''\n",
       "15. ''\n",
       "16. ''\n",
       "17. ''\n",
       "18. ''\n",
       "19. ''\n",
       "20. ''\n",
       "21. ''\n",
       "22. ''\n",
       "23. ''\n",
       "24. ''\n",
       "25. ''\n",
       "26. ''\n",
       "27. ''\n",
       "28. ''\n",
       "29. ''\n",
       "30. ''\n",
       "31. ''\n",
       "32. ''\n",
       "\n",
       "\n",
       "\n",
       "5. 1. ''\n",
       "2. ''\n",
       "3. ''\n",
       "4. ''\n",
       "5. ''\n",
       "6. ''\n",
       "7. ''\n",
       "8. ''\n",
       "9. ''\n",
       "10. ''\n",
       "11. ''\n",
       "12. ''\n",
       "13. ''\n",
       "14. ''\n",
       "15. ''\n",
       "16. ''\n",
       "17. ''\n",
       "18. ''\n",
       "19. ''\n",
       "20. ''\n",
       "21. ''\n",
       "22. ''\n",
       "23. ''\n",
       "\n",
       "\n",
       "\n",
       "6. 1. ''\n",
       "2. ''\n",
       "3. ''\n",
       "4. ''\n",
       "5. ''\n",
       "6. ''\n",
       "7. ''\n",
       "8. ''\n",
       "9. ''\n",
       "10. ''\n",
       "11. ''\n",
       "12. ''\n",
       "13. ''\n",
       "14. ''\n",
       "15. ''\n",
       "16. ''\n",
       "17. ''\n",
       "18. ''\n",
       "19. ''\n",
       "\n",
       "\n",
       "\n",
       "7. 1. ''\n",
       "2. ''\n",
       "3. ''\n",
       "4. ''\n",
       "5. ''\n",
       "6. ''\n",
       "7. ''\n",
       "8. ''\n",
       "9. ''\n",
       "10. ''\n",
       "11. ''\n",
       "12. ''\n",
       "13. ''\n",
       "14. ''\n",
       "15. ''\n",
       "\n",
       "\n",
       "\n",
       "8. 1. ''\n",
       "2. ''\n",
       "3. ''\n",
       "4. ''\n",
       "5. ''\n",
       "6. ''\n",
       "7. ''\n",
       "8. ''\n",
       "9. ''\n",
       "10. ''\n",
       "11. ''\n",
       "12. ''\n",
       "13. ''\n",
       "14. ''\n",
       "15. ''\n",
       "16. ''\n",
       "17. ''\n",
       "18. ''\n",
       "19. ''\n",
       "20. ''\n",
       "21. ''\n",
       "22. ''\n",
       "23. ''\n",
       "24. ''\n",
       "\n",
       "\n",
       "\n",
       "9. 1. ''\n",
       "2. ''\n",
       "3. ''\n",
       "4. ''\n",
       "5. ''\n",
       "6. ''\n",
       "7. ''\n",
       "8. ''\n",
       "9. ''\n",
       "10. ''\n",
       "11. ''\n",
       "12. ''\n",
       "13. ''\n",
       "14. ''\n",
       "15. ''\n",
       "16. ''\n",
       "17. ''\n",
       "18. ''\n",
       "\n",
       "\n",
       "\n",
       "10. 1. ''\n",
       "2. ''\n",
       "3. ''\n",
       "4. ''\n",
       "5. ''\n",
       "6. ''\n",
       "7. ''\n",
       "8. ''\n",
       "9. ''\n",
       "10. ''\n",
       "11. ''\n",
       "12. ''\n",
       "13. ''\n",
       "14. ''\n",
       "15. ''\n",
       "16. ''\n",
       "17. ''\n",
       "\n",
       "\n",
       "\n",
       "11. 1. ''\n",
       "2. ''\n",
       "3. ''\n",
       "4. ''\n",
       "5. ''\n",
       "6. ''\n",
       "7. ''\n",
       "8. ''\n",
       "9. ''\n",
       "10. ''\n",
       "11. ''\n",
       "12. ''\n",
       "13. ''\n",
       "\n",
       "\n",
       "\n",
       "\n",
       "\n"
      ],
      "text/plain": [
       "[[1]]\n",
       " [1] \"\" \"\" \"\" \"\" \"\" \"\" \"\" \"\" \"\" \"\" \"\" \"\" \"\" \"\" \"\" \"\" \"\" \"\" \"\" \"\" \"\" \"\" \"\" \"\" \"\"\n",
       "[26] \"\" \"\" \"\" \"\" \"\" \"\" \"\" \"\" \"\" \"\" \"\" \"\"\n",
       "\n",
       "[[2]]\n",
       " [1] \"\" \"\" \"\" \"\" \"\" \"\" \"\" \"\" \"\" \"\" \"\" \"\" \"\" \"\" \"\" \"\" \"\" \"\" \"\" \"\" \"\" \"\" \"\" \"\" \"\"\n",
       "[26] \"\" \"\" \"\" \"\" \"\" \"\" \"\"\n",
       "\n",
       "[[3]]\n",
       " [1] \"\" \"\" \"\" \"\" \"\" \"\" \"\" \"\" \"\" \"\" \"\" \"\" \"\" \"\" \"\" \"\" \"\" \"\" \"\" \"\" \"\" \"\" \"\" \"\" \"\"\n",
       "[26] \"\" \"\" \"\" \"\" \"\" \"\" \"\" \"\" \"\" \"\" \"\" \"\" \"\" \"\" \"\" \"\" \"\"\n",
       "\n",
       "[[4]]\n",
       " [1] \"\" \"\" \"\" \"\" \"\" \"\" \"\" \"\" \"\" \"\" \"\" \"\" \"\" \"\" \"\" \"\" \"\" \"\" \"\" \"\" \"\" \"\" \"\" \"\" \"\"\n",
       "[26] \"\" \"\" \"\" \"\" \"\" \"\" \"\"\n",
       "\n",
       "[[5]]\n",
       " [1] \"\" \"\" \"\" \"\" \"\" \"\" \"\" \"\" \"\" \"\" \"\" \"\" \"\" \"\" \"\" \"\" \"\" \"\" \"\" \"\" \"\" \"\" \"\"\n",
       "\n",
       "[[6]]\n",
       " [1] \"\" \"\" \"\" \"\" \"\" \"\" \"\" \"\" \"\" \"\" \"\" \"\" \"\" \"\" \"\" \"\" \"\" \"\" \"\"\n",
       "\n",
       "[[7]]\n",
       " [1] \"\" \"\" \"\" \"\" \"\" \"\" \"\" \"\" \"\" \"\" \"\" \"\" \"\" \"\" \"\"\n",
       "\n",
       "[[8]]\n",
       " [1] \"\" \"\" \"\" \"\" \"\" \"\" \"\" \"\" \"\" \"\" \"\" \"\" \"\" \"\" \"\" \"\" \"\" \"\" \"\" \"\" \"\" \"\" \"\" \"\"\n",
       "\n",
       "[[9]]\n",
       " [1] \"\" \"\" \"\" \"\" \"\" \"\" \"\" \"\" \"\" \"\" \"\" \"\" \"\" \"\" \"\" \"\" \"\" \"\"\n",
       "\n",
       "[[10]]\n",
       " [1] \"\" \"\" \"\" \"\" \"\" \"\" \"\" \"\" \"\" \"\" \"\" \"\" \"\" \"\" \"\" \"\" \"\"\n",
       "\n",
       "[[11]]\n",
       " [1] \"\" \"\" \"\" \"\" \"\" \"\" \"\" \"\" \"\" \"\" \"\" \"\" \"\"\n"
      ]
     },
     "metadata": {},
     "output_type": "display_data"
    }
   ],
   "source": [
    "strsplit(files, split=\".\")"
   ]
  },
  {
   "cell_type": "code",
   "execution_count": 25,
   "metadata": {},
   "outputs": [
    {
     "data": {
      "text/html": [
       "<ol>\n",
       "\t<li><ol class=list-inline>\n",
       "\t<li>'01_Curso_Jornada_1_R_Rstudio_2022'</li>\n",
       "\t<li>'pdf'</li>\n",
       "</ol>\n",
       "</li>\n",
       "\t<li><ol class=list-inline>\n",
       "\t<li>'02_Curso_2_Data_types_I_2022'</li>\n",
       "\t<li>'pdf'</li>\n",
       "</ol>\n",
       "</li>\n",
       "\t<li><ol class=list-inline>\n",
       "\t<li>'03_Curso_2'</li>\n",
       "\t<li>'2_Data_types_II_Listas_2020'</li>\n",
       "\t<li>'pdf'</li>\n",
       "</ol>\n",
       "</li>\n",
       "\t<li><ol class=list-inline>\n",
       "\t<li>'03_Factores_y_DF_Listas_2022'</li>\n",
       "\t<li>'pdf'</li>\n",
       "</ol>\n",
       "</li>\n",
       "\t<li><ol class=list-inline>\n",
       "\t<li>'04_dplyr_joins_2022'</li>\n",
       "\t<li>'pdf'</li>\n",
       "</ol>\n",
       "</li>\n",
       "\t<li><ol class=list-inline>\n",
       "\t<li>'05_forcats_2022'</li>\n",
       "\t<li>'pdf'</li>\n",
       "</ol>\n",
       "</li>\n",
       "\t<li><ol class=list-inline>\n",
       "\t<li>'Functions'</li>\n",
       "\t<li>'ipynb'</li>\n",
       "</ol>\n",
       "</li>\n",
       "\t<li><ol class=list-inline>\n",
       "\t<li>'Graphs with ggplot'</li>\n",
       "\t<li>'ipynb'</li>\n",
       "</ol>\n",
       "</li>\n",
       "\t<li><ol class=list-inline>\n",
       "\t<li>'Input-Output'</li>\n",
       "\t<li>'ipynb'</li>\n",
       "</ol>\n",
       "</li>\n",
       "\t<li><ol class=list-inline>\n",
       "\t<li>'Programming'</li>\n",
       "\t<li>'ipynb'</li>\n",
       "</ol>\n",
       "</li>\n",
       "\t<li><ol class=list-inline>\n",
       "\t<li>'Strings'</li>\n",
       "\t<li>'ipynb'</li>\n",
       "</ol>\n",
       "</li>\n",
       "</ol>\n"
      ],
      "text/latex": [
       "\\begin{enumerate}\n",
       "\\item \\begin{enumerate*}\n",
       "\\item '01\\_Curso\\_Jornada\\_1\\_R\\_Rstudio\\_2022'\n",
       "\\item 'pdf'\n",
       "\\end{enumerate*}\n",
       "\n",
       "\\item \\begin{enumerate*}\n",
       "\\item '02\\_Curso\\_2\\_Data\\_types\\_I\\_2022'\n",
       "\\item 'pdf'\n",
       "\\end{enumerate*}\n",
       "\n",
       "\\item \\begin{enumerate*}\n",
       "\\item '03\\_Curso\\_2'\n",
       "\\item '2\\_Data\\_types\\_II\\_Listas\\_2020'\n",
       "\\item 'pdf'\n",
       "\\end{enumerate*}\n",
       "\n",
       "\\item \\begin{enumerate*}\n",
       "\\item '03\\_Factores\\_y\\_DF\\_Listas\\_2022'\n",
       "\\item 'pdf'\n",
       "\\end{enumerate*}\n",
       "\n",
       "\\item \\begin{enumerate*}\n",
       "\\item '04\\_dplyr\\_joins\\_2022'\n",
       "\\item 'pdf'\n",
       "\\end{enumerate*}\n",
       "\n",
       "\\item \\begin{enumerate*}\n",
       "\\item '05\\_forcats\\_2022'\n",
       "\\item 'pdf'\n",
       "\\end{enumerate*}\n",
       "\n",
       "\\item \\begin{enumerate*}\n",
       "\\item 'Functions'\n",
       "\\item 'ipynb'\n",
       "\\end{enumerate*}\n",
       "\n",
       "\\item \\begin{enumerate*}\n",
       "\\item 'Graphs with ggplot'\n",
       "\\item 'ipynb'\n",
       "\\end{enumerate*}\n",
       "\n",
       "\\item \\begin{enumerate*}\n",
       "\\item 'Input-Output'\n",
       "\\item 'ipynb'\n",
       "\\end{enumerate*}\n",
       "\n",
       "\\item \\begin{enumerate*}\n",
       "\\item 'Programming'\n",
       "\\item 'ipynb'\n",
       "\\end{enumerate*}\n",
       "\n",
       "\\item \\begin{enumerate*}\n",
       "\\item 'Strings'\n",
       "\\item 'ipynb'\n",
       "\\end{enumerate*}\n",
       "\n",
       "\\end{enumerate}\n"
      ],
      "text/markdown": [
       "1. 1. '01_Curso_Jornada_1_R_Rstudio_2022'\n",
       "2. 'pdf'\n",
       "\n",
       "\n",
       "\n",
       "2. 1. '02_Curso_2_Data_types_I_2022'\n",
       "2. 'pdf'\n",
       "\n",
       "\n",
       "\n",
       "3. 1. '03_Curso_2'\n",
       "2. '2_Data_types_II_Listas_2020'\n",
       "3. 'pdf'\n",
       "\n",
       "\n",
       "\n",
       "4. 1. '03_Factores_y_DF_Listas_2022'\n",
       "2. 'pdf'\n",
       "\n",
       "\n",
       "\n",
       "5. 1. '04_dplyr_joins_2022'\n",
       "2. 'pdf'\n",
       "\n",
       "\n",
       "\n",
       "6. 1. '05_forcats_2022'\n",
       "2. 'pdf'\n",
       "\n",
       "\n",
       "\n",
       "7. 1. 'Functions'\n",
       "2. 'ipynb'\n",
       "\n",
       "\n",
       "\n",
       "8. 1. 'Graphs with ggplot'\n",
       "2. 'ipynb'\n",
       "\n",
       "\n",
       "\n",
       "9. 1. 'Input-Output'\n",
       "2. 'ipynb'\n",
       "\n",
       "\n",
       "\n",
       "10. 1. 'Programming'\n",
       "2. 'ipynb'\n",
       "\n",
       "\n",
       "\n",
       "11. 1. 'Strings'\n",
       "2. 'ipynb'\n",
       "\n",
       "\n",
       "\n",
       "\n",
       "\n"
      ],
      "text/plain": [
       "[[1]]\n",
       "[1] \"01_Curso_Jornada_1_R_Rstudio_2022\" \"pdf\"                              \n",
       "\n",
       "[[2]]\n",
       "[1] \"02_Curso_2_Data_types_I_2022\" \"pdf\"                         \n",
       "\n",
       "[[3]]\n",
       "[1] \"03_Curso_2\"                  \"2_Data_types_II_Listas_2020\"\n",
       "[3] \"pdf\"                        \n",
       "\n",
       "[[4]]\n",
       "[1] \"03_Factores_y_DF_Listas_2022\" \"pdf\"                         \n",
       "\n",
       "[[5]]\n",
       "[1] \"04_dplyr_joins_2022\" \"pdf\"                \n",
       "\n",
       "[[6]]\n",
       "[1] \"05_forcats_2022\" \"pdf\"            \n",
       "\n",
       "[[7]]\n",
       "[1] \"Functions\" \"ipynb\"    \n",
       "\n",
       "[[8]]\n",
       "[1] \"Graphs with ggplot\" \"ipynb\"             \n",
       "\n",
       "[[9]]\n",
       "[1] \"Input-Output\" \"ipynb\"       \n",
       "\n",
       "[[10]]\n",
       "[1] \"Programming\" \"ipynb\"      \n",
       "\n",
       "[[11]]\n",
       "[1] \"Strings\" \"ipynb\"  \n"
      ]
     },
     "metadata": {},
     "output_type": "display_data"
    }
   ],
   "source": [
    "strsplit(files, split=\"\\\\.\")"
   ]
  },
  {
   "cell_type": "code",
   "execution_count": 26,
   "metadata": {},
   "outputs": [
    {
     "name": "stderr",
     "output_type": "stream",
     "text": [
      "Warning message in matrix(unlist(strsplit(files, split = \"\\\\.\")), ncol = 2, byrow = TRUE):\n",
      "\"la longitud de los datos [23] no es un submúltiplo o múltiplo del número de filas [12] en la matriz\""
     ]
    },
    {
     "data": {
      "text/html": [
       "<table>\n",
       "<tbody>\n",
       "\t<tr><td>01_Curso_Jornada_1_R_Rstudio_2022</td><td>pdf                              </td></tr>\n",
       "\t<tr><td>02_Curso_2_Data_types_I_2022     </td><td>pdf                              </td></tr>\n",
       "\t<tr><td>03_Curso_2                       </td><td>2_Data_types_II_Listas_2020      </td></tr>\n",
       "\t<tr><td>pdf                              </td><td>03_Factores_y_DF_Listas_2022     </td></tr>\n",
       "\t<tr><td>pdf                              </td><td>04_dplyr_joins_2022              </td></tr>\n",
       "\t<tr><td>pdf                              </td><td>05_forcats_2022                  </td></tr>\n",
       "\t<tr><td>pdf                              </td><td>Functions                        </td></tr>\n",
       "\t<tr><td>ipynb                            </td><td>Graphs with ggplot               </td></tr>\n",
       "\t<tr><td>ipynb                            </td><td>Input-Output                     </td></tr>\n",
       "\t<tr><td>ipynb                            </td><td>Programming                      </td></tr>\n",
       "\t<tr><td>ipynb                            </td><td>Strings                          </td></tr>\n",
       "\t<tr><td>ipynb                            </td><td>01_Curso_Jornada_1_R_Rstudio_2022</td></tr>\n",
       "</tbody>\n",
       "</table>\n"
      ],
      "text/latex": [
       "\\begin{tabular}{ll}\n",
       "\t 01\\_Curso\\_Jornada\\_1\\_R\\_Rstudio\\_2022 & pdf                                          \\\\\n",
       "\t 02\\_Curso\\_2\\_Data\\_types\\_I\\_2022      & pdf                                          \\\\\n",
       "\t 03\\_Curso\\_2                              & 2\\_Data\\_types\\_II\\_Listas\\_2020      \\\\\n",
       "\t pdf                                         & 03\\_Factores\\_y\\_DF\\_Listas\\_2022     \\\\\n",
       "\t pdf                                     & 04\\_dplyr\\_joins\\_2022              \\\\\n",
       "\t pdf                                   & 05\\_forcats\\_2022                  \\\\\n",
       "\t pdf                               & Functions                        \\\\\n",
       "\t ipynb                             & Graphs with ggplot               \\\\\n",
       "\t ipynb                             & Input-Output                     \\\\\n",
       "\t ipynb                             & Programming                      \\\\\n",
       "\t ipynb                             & Strings                          \\\\\n",
       "\t ipynb                                         & 01\\_Curso\\_Jornada\\_1\\_R\\_Rstudio\\_2022\\\\\n",
       "\\end{tabular}\n"
      ],
      "text/markdown": [
       "\n",
       "| 01_Curso_Jornada_1_R_Rstudio_2022 | pdf                               |\n",
       "| 02_Curso_2_Data_types_I_2022      | pdf                               |\n",
       "| 03_Curso_2                        | 2_Data_types_II_Listas_2020       |\n",
       "| pdf                               | 03_Factores_y_DF_Listas_2022      |\n",
       "| pdf                               | 04_dplyr_joins_2022               |\n",
       "| pdf                               | 05_forcats_2022                   |\n",
       "| pdf                               | Functions                         |\n",
       "| ipynb                             | Graphs with ggplot                |\n",
       "| ipynb                             | Input-Output                      |\n",
       "| ipynb                             | Programming                       |\n",
       "| ipynb                             | Strings                           |\n",
       "| ipynb                             | 01_Curso_Jornada_1_R_Rstudio_2022 |\n",
       "\n"
      ],
      "text/plain": [
       "      [,1]                              [,2]                             \n",
       " [1,] 01_Curso_Jornada_1_R_Rstudio_2022 pdf                              \n",
       " [2,] 02_Curso_2_Data_types_I_2022      pdf                              \n",
       " [3,] 03_Curso_2                        2_Data_types_II_Listas_2020      \n",
       " [4,] pdf                               03_Factores_y_DF_Listas_2022     \n",
       " [5,] pdf                               04_dplyr_joins_2022              \n",
       " [6,] pdf                               05_forcats_2022                  \n",
       " [7,] pdf                               Functions                        \n",
       " [8,] ipynb                             Graphs with ggplot               \n",
       " [9,] ipynb                             Input-Output                     \n",
       "[10,] ipynb                             Programming                      \n",
       "[11,] ipynb                             Strings                          \n",
       "[12,] ipynb                             01_Curso_Jornada_1_R_Rstudio_2022"
      ]
     },
     "metadata": {},
     "output_type": "display_data"
    }
   ],
   "source": [
    "matrix(unlist(strsplit(files, split=\"\\\\.\")), ncol=2, byrow=TRUE)"
   ]
  },
  {
   "cell_type": "markdown",
   "metadata": {},
   "source": [
    "## Regular expressions\n",
    "\n",
    "* A regular expression is a kind of wild card. \n",
    "* It’s shorthand to specify broad classes of strings.\n",
    "* In R, you must pay attention to this point when using the string functions `grep`, `grepl`, `regexpr`, `gregexpr`, `sub`, `gsub` and `strsplit`. "
   ]
  },
  {
   "cell_type": "code",
   "execution_count": 27,
   "metadata": {},
   "outputs": [
    {
     "data": {
      "text/html": [
       "'Sat Nov 26 21:23:58 2022'"
      ],
      "text/latex": [
       "'Sat Nov 26 21:23:58 2022'"
      ],
      "text/markdown": [
       "'Sat Nov 26 21:23:58 2022'"
      ],
      "text/plain": [
       "[1] \"Sat Nov 26 21:23:58 2022\""
      ]
     },
     "metadata": {},
     "output_type": "display_data"
    }
   ],
   "source": [
    "date()"
   ]
  },
  {
   "cell_type": "code",
   "execution_count": 28,
   "metadata": {},
   "outputs": [
    {
     "data": {
      "text/html": [
       "<ol>\n",
       "\t<li><ol class=list-inline>\n",
       "\t<li>'Sat Nov '</li>\n",
       "\t<li>' '</li>\n",
       "\t<li>':'</li>\n",
       "\t<li>':'</li>\n",
       "\t<li>' '</li>\n",
       "</ol>\n",
       "</li>\n",
       "</ol>\n"
      ],
      "text/latex": [
       "\\begin{enumerate}\n",
       "\\item \\begin{enumerate*}\n",
       "\\item 'Sat Nov '\n",
       "\\item ' '\n",
       "\\item ':'\n",
       "\\item ':'\n",
       "\\item ' '\n",
       "\\end{enumerate*}\n",
       "\n",
       "\\end{enumerate}\n"
      ],
      "text/markdown": [
       "1. 1. 'Sat Nov '\n",
       "2. ' '\n",
       "3. ':'\n",
       "4. ':'\n",
       "5. ' '\n",
       "\n",
       "\n",
       "\n",
       "\n",
       "\n"
      ],
      "text/plain": [
       "[[1]]\n",
       "[1] \"Sat Nov \" \" \"        \":\"        \":\"        \" \"       \n"
      ]
     },
     "metadata": {},
     "output_type": "display_data"
    }
   ],
   "source": [
    "strsplit(date(), split=\"[0-9]+\")"
   ]
  },
  {
   "cell_type": "code",
   "execution_count": 29,
   "metadata": {},
   "outputs": [
    {
     "data": {
      "text/html": [
       "<ol class=list-inline>\n",
       "\t<li>1</li>\n",
       "\t<li>3</li>\n",
       "</ol>\n"
      ],
      "text/latex": [
       "\\begin{enumerate*}\n",
       "\\item 1\n",
       "\\item 3\n",
       "\\end{enumerate*}\n"
      ],
      "text/markdown": [
       "1. 1\n",
       "2. 3\n",
       "\n",
       "\n"
      ],
      "text/plain": [
       "[1] 1 3"
      ]
     },
     "metadata": {},
     "output_type": "display_data"
    }
   ],
   "source": [
    "# For example, the expression “[ia]” refers to any string that contains either \n",
    "# of the letters i or a\n",
    "\n",
    "donde <- grep(\"[ia]\", c(\"Ciencia\",\"de\",\"Datos\"))\n",
    "donde"
   ]
  },
  {
   "cell_type": "code",
   "execution_count": 30,
   "metadata": {},
   "outputs": [
    {
     "data": {
      "text/html": [
       "<ol class=list-inline>\n",
       "\t<li>'Ciencia'</li>\n",
       "\t<li>'Datos'</li>\n",
       "</ol>\n"
      ],
      "text/latex": [
       "\\begin{enumerate*}\n",
       "\\item 'Ciencia'\n",
       "\\item 'Datos'\n",
       "\\end{enumerate*}\n"
      ],
      "text/markdown": [
       "1. 'Ciencia'\n",
       "2. 'Datos'\n",
       "\n",
       "\n"
      ],
      "text/plain": [
       "[1] \"Ciencia\" \"Datos\"  "
      ]
     },
     "metadata": {},
     "output_type": "display_data"
    }
   ],
   "source": [
    "c(\"Ciencia\",\"de\",\"Datos\")[donde]"
   ]
  },
  {
   "cell_type": "code",
   "execution_count": 31,
   "metadata": {},
   "outputs": [
    {
     "data": {
      "text/html": [
       "1"
      ],
      "text/latex": [
       "1"
      ],
      "text/markdown": [
       "1"
      ],
      "text/plain": [
       "[1] 1"
      ]
     },
     "metadata": {},
     "output_type": "display_data"
    }
   ],
   "source": [
    "# A period (.) represents any single character\n",
    "\n",
    "grep(\"e.\", c(\"Ciencia\",\"de\",\"Datos\"))"
   ]
  },
  {
   "cell_type": "code",
   "execution_count": 32,
   "metadata": {},
   "outputs": [
    {
     "data": {
      "text/html": [
       "<ol>\n",
       "\t<li><ol class=list-inline>\n",
       "\t<li>''</li>\n",
       "\t<li>''</li>\n",
       "\t<li>''</li>\n",
       "\t<li>''</li>\n",
       "\t<li>''</li>\n",
       "</ol>\n",
       "</li>\n",
       "</ol>\n"
      ],
      "text/latex": [
       "\\begin{enumerate}\n",
       "\\item \\begin{enumerate*}\n",
       "\\item ''\n",
       "\\item ''\n",
       "\\item ''\n",
       "\\item ''\n",
       "\\item ''\n",
       "\\end{enumerate*}\n",
       "\n",
       "\\end{enumerate}\n"
      ],
      "text/markdown": [
       "1. 1. ''\n",
       "2. ''\n",
       "3. ''\n",
       "4. ''\n",
       "5. ''\n",
       "\n",
       "\n",
       "\n",
       "\n",
       "\n"
      ],
      "text/plain": [
       "[[1]]\n",
       "[1] \"\" \"\" \"\" \"\" \"\"\n"
      ]
     },
     "metadata": {},
     "output_type": "display_data"
    }
   ],
   "source": [
    "# Another example using strsplit()\n",
    "\n",
    "strsplit(\"a.b.c\", \".\")"
   ]
  },
  {
   "cell_type": "code",
   "execution_count": 33,
   "metadata": {},
   "outputs": [
    {
     "data": {
      "text/html": [
       "<ol>\n",
       "\t<li><ol class=list-inline>\n",
       "\t<li>'a'</li>\n",
       "\t<li>'b'</li>\n",
       "\t<li>'c'</li>\n",
       "</ol>\n",
       "</li>\n",
       "</ol>\n"
      ],
      "text/latex": [
       "\\begin{enumerate}\n",
       "\\item \\begin{enumerate*}\n",
       "\\item 'a'\n",
       "\\item 'b'\n",
       "\\item 'c'\n",
       "\\end{enumerate*}\n",
       "\n",
       "\\end{enumerate}\n"
      ],
      "text/markdown": [
       "1. 1. 'a'\n",
       "2. 'b'\n",
       "3. 'c'\n",
       "\n",
       "\n",
       "\n",
       "\n",
       "\n"
      ],
      "text/plain": [
       "[[1]]\n",
       "[1] \"a\" \"b\" \"c\"\n"
      ]
     },
     "metadata": {},
     "output_type": "display_data"
    }
   ],
   "source": [
    "strsplit(\"a.b.c\", \"\\\\.\")"
   ]
  },
  {
   "cell_type": "code",
   "execution_count": 34,
   "metadata": {},
   "outputs": [
    {
     "data": {
      "text/html": [
       "<ol>\n",
       "\t<li><ol class=list-inline>\n",
       "\t<li>'a'</li>\n",
       "\t<li>'b'</li>\n",
       "\t<li>'c'</li>\n",
       "</ol>\n",
       "</li>\n",
       "</ol>\n"
      ],
      "text/latex": [
       "\\begin{enumerate}\n",
       "\\item \\begin{enumerate*}\n",
       "\\item 'a'\n",
       "\\item 'b'\n",
       "\\item 'c'\n",
       "\\end{enumerate*}\n",
       "\n",
       "\\end{enumerate}\n"
      ],
      "text/markdown": [
       "1. 1. 'a'\n",
       "2. 'b'\n",
       "3. 'c'\n",
       "\n",
       "\n",
       "\n",
       "\n",
       "\n"
      ],
      "text/plain": [
       "[[1]]\n",
       "[1] \"a\" \"b\" \"c\"\n"
      ]
     },
     "metadata": {},
     "output_type": "display_data"
    }
   ],
   "source": [
    "strsplit(\"a.b.c\", \"[.]\")"
   ]
  },
  {
   "cell_type": "markdown",
   "metadata": {},
   "source": [
    "## Example\n",
    "\n",
    "Anonymize data"
   ]
  },
  {
   "cell_type": "code",
   "execution_count": null,
   "metadata": {},
   "outputs": [],
   "source": [
    "data"
   ]
  },
  {
   "cell_type": "code",
   "execution_count": null,
   "metadata": {},
   "outputs": [],
   "source": [
    "ncolumn <- paste(tolower(substr(data$var_1, 1, 1)), tolower(substr(data$var_2, 1, 1)), sep = \"\")\n",
    "ncolumn"
   ]
  },
  {
   "cell_type": "code",
   "execution_count": null,
   "metadata": {},
   "outputs": [],
   "source": [
    "paste(colnames(data)[1:2], collapse=\"_and_\")"
   ]
  },
  {
   "cell_type": "code",
   "execution_count": null,
   "metadata": {
    "scrolled": true
   },
   "outputs": [],
   "source": [
    "data$var_1 <- ncolumn\n",
    "colnames(data)[1] <- paste(colnames(data)[1:2], collapse=\"_and_\")\n",
    "data <- data[,-2]\n",
    "data"
   ]
  },
  {
   "cell_type": "markdown",
   "metadata": {},
   "source": [
    "More info in: [R Manual](https://stat.ethz.ch/R-manual/R-devel/library/base/html/regex.html)"
   ]
  },
  {
   "cell_type": "markdown",
   "metadata": {},
   "source": [
    "## Homework (1st part)\n",
    "1. Create a string array contaning your first name and last names (e.g., [\"Rocio\", \"Romero\", Zaliz\"]). Using that array and the R functions you just learned create a new string with the initial of your first name, a dot, and your last names (e.g., \"R. Romero Zaliz\")."
   ]
  },
  {
   "cell_type": "code",
   "execution_count": null,
   "metadata": {},
   "outputs": [],
   "source": [
    "# Write code here"
   ]
  },
  {
   "cell_type": "markdown",
   "metadata": {},
   "source": [
    "2. Given an array of strings representing dates (e.g., [“2005-11-28”, “2015-10-18”, “2000-01-01”]), show only those corresponding to odd months (use format YEAR-MONTH-DAY)."
   ]
  },
  {
   "cell_type": "code",
   "execution_count": null,
   "metadata": {},
   "outputs": [],
   "source": [
    "# Write code here"
   ]
  },
  {
   "cell_type": "markdown",
   "metadata": {},
   "source": [
    "3. Given a string with several words (e.g., “Esta es una frase, pero no cualquier frase.”) create an array with each of the words in the string (e.g., [\"Esta\",\"es\",\"una\",\"frase\",\"pero\",\"no\",\"cualquier\",\"frase\"]). Take into account all possible punctuation characters."
   ]
  },
  {
   "cell_type": "code",
   "execution_count": null,
   "metadata": {},
   "outputs": [],
   "source": [
    "# Write code here"
   ]
  },
  {
   "cell_type": "markdown",
   "metadata": {},
   "source": [
    "4. Search in an array of strings those including only vocals \"a\" and/or \"e\" or none (check uppercase and lowercase)."
   ]
  },
  {
   "cell_type": "code",
   "execution_count": null,
   "metadata": {},
   "outputs": [],
   "source": [
    "# Write code here"
   ]
  },
  {
   "cell_type": "markdown",
   "metadata": {},
   "source": [
    "5. Given three numeric arrays representing days, months and years, create an array with dates (only if they are valid) (Hint: research the as.Date function)."
   ]
  },
  {
   "cell_type": "code",
   "execution_count": null,
   "metadata": {},
   "outputs": [],
   "source": [
    "# Write code here"
   ]
  },
  {
   "cell_type": "markdown",
   "metadata": {},
   "source": [
    "# String manipulation using stringr (tidyverse) package"
   ]
  },
  {
   "cell_type": "code",
   "execution_count": 39,
   "metadata": {},
   "outputs": [
    {
     "ename": "ERROR",
     "evalue": "Error in install.packages(tidyverse): objeto 'tidyverse' no encontrado\n",
     "output_type": "error",
     "traceback": [
      "Error in install.packages(tidyverse): objeto 'tidyverse' no encontrado\nTraceback:\n",
      "1. install.packages(tidyverse)"
     ]
    }
   ],
   "source": [
    "install.packages(tidyverse)\n",
    "install.packages(stringr)\n",
    "\n",
    "library(tidyverse)\n",
    "library(stringr)\n",
    "print(texto)\n",
    "print(data)"
   ]
  },
  {
   "cell_type": "markdown",
   "metadata": {},
   "source": [
    "Function <s>`nchar`</s> `str_length` finds the length of a string"
   ]
  },
  {
   "cell_type": "code",
   "execution_count": 38,
   "metadata": {},
   "outputs": [
    {
     "ename": "ERROR",
     "evalue": "Error in str_length(texto): no se pudo encontrar la función \"str_length\"\n",
     "output_type": "error",
     "traceback": [
      "Error in str_length(texto): no se pudo encontrar la función \"str_length\"\nTraceback:\n"
     ]
    }
   ],
   "source": [
    "str_length(texto)"
   ]
  },
  {
   "cell_type": "code",
   "execution_count": null,
   "metadata": {},
   "outputs": [],
   "source": [
    "print(data$name)\n",
    "\n",
    "data$name %>% str_length()"
   ]
  },
  {
   "cell_type": "markdown",
   "metadata": {},
   "source": [
    "Function <s>`paste`</s> `str_c` concatenates several strings, returning the result in one long string. "
   ]
  },
  {
   "cell_type": "code",
   "execution_count": null,
   "metadata": {},
   "outputs": [],
   "source": [
    "data$name %>% str_c(collapse = \", \")"
   ]
  },
  {
   "cell_type": "code",
   "execution_count": null,
   "metadata": {},
   "outputs": [],
   "source": [
    "str_c(data$name, data$lastname, sep = \" - \")"
   ]
  },
  {
   "cell_type": "markdown",
   "metadata": {},
   "source": [
    "The call <s>`substr(x, start, stop)`</s> `str_sub(x, start, stop)` returns the substring in the given character position range start:stop for string x. "
   ]
  },
  {
   "cell_type": "code",
   "execution_count": null,
   "metadata": {},
   "outputs": [],
   "source": [
    "data$name %>% str_sub(2, 3)"
   ]
  },
  {
   "cell_type": "markdown",
   "metadata": {},
   "source": [
    "## Regular expressions"
   ]
  },
  {
   "cell_type": "markdown",
   "metadata": {},
   "source": [
    "Function `str_detect` tells you if there’s any match to the pattern"
   ]
  },
  {
   "cell_type": "code",
   "execution_count": null,
   "metadata": {},
   "outputs": [],
   "source": [
    "str_detect(data[1,], \"[aeiou]\")"
   ]
  },
  {
   "cell_type": "code",
   "execution_count": null,
   "metadata": {},
   "outputs": [],
   "source": [
    "data$name %>% str_detect(\"[aeiou]\")"
   ]
  },
  {
   "cell_type": "markdown",
   "metadata": {},
   "source": [
    "Function `str_subset`extracts the matching components"
   ]
  },
  {
   "cell_type": "code",
   "execution_count": null,
   "metadata": {},
   "outputs": [],
   "source": [
    "data$name %>% str_subset(\"[aeiou]\")"
   ]
  },
  {
   "cell_type": "code",
   "execution_count": null,
   "metadata": {},
   "outputs": [],
   "source": [
    "data$name %>% str_view(\"[aeiou]\", match = TRUE)"
   ]
  },
  {
   "cell_type": "code",
   "execution_count": null,
   "metadata": {},
   "outputs": [],
   "source": [
    "data$name %>% str_view_all(\"[aeiou]\", match = TRUE)"
   ]
  },
  {
   "cell_type": "markdown",
   "metadata": {},
   "source": [
    "Function `str_count` counts the number of patterns"
   ]
  },
  {
   "cell_type": "code",
   "execution_count": null,
   "metadata": {},
   "outputs": [],
   "source": [
    "data$name %>% str_count(\"[aeiou]\")"
   ]
  },
  {
   "cell_type": "markdown",
   "metadata": {},
   "source": [
    "Function `str_extract` extracts the text of the match"
   ]
  },
  {
   "cell_type": "code",
   "execution_count": null,
   "metadata": {},
   "outputs": [],
   "source": [
    "data$name %>% str_extract(\"[aeiou]\")"
   ]
  },
  {
   "cell_type": "code",
   "execution_count": null,
   "metadata": {},
   "outputs": [],
   "source": [
    "data$name %>% str_extract_all(\"[aeiou]\")"
   ]
  },
  {
   "cell_type": "markdown",
   "metadata": {},
   "source": [
    "Function `str_match` extracts parts of the match defined by parentheses"
   ]
  },
  {
   "cell_type": "code",
   "execution_count": null,
   "metadata": {},
   "outputs": [],
   "source": [
    "print(data$name)\n",
    "\n",
    "data$name %>% str_match(\"(.)[aeiou](..)\")"
   ]
  },
  {
   "cell_type": "markdown",
   "metadata": {},
   "source": [
    "Function `str_replace` replaces the matches with new text"
   ]
  },
  {
   "cell_type": "code",
   "execution_count": null,
   "metadata": {},
   "outputs": [],
   "source": [
    "data$name %>% str_replace(\"[aeiou]\", \"*\")"
   ]
  },
  {
   "cell_type": "code",
   "execution_count": null,
   "metadata": {},
   "outputs": [],
   "source": [
    "data$name %>% str_replace_all(\"[aeiou]\", \"*\")"
   ]
  },
  {
   "cell_type": "markdown",
   "metadata": {},
   "source": [
    "Function <s>`strsplit`</s>`str_split` splits up a string into multiple pieces"
   ]
  },
  {
   "cell_type": "code",
   "execution_count": null,
   "metadata": {},
   "outputs": [],
   "source": [
    "data$name %>% str_split(\"[aeiou]\")"
   ]
  },
  {
   "cell_type": "markdown",
   "metadata": {},
   "source": [
    "## Cheat sheets"
   ]
  },
  {
   "cell_type": "markdown",
   "metadata": {},
   "source": [
    "* https://github.com/rstudio/cheatsheets/raw/main/strings.pdf"
   ]
  },
  {
   "cell_type": "markdown",
   "metadata": {},
   "source": [
    "## Example"
   ]
  },
  {
   "cell_type": "code",
   "execution_count": null,
   "metadata": {},
   "outputs": [],
   "source": [
    "#install.packages(\"ISLR\")\n",
    "\n",
    "library(\"ISLR\")\n",
    "College"
   ]
  },
  {
   "cell_type": "code",
   "execution_count": null,
   "metadata": {},
   "outputs": [],
   "source": [
    "college.names <- rownames(College)\n",
    "college.names"
   ]
  },
  {
   "cell_type": "markdown",
   "metadata": {},
   "source": [
    "1. Get a vector which contains all colleges with `Texas` in its name. How many are there?"
   ]
  },
  {
   "cell_type": "code",
   "execution_count": null,
   "metadata": {},
   "outputs": [],
   "source": [
    "college.names %>% str_detect('Texas')"
   ]
  },
  {
   "cell_type": "code",
   "execution_count": null,
   "metadata": {},
   "outputs": [],
   "source": [
    "college.names %>% str_detect('Texas') %>% sum()"
   ]
  },
  {
   "cell_type": "code",
   "execution_count": null,
   "metadata": {},
   "outputs": [],
   "source": [
    "college.names %>% str_view(\"Texas\", match = TRUE)"
   ]
  },
  {
   "cell_type": "code",
   "execution_count": null,
   "metadata": {},
   "outputs": [],
   "source": [
    "college.names %>% str_subset(\"Texas\")"
   ]
  },
  {
   "cell_type": "markdown",
   "metadata": {},
   "source": [
    "2. Get a vector of all rows of the College dataset containing the term ‘University’"
   ]
  },
  {
   "cell_type": "code",
   "execution_count": null,
   "metadata": {},
   "outputs": [],
   "source": [
    "college.names %>% str_which(\"University\")"
   ]
  },
  {
   "cell_type": "code",
   "execution_count": null,
   "metadata": {},
   "outputs": [],
   "source": [
    "college.names[1:3]"
   ]
  },
  {
   "cell_type": "markdown",
   "metadata": {},
   "source": [
    "3. How many ‘Universities’ are in the dataset vs ‘Colleges’?"
   ]
  },
  {
   "cell_type": "code",
   "execution_count": null,
   "metadata": {},
   "outputs": [],
   "source": [
    "college.names %>% str_detect(\"University\") %>% sum()\n",
    "college.names %>% str_detect(\"College\") %>% sum()"
   ]
  },
  {
   "cell_type": "code",
   "execution_count": null,
   "metadata": {},
   "outputs": [],
   "source": [
    "345+406\n",
    "length(college.names)"
   ]
  },
  {
   "cell_type": "code",
   "execution_count": null,
   "metadata": {},
   "outputs": [],
   "source": [
    "universities <- college.names %>% str_detect(\"University\")\n",
    "colleges <- college.names %>% str_detect(\"College\")\n",
    "other <- college.names[!(universities | colleges)]\n",
    "\n",
    "print(other)"
   ]
  },
  {
   "cell_type": "code",
   "execution_count": null,
   "metadata": {},
   "outputs": [],
   "source": [
    "777-751"
   ]
  },
  {
   "cell_type": "code",
   "execution_count": null,
   "metadata": {},
   "outputs": [],
   "source": [
    "both <- college.names[(universities & colleges)]\n",
    "both"
   ]
  },
  {
   "cell_type": "code",
   "execution_count": null,
   "metadata": {},
   "outputs": [],
   "source": [
    "college.names %>% str_detect(\"Univ\\\\.\") %>% sum()\n",
    "college.names %>% str_detect(\"Coll\\\\.\") %>% sum()"
   ]
  },
  {
   "cell_type": "code",
   "execution_count": null,
   "metadata": {},
   "outputs": [],
   "source": [
    "college.names %>% str_detect(\"Univ[.e]\") %>% sum()\n",
    "college.names %>% str_detect(\"Coll[.e]\") %>% sum()"
   ]
  },
  {
   "cell_type": "markdown",
   "metadata": {},
   "source": [
    "## Homework (2nd part)\n",
    "\n",
    "Repeat homework (1st part) excersises using `stringr` functions:"
   ]
  },
  {
   "cell_type": "markdown",
   "metadata": {},
   "source": [
    "1. Create a string array contaning your first name and last names (e.g., [\"Rocio\", \"Romero\", Zaliz\"]). Using that array and the R functions you just learned create a new string with the initial of your first name, a dot, and your last names (e.g., \"R. Romero Zaliz\")."
   ]
  },
  {
   "cell_type": "code",
   "execution_count": null,
   "metadata": {},
   "outputs": [],
   "source": [
    "# Write code here"
   ]
  },
  {
   "cell_type": "markdown",
   "metadata": {},
   "source": [
    "2. Given an array of strings representing dates (e.g., [“2005-11-28”, “2015-10-18”, “2000-01-01”]), show only those corresponding to odd months (use format YEAR-MONTH-DAY)."
   ]
  },
  {
   "cell_type": "code",
   "execution_count": null,
   "metadata": {},
   "outputs": [],
   "source": [
    "# Write code here"
   ]
  },
  {
   "cell_type": "markdown",
   "metadata": {},
   "source": [
    "3. Given a string with several words (e.g., “Esta es una frase, pero no cualquier frase.”) create an array with each of the words in the string (e.g., [\"Esta\",\"es\",\"una\",\"frase\",\"pero\",\"no\",\"cualquier\",\"frase\"]). Take into account all possible punctuation characters."
   ]
  },
  {
   "cell_type": "code",
   "execution_count": null,
   "metadata": {},
   "outputs": [],
   "source": [
    "# Write code here"
   ]
  },
  {
   "cell_type": "markdown",
   "metadata": {},
   "source": [
    "4. Search in an array of strings those including only vocals \"a\" and/or \"e\" or none (check uppercase and lowercase)."
   ]
  },
  {
   "cell_type": "code",
   "execution_count": null,
   "metadata": {},
   "outputs": [],
   "source": [
    "# Write code here"
   ]
  },
  {
   "cell_type": "markdown",
   "metadata": {},
   "source": [
    "5. Given three numeric arrays representing days, months and years, create an array with dates (only if they are valid) (Hint: research the as.Date function)."
   ]
  },
  {
   "cell_type": "code",
   "execution_count": null,
   "metadata": {},
   "outputs": [],
   "source": [
    "# Write code here"
   ]
  },
  {
   "cell_type": "markdown",
   "metadata": {},
   "source": [
    "# References\n",
    "\n",
    "* Gaston Sanchez. Handling and Processing Strings in R. https://www.gastonsanchez.com/Handling_and_Processing_Strings_in_R.pdf\n",
    "* R-tutorials. http://r-tutorials.com\n",
    "* Norman Matloff. 2011. The Art of R Programming: A Tour of Statistical Software Design (1st ed.). No Starch Press, San Francisco, CA, USA.\n",
    "* Patrick Burns. 2011. The R Inferno."
   ]
  },
  {
   "cell_type": "code",
   "execution_count": null,
   "metadata": {},
   "outputs": [],
   "source": []
  }
 ],
 "metadata": {
  "celltoolbar": "Raw Cell Format",
  "kernelspec": {
   "display_name": "R",
   "language": "R",
   "name": "ir"
  },
  "language_info": {
   "codemirror_mode": "r",
   "file_extension": ".r",
   "mimetype": "text/x-r-source",
   "name": "R",
   "pygments_lexer": "r",
   "version": "3.6.1"
  }
 },
 "nbformat": 4,
 "nbformat_minor": 2
}
