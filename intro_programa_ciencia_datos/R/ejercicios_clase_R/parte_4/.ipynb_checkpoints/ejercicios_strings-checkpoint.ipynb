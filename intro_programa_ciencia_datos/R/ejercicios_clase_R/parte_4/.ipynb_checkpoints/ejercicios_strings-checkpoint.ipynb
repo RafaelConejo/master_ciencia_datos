{
 "cells": [
  {
   "cell_type": "markdown",
   "id": "f6e82907",
   "metadata": {},
   "source": [
    "## Homework (1st part)\n",
    "1. Create a string array contaning your first name and last names (e.g., [\"Rocio\", \"Romero\", Zaliz\"]). Using that array and the R functions you just learned create a new string with the initial of your first name, a dot, and your last names (e.g., \"R. Romero Zaliz\")."
   ]
  },
  {
   "cell_type": "code",
   "execution_count": 1,
   "id": "7f3ec50f",
   "metadata": {},
   "outputs": [
    {
     "data": {
      "text/html": [
       "<ol class=list-inline>\n",
       "\t<li>'Rafael'</li>\n",
       "\t<li>'Vazquez'</li>\n",
       "\t<li>'Conejo'</li>\n",
       "</ol>\n"
      ],
      "text/latex": [
       "\\begin{enumerate*}\n",
       "\\item 'Rafael'\n",
       "\\item 'Vazquez'\n",
       "\\item 'Conejo'\n",
       "\\end{enumerate*}\n"
      ],
      "text/markdown": [
       "1. 'Rafael'\n",
       "2. 'Vazquez'\n",
       "3. 'Conejo'\n",
       "\n",
       "\n"
      ],
      "text/plain": [
       "[1] \"Rafael\"  \"Vazquez\" \"Conejo\" "
      ]
     },
     "metadata": {},
     "output_type": "display_data"
    },
    {
     "data": {
      "text/html": [
       "'R. Vazquez Conejo'"
      ],
      "text/latex": [
       "'R. Vazquez Conejo'"
      ],
      "text/markdown": [
       "'R. Vazquez Conejo'"
      ],
      "text/plain": [
       "[1] \"R. Vazquez Conejo\""
      ]
     },
     "metadata": {},
     "output_type": "display_data"
    }
   ],
   "source": [
    "my_name<- c(\"Rafael\", \"Vazquez\", \"Conejo\")\n",
    "my_name\n",
    "\n",
    "new_name<- paste(paste(substr(my_name[1],1,1), '.', sep = \"\"), my_name[2], my_name[3])\n",
    "new_name"
   ]
  },
  {
   "cell_type": "markdown",
   "id": "a2be63fc",
   "metadata": {},
   "source": [
    "2. Given an array of strings representing dates (e.g., [“2005-11-28”, “2015-10-18”, “2000-01-01”]), show only those corresponding to odd months (use format YEAR-MONTH-DAY)."
   ]
  },
  {
   "cell_type": "code",
   "execution_count": 2,
   "id": "5ef23e30",
   "metadata": {},
   "outputs": [
    {
     "data": {
      "text/html": [
       "<ol class=list-inline>\n",
       "\t<li>'2005-11-28'</li>\n",
       "\t<li>'2000-01-01'</li>\n",
       "</ol>\n"
      ],
      "text/latex": [
       "\\begin{enumerate*}\n",
       "\\item '2005-11-28'\n",
       "\\item '2000-01-01'\n",
       "\\end{enumerate*}\n"
      ],
      "text/markdown": [
       "1. '2005-11-28'\n",
       "2. '2000-01-01'\n",
       "\n",
       "\n"
      ],
      "text/plain": [
       "[1] \"2005-11-28\" \"2000-01-01\""
      ]
     },
     "metadata": {},
     "output_type": "display_data"
    }
   ],
   "source": [
    "dates<- c(\"2005-11-28\", \"2015-10-18\", \"2000-01-01\")\n",
    "grep(\"[0-9]{4}-(0[1,3,5,7,9]|11)-[0-9]{2}\", dates, value = T)"
   ]
  },
  {
   "cell_type": "markdown",
   "id": "7bc3cab7",
   "metadata": {},
   "source": [
    "3. Given a string with several words (e.g., “Esta es una frase, pero no cualquier frase.”) create an array with each of the words in the string (e.g., [\"Esta\",\"es\",\"una\",\"frase\",\"pero\",\"no\",\"cualquier\",\"frase\"]). Take into account all possible punctuation characters."
   ]
  },
  {
   "cell_type": "code",
   "execution_count": 3,
   "id": "63359d85",
   "metadata": {},
   "outputs": [
    {
     "data": {
      "text/html": [
       "<ol class=list-inline>\n",
       "\t<li>'Esta'</li>\n",
       "\t<li>'es'</li>\n",
       "\t<li>'una'</li>\n",
       "\t<li>'frase'</li>\n",
       "\t<li>'pero'</li>\n",
       "\t<li>'no'</li>\n",
       "\t<li>'cualquier'</li>\n",
       "\t<li>'frase'</li>\n",
       "</ol>\n"
      ],
      "text/latex": [
       "\\begin{enumerate*}\n",
       "\\item 'Esta'\n",
       "\\item 'es'\n",
       "\\item 'una'\n",
       "\\item 'frase'\n",
       "\\item 'pero'\n",
       "\\item 'no'\n",
       "\\item 'cualquier'\n",
       "\\item 'frase'\n",
       "\\end{enumerate*}\n"
      ],
      "text/markdown": [
       "1. 'Esta'\n",
       "2. 'es'\n",
       "3. 'una'\n",
       "4. 'frase'\n",
       "5. 'pero'\n",
       "6. 'no'\n",
       "7. 'cualquier'\n",
       "8. 'frase'\n",
       "\n",
       "\n"
      ],
      "text/plain": [
       "[1] \"Esta\"      \"es\"        \"una\"       \"frase\"     \"pero\"      \"no\"       \n",
       "[7] \"cualquier\" \"frase\"    "
      ]
     },
     "metadata": {},
     "output_type": "display_data"
    }
   ],
   "source": [
    "frase<- \"Esta es una frase, pero no cualquier frase.\"\n",
    "#necesito un separado cuando hay un signo de puntucación y un espacio y cuando acaba en signo de puntuacion\n",
    "resultado<- unlist(strsplit(frase, split =\"[[:blank:]]|[[:punct:]] |[[:punct:]]| \"))\n",
    "resultado"
   ]
  },
  {
   "cell_type": "markdown",
   "id": "6600981e",
   "metadata": {},
   "source": [
    "4. Search in an array of strings those including only vocals \"a\" and/or \"e\" or none (check uppercase and lowercase)."
   ]
  },
  {
   "cell_type": "code",
   "execution_count": 4,
   "id": "a81c6ab1",
   "metadata": {},
   "outputs": [
    {
     "data": {
      "text/html": [
       "<ol class=list-inline>\n",
       "\t<li>'gata'</li>\n",
       "\t<li>'TREN'</li>\n",
       "\t<li>'caer'</li>\n",
       "</ol>\n"
      ],
      "text/latex": [
       "\\begin{enumerate*}\n",
       "\\item 'gata'\n",
       "\\item 'TREN'\n",
       "\\item 'caer'\n",
       "\\end{enumerate*}\n"
      ],
      "text/markdown": [
       "1. 'gata'\n",
       "2. 'TREN'\n",
       "3. 'caer'\n",
       "\n",
       "\n"
      ],
      "text/plain": [
       "[1] \"gata\" \"TREN\" \"caer\""
      ]
     },
     "metadata": {},
     "output_type": "display_data"
    }
   ],
   "source": [
    "ejemplo<- c(\"avion\", \"gris\", \"gata\", \"TREN\", \"caer\", \"UNION\")\n",
    "ejemplo[-grep(\"(.*[i|u|o|I|U|O].*)\", ejemplo)]"
   ]
  },
  {
   "cell_type": "markdown",
   "id": "2ccb543d",
   "metadata": {},
   "source": [
    "5. Given three numeric arrays representing days, months and years, create an array with dates (only if they are valid) (Hint: research the as.Date function)."
   ]
  },
  {
   "cell_type": "code",
   "execution_count": 5,
   "id": "7c9490d2",
   "metadata": {},
   "outputs": [
    {
     "data": {
      "text/html": [
       "<ol class=list-inline>\n",
       "\t<li><time datetime=\"1999-02-08\">1999-02-08</time></li>\n",
       "\t<li><time datetime=\"1212-12-12\">1212-12-12</time></li>\n",
       "</ol>\n"
      ],
      "text/latex": [
       "\\begin{enumerate*}\n",
       "\\item 1999-02-08\n",
       "\\item 1212-12-12\n",
       "\\end{enumerate*}\n"
      ],
      "text/markdown": [
       "1. 1999-02-08\n",
       "2. 1212-12-12\n",
       "\n",
       "\n"
      ],
      "text/plain": [
       "[1] \"1999-02-08\" \"1212-12-12\""
      ]
     },
     "metadata": {},
     "output_type": "display_data"
    }
   ],
   "source": [
    "days<- c(\"08\", \"21\", \"64\", \"12\")\n",
    "months<- c(\"02\", \"13\", \"10\", \"12\")\n",
    "years<- c(\"1999\", \"21\", \"2000\", \"1212\")\n",
    "\n",
    "dates<- as.Date(paste(years, months, days, sep = '-'), \"%Y-%m-%d\")\n",
    "valid<- dates[!is.na(dates)]\n",
    "valid"
   ]
  },
  {
   "cell_type": "markdown",
   "id": "a04678cb",
   "metadata": {},
   "source": [
    "## Homework (2nd part)\n",
    "\n",
    "Repeat homework (1st part) excersises using `stringr` functions:"
   ]
  },
  {
   "cell_type": "code",
   "execution_count": 7,
   "id": "6526600e",
   "metadata": {},
   "outputs": [
    {
     "name": "stderr",
     "output_type": "stream",
     "text": [
      "Registered S3 method overwritten by 'rvest':\n",
      "  method            from\n",
      "  read_xml.response xml2\n",
      "-- Attaching packages --------------------------------------- tidyverse 1.2.1 --\n",
      "v ggplot2 3.3.6       v purrr   0.3.2  \n",
      "v tibble  2.1.1       v dplyr   0.8.0.1\n",
      "v tidyr   0.8.3       v stringr 1.4.0  \n",
      "v readr   1.3.1       v forcats 0.4.0  \n",
      "-- Conflicts ------------------------------------------ tidyverse_conflicts() --\n",
      "x dplyr::filter() masks stats::filter()\n",
      "x dplyr::lag()    masks stats::lag()\n"
     ]
    }
   ],
   "source": [
    "library(tidyverse)\n",
    "library(stringr)"
   ]
  },
  {
   "cell_type": "markdown",
   "id": "f46a7a4a",
   "metadata": {},
   "source": [
    "1. Create a string array contaning your first name and last names (e.g., [\"Rocio\", \"Romero\", Zaliz\"]). Using that array and the R functions you just learned create a new string with the initial of your first name, a dot, and your last names (e.g., \"R. Romero Zaliz\")."
   ]
  },
  {
   "cell_type": "code",
   "execution_count": 8,
   "id": "1583e7a4",
   "metadata": {},
   "outputs": [
    {
     "data": {
      "text/html": [
       "<ol class=list-inline>\n",
       "\t<li>'Rafael'</li>\n",
       "\t<li>'Vazquez'</li>\n",
       "\t<li>'Conejo'</li>\n",
       "</ol>\n"
      ],
      "text/latex": [
       "\\begin{enumerate*}\n",
       "\\item 'Rafael'\n",
       "\\item 'Vazquez'\n",
       "\\item 'Conejo'\n",
       "\\end{enumerate*}\n"
      ],
      "text/markdown": [
       "1. 'Rafael'\n",
       "2. 'Vazquez'\n",
       "3. 'Conejo'\n",
       "\n",
       "\n"
      ],
      "text/plain": [
       "[1] \"Rafael\"  \"Vazquez\" \"Conejo\" "
      ]
     },
     "metadata": {},
     "output_type": "display_data"
    },
    {
     "data": {
      "text/html": [
       "'R. Vazquez Conejo'"
      ],
      "text/latex": [
       "'R. Vazquez Conejo'"
      ],
      "text/markdown": [
       "'R. Vazquez Conejo'"
      ],
      "text/plain": [
       "[1] \"R. Vazquez Conejo\""
      ]
     },
     "metadata": {},
     "output_type": "display_data"
    }
   ],
   "source": [
    "my_name<- c(\"Rafael\", \"Vazquez\", \"Conejo\")\n",
    "my_name\n",
    "\n",
    "new_name<- my_name[1] %>% str_sub(0,1) %>%\n",
    "  str_c(\".\", collapse = \"\") %>%\n",
    "  str_c(my_name[2], my_name[3], sep = \" \")\n",
    "\n",
    "new_name"
   ]
  },
  {
   "cell_type": "markdown",
   "id": "6c510f9a",
   "metadata": {},
   "source": [
    "2. Given an array of strings representing dates (e.g., [“2005-11-28”, “2015-10-18”, “2000-01-01”]), show only those corresponding to odd months (use format YEAR-MONTH-DAY)."
   ]
  },
  {
   "cell_type": "code",
   "execution_count": 9,
   "id": "175dbc29",
   "metadata": {},
   "outputs": [
    {
     "data": {
      "text/html": [
       "<ol class=list-inline>\n",
       "\t<li>'2005-11-28'</li>\n",
       "\t<li>'2000-01-01'</li>\n",
       "</ol>\n"
      ],
      "text/latex": [
       "\\begin{enumerate*}\n",
       "\\item '2005-11-28'\n",
       "\\item '2000-01-01'\n",
       "\\end{enumerate*}\n"
      ],
      "text/markdown": [
       "1. '2005-11-28'\n",
       "2. '2000-01-01'\n",
       "\n",
       "\n"
      ],
      "text/plain": [
       "[1] \"2005-11-28\" \"2000-01-01\""
      ]
     },
     "metadata": {},
     "output_type": "display_data"
    }
   ],
   "source": [
    "dates<- c(\"2005-11-28\", \"2015-10-18\", \"2000-01-01\")\n",
    "dates %>% str_subset(\"[0-9]{4}-(0[1,3,5,7,9]|11)-[0-9]{2}\")"
   ]
  },
  {
   "cell_type": "markdown",
   "id": "62c455b1",
   "metadata": {},
   "source": [
    "3. Given a string with several words (e.g., “Esta es una frase, pero no cualquier frase.”) create an array with each of the words in the string (e.g., [\"Esta\",\"es\",\"una\",\"frase\",\"pero\",\"no\",\"cualquier\",\"frase\"]). Take into account all possible punctuation characters."
   ]
  },
  {
   "cell_type": "code",
   "execution_count": 10,
   "id": "861f0d47",
   "metadata": {},
   "outputs": [
    {
     "data": {
      "text/html": [
       "<ol>\n",
       "\t<li><ol class=list-inline>\n",
       "\t<li>'Esta'</li>\n",
       "\t<li>'es'</li>\n",
       "\t<li>'una'</li>\n",
       "\t<li>'frase'</li>\n",
       "\t<li>'pero'</li>\n",
       "\t<li>'no'</li>\n",
       "\t<li>'cualquier'</li>\n",
       "\t<li>'frase'</li>\n",
       "\t<li>''</li>\n",
       "</ol>\n",
       "</li>\n",
       "</ol>\n"
      ],
      "text/latex": [
       "\\begin{enumerate}\n",
       "\\item \\begin{enumerate*}\n",
       "\\item 'Esta'\n",
       "\\item 'es'\n",
       "\\item 'una'\n",
       "\\item 'frase'\n",
       "\\item 'pero'\n",
       "\\item 'no'\n",
       "\\item 'cualquier'\n",
       "\\item 'frase'\n",
       "\\item ''\n",
       "\\end{enumerate*}\n",
       "\n",
       "\\end{enumerate}\n"
      ],
      "text/markdown": [
       "1. 1. 'Esta'\n",
       "2. 'es'\n",
       "3. 'una'\n",
       "4. 'frase'\n",
       "5. 'pero'\n",
       "6. 'no'\n",
       "7. 'cualquier'\n",
       "8. 'frase'\n",
       "9. ''\n",
       "\n",
       "\n",
       "\n",
       "\n",
       "\n"
      ],
      "text/plain": [
       "[[1]]\n",
       "[1] \"Esta\"      \"es\"        \"una\"       \"frase\"     \"pero\"      \"no\"       \n",
       "[7] \"cualquier\" \"frase\"     \"\"         \n"
      ]
     },
     "metadata": {},
     "output_type": "display_data"
    }
   ],
   "source": [
    "frase<- \"Esta es una frase, pero no cualquier frase.\"\n",
    "#resultado<- unlist(strsplit(frase, split =\"[[:punct:]] |[[:punct:]]| \"))\n",
    "resultado<- frase %>% str_split(\"[[:blank:]]|[[:punct:]] |[[:punct:]]| \")\n",
    "resultado"
   ]
  },
  {
   "cell_type": "markdown",
   "id": "bb8afdd2",
   "metadata": {},
   "source": [
    "4. Search in an array of strings those including only vocals \"a\" and/or \"e\" or none (check uppercase and lowercase)."
   ]
  },
  {
   "cell_type": "code",
   "execution_count": 11,
   "id": "931de617",
   "metadata": {},
   "outputs": [
    {
     "data": {
      "text/html": [
       "<ol class=list-inline>\n",
       "\t<li>'gata'</li>\n",
       "\t<li>'TREN'</li>\n",
       "\t<li>'caer'</li>\n",
       "</ol>\n"
      ],
      "text/latex": [
       "\\begin{enumerate*}\n",
       "\\item 'gata'\n",
       "\\item 'TREN'\n",
       "\\item 'caer'\n",
       "\\end{enumerate*}\n"
      ],
      "text/markdown": [
       "1. 'gata'\n",
       "2. 'TREN'\n",
       "3. 'caer'\n",
       "\n",
       "\n"
      ],
      "text/plain": [
       "[1] \"gata\" \"TREN\" \"caer\""
      ]
     },
     "metadata": {},
     "output_type": "display_data"
    }
   ],
   "source": [
    "ejemplo<- c(\"avion\", \"gris\", \"gata\", \"TREN\", \"caer\", \"UNION\")\n",
    "ejemplo[str_detect(ejemplo, \"(.*[i|u|o|I|U|O].*)\", negate = T)]"
   ]
  },
  {
   "cell_type": "markdown",
   "id": "4a327b91",
   "metadata": {},
   "source": [
    "5. Given three numeric arrays representing days, months and years, create an array with dates (only if they are valid) (Hint: research the as.Date function)."
   ]
  },
  {
   "cell_type": "code",
   "execution_count": 12,
   "id": "f319d836",
   "metadata": {},
   "outputs": [
    {
     "data": {
      "text/html": [
       "<ol class=list-inline>\n",
       "\t<li><time datetime=\"1999-02-08\">1999-02-08</time></li>\n",
       "\t<li><time datetime=\"1212-12-12\">1212-12-12</time></li>\n",
       "</ol>\n"
      ],
      "text/latex": [
       "\\begin{enumerate*}\n",
       "\\item 1999-02-08\n",
       "\\item 1212-12-12\n",
       "\\end{enumerate*}\n"
      ],
      "text/markdown": [
       "1. 1999-02-08\n",
       "2. 1212-12-12\n",
       "\n",
       "\n"
      ],
      "text/plain": [
       "[1] \"1999-02-08\" \"1212-12-12\""
      ]
     },
     "metadata": {},
     "output_type": "display_data"
    }
   ],
   "source": [
    "days<- c(\"08\", \"21\", \"64\", \"12\")\n",
    "months<- c(\"02\", \"13\", \"10\", \"12\")\n",
    "years<- c(\"1999\", \"21\", \"2000\", \"1212\")\n",
    "\n",
    "\n",
    "dates<- as.Date(str_c(years, months, days, sep = '-'), \"%Y-%m-%d\")\n",
    "valid<- dates[!is.na(dates)]\n",
    "valid"
   ]
  },
  {
   "cell_type": "code",
   "execution_count": null,
   "id": "ed223401",
   "metadata": {},
   "outputs": [],
   "source": []
  }
 ],
 "metadata": {
  "kernelspec": {
   "display_name": "R",
   "language": "R",
   "name": "ir"
  },
  "language_info": {
   "codemirror_mode": "r",
   "file_extension": ".r",
   "mimetype": "text/x-r-source",
   "name": "R",
   "pygments_lexer": "r",
   "version": "3.6.1"
  }
 },
 "nbformat": 4,
 "nbformat_minor": 5
}
