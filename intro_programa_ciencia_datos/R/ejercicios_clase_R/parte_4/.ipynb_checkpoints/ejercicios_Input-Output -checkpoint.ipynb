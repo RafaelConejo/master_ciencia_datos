{
 "cells": [
  {
   "cell_type": "markdown",
   "metadata": {},
   "source": [
    "## Homework\n",
    "1. Ask the user to introduce with the keyboard a string s and a number n and show in the screen n times the string s (without spaces between words).\n",
    ">s=\"hola, n=3<br/>\n",
    "holaholahola"
   ]
  },
  {
   "cell_type": "code",
   "execution_count": 1,
   "metadata": {},
   "outputs": [
    {
     "name": "stdout",
     "output_type": "stream",
     "text": [
      "Input string: a\n",
      "Input number: 2\n"
     ]
    },
    {
     "data": {
      "text/html": [
       "'aa'"
      ],
      "text/latex": [
       "'aa'"
      ],
      "text/markdown": [
       "'aa'"
      ],
      "text/plain": [
       "[1] \"aa\""
      ]
     },
     "metadata": {},
     "output_type": "display_data"
    }
   ],
   "source": [
    "s<- readline(\"Input string: \")\n",
    "n<- readline(\"Input number: \")\n",
    "\n",
    "out<- rep(s, n)\n",
    "paste(out, collapse = '')"
   ]
  },
  {
   "cell_type": "markdown",
   "metadata": {},
   "source": [
    "2. Create three files called dos.txt, tres.txt and cinco.txt containing the table of 2, 3 and 5 respectively (only include the first 10 values of each, one number in a separate line)."
   ]
  },
  {
   "cell_type": "code",
   "execution_count": 3,
   "metadata": {},
   "outputs": [],
   "source": [
    "multiplica<- 1:10\n",
    "\n",
    "write.table(matrix(2 * multiplica, nrow = 10), \"dos.txt\", row.names=F, col.names=F)\n",
    "write.table(matrix(3 * multiplica, nrow = 10), \"tres.txt\", row.names=F, col.names=F)\n",
    "write.table(matrix(5 * multiplica, nrow = 10), \"cinco.txt\", row.names=F, col.names=F)"
   ]
  },
  {
   "cell_type": "markdown",
   "metadata": {},
   "source": [
    "3. Load the three files created in the last exercise and create a matrix with three columns, one for each file conent."
   ]
  },
  {
   "cell_type": "code",
   "execution_count": 4,
   "metadata": {},
   "outputs": [
    {
     "data": {
      "text/html": [
       "<table>\n",
       "<thead><tr><th scope=col>tabla_dos</th><th scope=col>tabla_tres</th><th scope=col>tabla_cinco</th></tr></thead>\n",
       "<tbody>\n",
       "\t<tr><td> 2</td><td> 3</td><td> 5</td></tr>\n",
       "\t<tr><td> 4</td><td> 6</td><td>10</td></tr>\n",
       "\t<tr><td> 6</td><td> 9</td><td>15</td></tr>\n",
       "\t<tr><td> 8</td><td>12</td><td>20</td></tr>\n",
       "\t<tr><td>10</td><td>15</td><td>25</td></tr>\n",
       "\t<tr><td>12</td><td>18</td><td>30</td></tr>\n",
       "\t<tr><td>14</td><td>21</td><td>35</td></tr>\n",
       "\t<tr><td>16</td><td>24</td><td>40</td></tr>\n",
       "\t<tr><td>18</td><td>27</td><td>45</td></tr>\n",
       "\t<tr><td>20</td><td>30</td><td>50</td></tr>\n",
       "</tbody>\n",
       "</table>\n"
      ],
      "text/latex": [
       "\\begin{tabular}{lll}\n",
       " tabla\\_dos & tabla\\_tres & tabla\\_cinco\\\\\n",
       "\\hline\n",
       "\t  2 &  3 &  5\\\\\n",
       "\t  4 &  6 & 10\\\\\n",
       "\t  6 &  9 & 15\\\\\n",
       "\t  8 & 12 & 20\\\\\n",
       "\t 10 & 15 & 25\\\\\n",
       "\t 12 & 18 & 30\\\\\n",
       "\t 14 & 21 & 35\\\\\n",
       "\t 16 & 24 & 40\\\\\n",
       "\t 18 & 27 & 45\\\\\n",
       "\t 20 & 30 & 50\\\\\n",
       "\\end{tabular}\n"
      ],
      "text/markdown": [
       "\n",
       "| tabla_dos | tabla_tres | tabla_cinco |\n",
       "|---|---|---|\n",
       "|  2 |  3 |  5 |\n",
       "|  4 |  6 | 10 |\n",
       "|  6 |  9 | 15 |\n",
       "|  8 | 12 | 20 |\n",
       "| 10 | 15 | 25 |\n",
       "| 12 | 18 | 30 |\n",
       "| 14 | 21 | 35 |\n",
       "| 16 | 24 | 40 |\n",
       "| 18 | 27 | 45 |\n",
       "| 20 | 30 | 50 |\n",
       "\n"
      ],
      "text/plain": [
       "      tabla_dos tabla_tres tabla_cinco\n",
       " [1,]  2         3          5         \n",
       " [2,]  4         6         10         \n",
       " [3,]  6         9         15         \n",
       " [4,]  8        12         20         \n",
       " [5,] 10        15         25         \n",
       " [6,] 12        18         30         \n",
       " [7,] 14        21         35         \n",
       " [8,] 16        24         40         \n",
       " [9,] 18        27         45         \n",
       "[10,] 20        30         50         "
      ]
     },
     "metadata": {},
     "output_type": "display_data"
    }
   ],
   "source": [
    "tabla_dos<- scan(\"dos.txt\")\n",
    "tabla_tres<- scan(\"tres.txt\")\n",
    "tabla_cinco<- scan(\"cinco.txt\")\n",
    "\n",
    "m_tablas<- cbind(tabla_dos, tabla_tres, tabla_cinco)\n",
    "m_tablas"
   ]
  },
  {
   "cell_type": "markdown",
   "metadata": {},
   "source": [
    "4. Write the first five rows of the matrix created in the last exercise in a new file called prime.txt and the last five in another file called fin.txt. Both files must have the data separated by commas."
   ]
  },
  {
   "cell_type": "code",
   "execution_count": 5,
   "metadata": {},
   "outputs": [],
   "source": [
    "write.table(m_tablas[1:5, ], \"prime.txt\", row.names = F, sep = \",\") \n",
    "# write.table(head(m_tablas, 5), \"prime.txt\", row.names = F, sep = \",\") \n",
    "\n",
    "write.table(m_tablas[6:10, ], \"fin.txt\", row.names = F, sep = \",\") \n",
    "# write.table(tail(m_tablas, 5), \"fin.txt\", row.names = F, sep = \",\") "
   ]
  },
  {
   "cell_type": "markdown",
   "metadata": {},
   "source": [
    "5. Given two numbers, f and c (given by the user using the keyboard), create a square figure of f rows and c collumns with character \"x\" (without spaces). See an example for f=4 and c=3 below:\n",
    "> xxx<br/>\n",
    " xxx<br/>\n",
    " xxx<br/>\n",
    " xxx<br/>"
   ]
  },
  {
   "cell_type": "code",
   "execution_count": 6,
   "metadata": {},
   "outputs": [
    {
     "name": "stdout",
     "output_type": "stream",
     "text": [
      "Input rows: 4\n",
      "Input columns: 3\n",
      "xxx\n",
      "xxx\n",
      "xxx\n",
      "xxx"
     ]
    }
   ],
   "source": [
    "f<- readline(\"Input rows: \")\n",
    "c<- readline(\"Input columns: \")\n",
    "\n",
    "rows<- paste(rep(\"x\", c), collapse = '')\n",
    "cat(paste(rep(rows, f), collapse = \"\\n\"))"
   ]
  },
  {
   "cell_type": "code",
   "execution_count": null,
   "metadata": {},
   "outputs": [],
   "source": []
  }
 ],
 "metadata": {
  "celltoolbar": "Raw Cell Format",
  "kernelspec": {
   "display_name": "R",
   "language": "R",
   "name": "ir"
  },
  "language_info": {
   "codemirror_mode": "r",
   "file_extension": ".r",
   "mimetype": "text/x-r-source",
   "name": "R",
   "pygments_lexer": "r",
   "version": "3.6.1"
  }
 },
 "nbformat": 4,
 "nbformat_minor": 2
}
