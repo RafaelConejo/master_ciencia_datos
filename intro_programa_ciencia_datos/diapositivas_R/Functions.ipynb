{
 "cells": [
  {
   "cell_type": "markdown",
   "metadata": {
    "collapsed": true
   },
   "source": [
    "### Introducción a la Programación para Ciencia de Datos\n",
    "\n",
    "### R (2da parte)\n",
    "_Rocío Romero Zaliz_ - rocio@decsai.ugr.es"
   ]
  },
  {
   "cell_type": "markdown",
   "metadata": {},
   "source": [
    "# Functions\n",
    "\n",
    "A function is a group of instructions that takes inputs, uses them to compute other values, and returns a result."
   ]
  },
  {
   "cell_type": "code",
   "execution_count": null,
   "metadata": {},
   "outputs": [],
   "source": [
    "cat"
   ]
  },
  {
   "cell_type": "code",
   "execution_count": null,
   "metadata": {},
   "outputs": [],
   "source": [
    "cat(1:10, sep=\"#\", file=\"hola1.txt\")"
   ]
  },
  {
   "cell_type": "code",
   "execution_count": null,
   "metadata": {},
   "outputs": [],
   "source": [
    "cat(sep=\"#\", 1:10, file=\"hola2.txt\")"
   ]
  },
  {
   "cell_type": "markdown",
   "metadata": {},
   "source": [
    "Let's create our own functions"
   ]
  },
  {
   "cell_type": "code",
   "execution_count": null,
   "metadata": {},
   "outputs": [],
   "source": [
    "suma <- function(x, y) {\n",
    "    x + y\n",
    "}"
   ]
  },
  {
   "cell_type": "code",
   "execution_count": null,
   "metadata": {},
   "outputs": [],
   "source": [
    "suma"
   ]
  },
  {
   "cell_type": "code",
   "execution_count": null,
   "metadata": {},
   "outputs": [],
   "source": [
    "suma(2, 3)"
   ]
  },
  {
   "cell_type": "code",
   "execution_count": null,
   "metadata": {},
   "outputs": [],
   "source": [
    "# Error!\n",
    "suma(2)"
   ]
  },
  {
   "cell_type": "code",
   "execution_count": null,
   "metadata": {},
   "outputs": [],
   "source": [
    "# Default values\n",
    "\n",
    "suma <- function(x, y=5) {\n",
    "    x + y\n",
    "}\n",
    "\n",
    "suma(x=2)"
   ]
  },
  {
   "cell_type": "code",
   "execution_count": null,
   "metadata": {},
   "outputs": [],
   "source": [
    "suma(2)"
   ]
  },
  {
   "cell_type": "code",
   "execution_count": null,
   "metadata": {},
   "outputs": [],
   "source": [
    "suma(y=9, x=5)"
   ]
  },
  {
   "cell_type": "code",
   "execution_count": null,
   "metadata": {},
   "outputs": [],
   "source": [
    "suma <- function(x=5, y=1) {\n",
    "    x + y\n",
    "}\n",
    "\n",
    "suma(y=2)"
   ]
  },
  {
   "cell_type": "code",
   "execution_count": null,
   "metadata": {},
   "outputs": [],
   "source": [
    "suma()"
   ]
  },
  {
   "cell_type": "code",
   "execution_count": null,
   "metadata": {},
   "outputs": [],
   "source": [
    "# A procedure... is also coded as a function...\n",
    "\n",
    "prueba1 <- function(pepe=\"hola\") {\n",
    "    cat(pepe)\n",
    "}\n",
    "\n",
    "a <- prueba1()"
   ]
  },
  {
   "cell_type": "code",
   "execution_count": null,
   "metadata": {},
   "outputs": [],
   "source": [
    "print(a)"
   ]
  },
  {
   "cell_type": "code",
   "execution_count": null,
   "metadata": {},
   "outputs": [],
   "source": [
    "prueba1(\"probando...\")"
   ]
  },
  {
   "cell_type": "code",
   "execution_count": null,
   "metadata": {},
   "outputs": [],
   "source": [
    "print(prueba1())"
   ]
  },
  {
   "cell_type": "code",
   "execution_count": null,
   "metadata": {},
   "outputs": [],
   "source": [
    "prueba2 <- function(x, y, z) {\n",
    "    w <- x + y\n",
    "    p <- w - z\n",
    "}"
   ]
  },
  {
   "cell_type": "code",
   "execution_count": null,
   "metadata": {},
   "outputs": [],
   "source": [
    "prueba2(1,21,3)"
   ]
  },
  {
   "cell_type": "code",
   "execution_count": null,
   "metadata": {},
   "outputs": [],
   "source": [
    "print(prueba2(1,21,3))"
   ]
  },
  {
   "cell_type": "code",
   "execution_count": null,
   "metadata": {},
   "outputs": [],
   "source": [
    "prueba2 <- function(x, y, z) {\n",
    "    w <- x + y\n",
    "    p <- w - z\n",
    "    \n",
    "    p\n",
    "}\n",
    "prueba2(1,21,3)"
   ]
  },
  {
   "cell_type": "code",
   "execution_count": null,
   "metadata": {},
   "outputs": [],
   "source": [
    "prueba2 <- function(x, y, z) {\n",
    "    w <- x + y\n",
    "    p <- w - z\n",
    "    \n",
    "    return(p) # Not R-ish...\n",
    "}\n",
    "prueba2(1,21,3)"
   ]
  },
  {
   "cell_type": "code",
   "execution_count": null,
   "metadata": {},
   "outputs": [],
   "source": [
    "# All arguments are by value\n",
    "\n",
    "prueba3 <- function(a, b) {\n",
    "    a <- 7\n",
    "    b <- 0\n",
    "    print(a)\n",
    "    print(b)\n",
    "}\n",
    "\n",
    "xx <- 0\n",
    "yy <- 4\n",
    "print(xx)\n",
    "print(yy)\n",
    "prueba3(xx,yy)\n",
    "print(xx)\n",
    "print(yy)\n",
    "\n",
    "# Arguments by reference do not exist in basic R (not R-ish) -> However... check packages R.oo, proto, ff"
   ]
  },
  {
   "cell_type": "markdown",
   "metadata": {},
   "source": [
    "## Homework\n",
    "<i>(If you already known the `if` and/or `ifelse` sentences, DO NOT use them in these exercises)</i>\n",
    "1. Create a function \"impares\" that given an array returns the number of odd elements it contains."
   ]
  },
  {
   "cell_type": "code",
   "execution_count": null,
   "metadata": {},
   "outputs": [],
   "source": [
    "# Write your code here"
   ]
  },
  {
   "cell_type": "markdown",
   "metadata": {},
   "source": [
    "2. Create a function \"cambio\" that, given a matrix of integer numbers, returns a new matrix with all `NA` replaced by 0."
   ]
  },
  {
   "cell_type": "code",
   "execution_count": null,
   "metadata": {},
   "outputs": [],
   "source": [
    "# Write your code here"
   ]
  },
  {
   "cell_type": "markdown",
   "metadata": {},
   "source": [
    "3. Create a function \"unir\" that given two arrays returns a new array with the elements of both arrays without repetition (in the same order as in the original arrays)."
   ]
  },
  {
   "cell_type": "code",
   "execution_count": null,
   "metadata": {},
   "outputs": [],
   "source": [
    "# Write your code here"
   ]
  },
  {
   "cell_type": "markdown",
   "metadata": {},
   "source": [
    "4. Create a function \"vyc\" that given a string returns a list of two components, one containing the vowels and the other the consonants (in alphabetical order and lowercase)."
   ]
  },
  {
   "cell_type": "code",
   "execution_count": null,
   "metadata": {},
   "outputs": [],
   "source": [
    "# Write your code here"
   ]
  },
  {
   "cell_type": "markdown",
   "metadata": {},
   "source": [
    "5. Create a function \"subpos\" that given an array v and two values x and y (with y an optional parameter), returns a new array with the values included after the first x (if x is not there, start from the beggining) upto the first y after the first x (if y is not there, finish upto the end of the array). If y is not indicated, the function will return the values after the first x until the end of the array. Examples:\n",
    ">subpos(1:4, 8, 3) -> 1 2 3<br/>\n",
    "subpos(1:4, 2, 8) -> 2 3 4<br/>\n",
    "subpos(1:4, 2) -> 2 3 4"
   ]
  },
  {
   "cell_type": "code",
   "execution_count": null,
   "metadata": {},
   "outputs": [],
   "source": [
    "# Write your code here"
   ]
  }
 ],
 "metadata": {
  "celltoolbar": "Raw Cell Format",
  "kernelspec": {
   "display_name": "R",
   "language": "R",
   "name": "ir"
  },
  "language_info": {
   "codemirror_mode": "r",
   "file_extension": ".r",
   "mimetype": "text/x-r-source",
   "name": "R",
   "pygments_lexer": "r",
   "version": "4.2.1"
  }
 },
 "nbformat": 4,
 "nbformat_minor": 2
}
