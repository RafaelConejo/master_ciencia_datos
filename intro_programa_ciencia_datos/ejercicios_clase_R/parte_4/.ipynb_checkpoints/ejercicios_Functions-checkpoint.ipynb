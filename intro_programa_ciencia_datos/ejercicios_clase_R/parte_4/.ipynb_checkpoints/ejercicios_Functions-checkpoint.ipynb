{
 "cells": [
  {
   "cell_type": "markdown",
   "metadata": {},
   "source": [
    "## Homework\n",
    "<i>(If you already known the `if` and/or `ifelse` sentences, DO NOT use them in these exercises)</i>\n",
    "1. Create a function \"impares\" that given an array returns the number of odd elements it contains."
   ]
  },
  {
   "cell_type": "code",
   "execution_count": 1,
   "metadata": {},
   "outputs": [
    {
     "data": {
      "text/html": [
       "3"
      ],
      "text/latex": [
       "3"
      ],
      "text/markdown": [
       "3"
      ],
      "text/plain": [
       "[1] 3"
      ]
     },
     "metadata": {},
     "output_type": "display_data"
    }
   ],
   "source": [
    "impares <- function(array) {\n",
    "    length(which(array%%2 != 0))\n",
    "}\n",
    "\n",
    "#pruebo con un ejemplo\n",
    "impares(1:5)"
   ]
  },
  {
   "cell_type": "markdown",
   "metadata": {},
   "source": [
    "2. Create a function \"cambio\" that, given a matrix of integer numbers, returns a new matrix with all `NA` replaced by 0."
   ]
  },
  {
   "cell_type": "code",
   "execution_count": 2,
   "metadata": {},
   "outputs": [
    {
     "data": {
      "text/html": [
       "<table>\n",
       "<tbody>\n",
       "\t<tr><td>0</td><td>4</td></tr>\n",
       "\t<tr><td>3</td><td>0</td></tr>\n",
       "</tbody>\n",
       "</table>\n"
      ],
      "text/latex": [
       "\\begin{tabular}{ll}\n",
       "\t 0 & 4\\\\\n",
       "\t 3 & 0\\\\\n",
       "\\end{tabular}\n"
      ],
      "text/markdown": [
       "\n",
       "| 0 | 4 |\n",
       "| 3 | 0 |\n",
       "\n"
      ],
      "text/plain": [
       "     [,1] [,2]\n",
       "[1,] 0    4   \n",
       "[2,] 3    0   "
      ]
     },
     "metadata": {},
     "output_type": "display_data"
    }
   ],
   "source": [
    "cambio<- function(m) {\n",
    "  m[which(is.na(m))] <-0\n",
    "  m\n",
    "}\n",
    "\n",
    "m<- matrix(c(NA,3, 4,NA), nrow = 2, ncol = 2)\n",
    "cambio(m)"
   ]
  },
  {
   "cell_type": "markdown",
   "metadata": {},
   "source": [
    "3. Create a function \"unir\" that given two arrays returns a new array with the elements of both arrays without repetition (in the same order as in the original arrays)."
   ]
  },
  {
   "cell_type": "code",
   "execution_count": 3,
   "metadata": {},
   "outputs": [
    {
     "data": {
      "text/html": [
       "<ol class=list-inline>\n",
       "\t<li>1</li>\n",
       "\t<li>5</li>\n",
       "\t<li>7</li>\n",
       "\t<li>8</li>\n",
       "\t<li>2</li>\n",
       "\t<li>9</li>\n",
       "</ol>\n"
      ],
      "text/latex": [
       "\\begin{enumerate*}\n",
       "\\item 1\n",
       "\\item 5\n",
       "\\item 7\n",
       "\\item 8\n",
       "\\item 2\n",
       "\\item 9\n",
       "\\end{enumerate*}\n"
      ],
      "text/markdown": [
       "1. 1\n",
       "2. 5\n",
       "3. 7\n",
       "4. 8\n",
       "5. 2\n",
       "6. 9\n",
       "\n",
       "\n"
      ],
      "text/plain": [
       "[1] 1 5 7 8 2 9"
      ]
     },
     "metadata": {},
     "output_type": "display_data"
    }
   ],
   "source": [
    "unir<- function(arr1, arr2) {\n",
    "  union(arr1, arr2)\n",
    "}\n",
    "\n",
    "array1<- c(1,5,7,8)\n",
    "array2<- c(7,8,2,9)\n",
    "unir(array1, array2)"
   ]
  },
  {
   "cell_type": "markdown",
   "metadata": {},
   "source": [
    "4. Create a function \"vyc\" that given a string returns a list of two components, one containing the vowels and the other the consonants (in alphabetical order and lowercase)."
   ]
  },
  {
   "cell_type": "code",
   "execution_count": 11,
   "metadata": {},
   "outputs": [
    {
     "data": {
      "text/html": [
       "<ol>\n",
       "\t<li><ol class=list-inline>\n",
       "\t<li>'a'</li>\n",
       "\t<li>'e'</li>\n",
       "\t<li>'u'</li>\n",
       "</ol>\n",
       "</li>\n",
       "\t<li><ol class=list-inline>\n",
       "\t<li>'c'</li>\n",
       "\t<li>'g'</li>\n",
       "\t<li>'h'</li>\n",
       "\t<li>'l'</li>\n",
       "</ol>\n",
       "</li>\n",
       "</ol>\n"
      ],
      "text/latex": [
       "\\begin{enumerate}\n",
       "\\item \\begin{enumerate*}\n",
       "\\item 'a'\n",
       "\\item 'e'\n",
       "\\item 'u'\n",
       "\\end{enumerate*}\n",
       "\n",
       "\\item \\begin{enumerate*}\n",
       "\\item 'c'\n",
       "\\item 'g'\n",
       "\\item 'h'\n",
       "\\item 'l'\n",
       "\\end{enumerate*}\n",
       "\n",
       "\\end{enumerate}\n"
      ],
      "text/markdown": [
       "1. 1. 'a'\n",
       "2. 'e'\n",
       "3. 'u'\n",
       "\n",
       "\n",
       "\n",
       "2. 1. 'c'\n",
       "2. 'g'\n",
       "3. 'h'\n",
       "4. 'l'\n",
       "\n",
       "\n",
       "\n",
       "\n",
       "\n"
      ],
      "text/plain": [
       "[[1]]\n",
       "[1] \"a\" \"e\" \"u\"\n",
       "\n",
       "[[2]]\n",
       "[1] \"c\" \"g\" \"h\" \"l\"\n"
      ]
     },
     "metadata": {},
     "output_type": "display_data"
    },
    {
     "data": {
      "text/html": [
       "<ol>\n",
       "\t<li><ol class=list-inline>\n",
       "\t<li>'a'</li>\n",
       "\t<li>'e'</li>\n",
       "\t<li>'u'</li>\n",
       "</ol>\n",
       "</li>\n",
       "\t<li><ol class=list-inline>\n",
       "\t<li>'c'</li>\n",
       "\t<li>'g'</li>\n",
       "\t<li>'h'</li>\n",
       "\t<li>'l'</li>\n",
       "</ol>\n",
       "</li>\n",
       "</ol>\n"
      ],
      "text/latex": [
       "\\begin{enumerate}\n",
       "\\item \\begin{enumerate*}\n",
       "\\item 'a'\n",
       "\\item 'e'\n",
       "\\item 'u'\n",
       "\\end{enumerate*}\n",
       "\n",
       "\\item \\begin{enumerate*}\n",
       "\\item 'c'\n",
       "\\item 'g'\n",
       "\\item 'h'\n",
       "\\item 'l'\n",
       "\\end{enumerate*}\n",
       "\n",
       "\\end{enumerate}\n"
      ],
      "text/markdown": [
       "1. 1. 'a'\n",
       "2. 'e'\n",
       "3. 'u'\n",
       "\n",
       "\n",
       "\n",
       "2. 1. 'c'\n",
       "2. 'g'\n",
       "3. 'h'\n",
       "4. 'l'\n",
       "\n",
       "\n",
       "\n",
       "\n",
       "\n"
      ],
      "text/plain": [
       "[[1]]\n",
       "[1] \"a\" \"e\" \"u\"\n",
       "\n",
       "[[2]]\n",
       "[1] \"c\" \"g\" \"h\" \"l\"\n"
      ]
     },
     "metadata": {},
     "output_type": "display_data"
    }
   ],
   "source": [
    "vyc<- function(s){\n",
    "  vowels<- c('a', 'e', 'i', 'o', 'u')\n",
    "  \n",
    "  s<- tolower(s)\n",
    "  s_split<- unlist(strsplit(s, \"\"))\n",
    "  vocales<- s_split[s_split %in% vowels]\n",
    "  consonantes<- s_split[!s_split %in% vowels]\n",
    "  \n",
    "  list(sort(vocales), sort(consonantes))\n",
    "  \n",
    "}\n",
    "\n",
    "vyc(\"lechuga\")\n",
    "vyc(\"LECHUGA\")"
   ]
  },
  {
   "cell_type": "markdown",
   "metadata": {},
   "source": [
    "5. Create a function \"subpos\" that given an array v and two values x and y (with y an optional parameter), returns a new array with the values included after the first x (if x is not there, start from the beggining) upto the first y after the first x (if y is not there, finish upto the end of the array). If y is not indicated, the function will return the values after the first x until the end of the array. Examples:\n",
    ">subpos(1:4, 8, 3) -> 1 2 3<br/>\n",
    "subpos(1:4, 2, 8) -> 2 3 4<br/>\n",
    "subpos(1:4, 2) -> 2 3 4"
   ]
  },
  {
   "cell_type": "code",
   "execution_count": 12,
   "metadata": {},
   "outputs": [
    {
     "data": {
      "text/html": [
       "<ol class=list-inline>\n",
       "\t<li>1</li>\n",
       "\t<li>2</li>\n",
       "\t<li>3</li>\n",
       "</ol>\n"
      ],
      "text/latex": [
       "\\begin{enumerate*}\n",
       "\\item 1\n",
       "\\item 2\n",
       "\\item 3\n",
       "\\end{enumerate*}\n"
      ],
      "text/markdown": [
       "1. 1\n",
       "2. 2\n",
       "3. 3\n",
       "\n",
       "\n"
      ],
      "text/plain": [
       "[1] 1 2 3"
      ]
     },
     "metadata": {},
     "output_type": "display_data"
    },
    {
     "data": {
      "text/html": [
       "<ol class=list-inline>\n",
       "\t<li>2</li>\n",
       "\t<li>3</li>\n",
       "\t<li>4</li>\n",
       "</ol>\n"
      ],
      "text/latex": [
       "\\begin{enumerate*}\n",
       "\\item 2\n",
       "\\item 3\n",
       "\\item 4\n",
       "\\end{enumerate*}\n"
      ],
      "text/markdown": [
       "1. 2\n",
       "2. 3\n",
       "3. 4\n",
       "\n",
       "\n"
      ],
      "text/plain": [
       "[1] 2 3 4"
      ]
     },
     "metadata": {},
     "output_type": "display_data"
    },
    {
     "data": {
      "text/html": [
       "<ol class=list-inline>\n",
       "\t<li>2</li>\n",
       "\t<li>3</li>\n",
       "\t<li>4</li>\n",
       "</ol>\n"
      ],
      "text/latex": [
       "\\begin{enumerate*}\n",
       "\\item 2\n",
       "\\item 3\n",
       "\\item 4\n",
       "\\end{enumerate*}\n"
      ],
      "text/markdown": [
       "1. 2\n",
       "2. 3\n",
       "3. 4\n",
       "\n",
       "\n"
      ],
      "text/plain": [
       "[1] 2 3 4"
      ]
     },
     "metadata": {},
     "output_type": "display_data"
    }
   ],
   "source": [
    "subpos<- function(v, x, y=NA){\n",
    "  ini_pos<- match(x, v, nomatch = 1)\n",
    "  fin_pos<- match(y, v, nomatch = length(v))\n",
    "  \n",
    "  new_v<- v[ini_pos:fin_pos]\n",
    "  new_v\n",
    "}\n",
    "\n",
    "subpos(1:4, 8, 3)\n",
    "subpos(1:4, 2, 8)\n",
    "subpos(1:4, 2)"
   ]
  },
  {
   "cell_type": "code",
   "execution_count": null,
   "metadata": {},
   "outputs": [],
   "source": []
  }
 ],
 "metadata": {
  "celltoolbar": "Raw Cell Format",
  "kernelspec": {
   "display_name": "R",
   "language": "R",
   "name": "ir"
  },
  "language_info": {
   "codemirror_mode": "r",
   "file_extension": ".r",
   "mimetype": "text/x-r-source",
   "name": "R",
   "pygments_lexer": "r",
   "version": "3.6.1"
  }
 },
 "nbformat": 4,
 "nbformat_minor": 2
}
