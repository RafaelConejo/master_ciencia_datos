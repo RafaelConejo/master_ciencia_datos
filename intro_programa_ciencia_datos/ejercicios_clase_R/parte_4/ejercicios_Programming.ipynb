{
 "cells": [
  {
   "cell_type": "markdown",
   "metadata": {},
   "source": [
    "## Homework\n",
    "1. Create an increasing function that indicates whether the elements of a given array are strictly increasing. Ordering the vector is not allowed."
   ]
  },
  {
   "cell_type": "code",
   "execution_count": 1,
   "metadata": {},
   "outputs": [
    {
     "data": {
      "text/html": [
       "TRUE"
      ],
      "text/latex": [
       "TRUE"
      ],
      "text/markdown": [
       "TRUE"
      ],
      "text/plain": [
       "[1] TRUE"
      ]
     },
     "metadata": {},
     "output_type": "display_data"
    },
    {
     "data": {
      "text/html": [
       "FALSE"
      ],
      "text/latex": [
       "FALSE"
      ],
      "text/markdown": [
       "FALSE"
      ],
      "text/plain": [
       "[1] FALSE"
      ]
     },
     "metadata": {},
     "output_type": "display_data"
    }
   ],
   "source": [
    "increasing<- function(arr){\n",
    "  crece<- T\n",
    "  final<- length(arr)-1 \n",
    "  i<- 1 \n",
    "  \n",
    "  while (crece & i <= final) {\n",
    "    if(arr[i] > arr[i+1]){\n",
    "      crece<- F\n",
    "    }\n",
    "    i<- i+1\n",
    "  }\n",
    "  crece\n",
    "}\n",
    "\n",
    "caso1<- c(1:5)\n",
    "caso2<- c(1,2,5,3)\n",
    "increasing(caso1)\n",
    "increasing(caso2)"
   ]
  },
  {
   "cell_type": "markdown",
   "metadata": {},
   "source": [
    "2. Create a function \"montecarlo\" that calculates the estimation of the given integral:\n",
    "   >$\\int_{0}^{1} x^2 dx$<br/>\n",
    "   \n",
    "   The Monte Carlo algortithm in pseudo-code is as follows:\n",
    ">hits=0<br/>\n",
    " for i from 1 to N<br/>\n",
    " &nbsp;&nbsp;&nbsp;&nbsp;Generate two random numbers r1 and r2 between 0 and 1<br/>\n",
    " &nbsp;&nbsp;&nbsp;&nbsp;If r2<r1^2 then hits=hits+1<br/>\n",
    " end for<br/>\n",
    " return hits/N\n",
    "\n",
    "    Check functions `runif()` and `rnorm()`."
   ]
  },
  {
   "cell_type": "code",
   "execution_count": 17,
   "metadata": {},
   "outputs": [
    {
     "data": {
      "text/html": [
       "0.4"
      ],
      "text/latex": [
       "0.4"
      ],
      "text/markdown": [
       "0.4"
      ],
      "text/plain": [
       "[1] 0.4"
      ]
     },
     "metadata": {},
     "output_type": "display_data"
    },
    {
     "data": {
      "text/html": [
       "0.335"
      ],
      "text/latex": [
       "0.335"
      ],
      "text/markdown": [
       "0.335"
      ],
      "text/plain": [
       "[1] 0.335"
      ]
     },
     "metadata": {},
     "output_type": "display_data"
    }
   ],
   "source": [
    "montecarlo <- function(N){\n",
    "    hits <- 0\n",
    "    for(i in 1:N){\n",
    "        r1 <- runif(1, min=0, max=1)\n",
    "        r2 <- runif(1, min=0, max=1)\n",
    "        if(r2 < r1^2)\n",
    "            hits <- hits + 1\n",
    "    }\n",
    "    return(hits/N)\n",
    "}\n",
    "\n",
    "montecarlo(10)\n",
    "montecarlo(1000)"
   ]
  },
  {
   "cell_type": "markdown",
   "metadata": {},
   "source": [
    "3. Create a list of five numeric arrays and order them after its creation."
   ]
  },
  {
   "cell_type": "code",
   "execution_count": 2,
   "metadata": {},
   "outputs": [
    {
     "data": {
      "text/html": [
       "<ol>\n",
       "\t<li><ol class=list-inline>\n",
       "\t<li>1</li>\n",
       "\t<li>2</li>\n",
       "\t<li>3</li>\n",
       "</ol>\n",
       "</li>\n",
       "\t<li><ol class=list-inline>\n",
       "\t<li>1</li>\n",
       "\t<li>2</li>\n",
       "\t<li>5</li>\n",
       "</ol>\n",
       "</li>\n",
       "\t<li><ol class=list-inline>\n",
       "\t<li>1</li>\n",
       "\t<li>2</li>\n",
       "\t<li>4</li>\n",
       "\t<li>6</li>\n",
       "</ol>\n",
       "</li>\n",
       "\t<li><ol class=list-inline>\n",
       "\t<li>1</li>\n",
       "\t<li>7</li>\n",
       "</ol>\n",
       "</li>\n",
       "\t<li><ol class=list-inline>\n",
       "\t<li>1</li>\n",
       "\t<li>3</li>\n",
       "\t<li>5</li>\n",
       "</ol>\n",
       "</li>\n",
       "</ol>\n"
      ],
      "text/latex": [
       "\\begin{enumerate}\n",
       "\\item \\begin{enumerate*}\n",
       "\\item 1\n",
       "\\item 2\n",
       "\\item 3\n",
       "\\end{enumerate*}\n",
       "\n",
       "\\item \\begin{enumerate*}\n",
       "\\item 1\n",
       "\\item 2\n",
       "\\item 5\n",
       "\\end{enumerate*}\n",
       "\n",
       "\\item \\begin{enumerate*}\n",
       "\\item 1\n",
       "\\item 2\n",
       "\\item 4\n",
       "\\item 6\n",
       "\\end{enumerate*}\n",
       "\n",
       "\\item \\begin{enumerate*}\n",
       "\\item 1\n",
       "\\item 7\n",
       "\\end{enumerate*}\n",
       "\n",
       "\\item \\begin{enumerate*}\n",
       "\\item 1\n",
       "\\item 3\n",
       "\\item 5\n",
       "\\end{enumerate*}\n",
       "\n",
       "\\end{enumerate}\n"
      ],
      "text/markdown": [
       "1. 1. 1\n",
       "2. 2\n",
       "3. 3\n",
       "\n",
       "\n",
       "\n",
       "2. 1. 1\n",
       "2. 2\n",
       "3. 5\n",
       "\n",
       "\n",
       "\n",
       "3. 1. 1\n",
       "2. 2\n",
       "3. 4\n",
       "4. 6\n",
       "\n",
       "\n",
       "\n",
       "4. 1. 1\n",
       "2. 7\n",
       "\n",
       "\n",
       "\n",
       "5. 1. 1\n",
       "2. 3\n",
       "3. 5\n",
       "\n",
       "\n",
       "\n",
       "\n",
       "\n"
      ],
      "text/plain": [
       "[[1]]\n",
       "[1] 1 2 3\n",
       "\n",
       "[[2]]\n",
       "[1] 1 2 5\n",
       "\n",
       "[[3]]\n",
       "[1] 1 2 4 6\n",
       "\n",
       "[[4]]\n",
       "[1] 1 7\n",
       "\n",
       "[[5]]\n",
       "[1] 1 3 5\n"
      ]
     },
     "metadata": {},
     "output_type": "display_data"
    }
   ],
   "source": [
    "array1<- c(2,1,3)\n",
    "array2<- c(5,1,2)\n",
    "array3<- c(1,2,6,4)\n",
    "array4<- c(7,1)\n",
    "array5<- c(3,1,5)\n",
    "my_list<- list(array1,array2,array3,array4,array5)\n",
    "\n",
    "for(i in 1:length(my_list)){\n",
    "  my_list[[i]]<- sort(my_list[[i]])\n",
    "}\n",
    "  my_list"
   ]
  },
  {
   "cell_type": "markdown",
   "metadata": {},
   "source": [
    "Otra forma usando lapply"
   ]
  },
  {
   "cell_type": "code",
   "execution_count": 3,
   "metadata": {},
   "outputs": [
    {
     "data": {
      "text/html": [
       "<ol>\n",
       "\t<li><ol class=list-inline>\n",
       "\t<li>1</li>\n",
       "\t<li>2</li>\n",
       "\t<li>3</li>\n",
       "</ol>\n",
       "</li>\n",
       "\t<li><ol class=list-inline>\n",
       "\t<li>1</li>\n",
       "\t<li>2</li>\n",
       "\t<li>5</li>\n",
       "</ol>\n",
       "</li>\n",
       "\t<li><ol class=list-inline>\n",
       "\t<li>1</li>\n",
       "\t<li>2</li>\n",
       "\t<li>4</li>\n",
       "\t<li>6</li>\n",
       "</ol>\n",
       "</li>\n",
       "\t<li><ol class=list-inline>\n",
       "\t<li>1</li>\n",
       "\t<li>7</li>\n",
       "</ol>\n",
       "</li>\n",
       "\t<li><ol class=list-inline>\n",
       "\t<li>1</li>\n",
       "\t<li>3</li>\n",
       "\t<li>5</li>\n",
       "</ol>\n",
       "</li>\n",
       "</ol>\n"
      ],
      "text/latex": [
       "\\begin{enumerate}\n",
       "\\item \\begin{enumerate*}\n",
       "\\item 1\n",
       "\\item 2\n",
       "\\item 3\n",
       "\\end{enumerate*}\n",
       "\n",
       "\\item \\begin{enumerate*}\n",
       "\\item 1\n",
       "\\item 2\n",
       "\\item 5\n",
       "\\end{enumerate*}\n",
       "\n",
       "\\item \\begin{enumerate*}\n",
       "\\item 1\n",
       "\\item 2\n",
       "\\item 4\n",
       "\\item 6\n",
       "\\end{enumerate*}\n",
       "\n",
       "\\item \\begin{enumerate*}\n",
       "\\item 1\n",
       "\\item 7\n",
       "\\end{enumerate*}\n",
       "\n",
       "\\item \\begin{enumerate*}\n",
       "\\item 1\n",
       "\\item 3\n",
       "\\item 5\n",
       "\\end{enumerate*}\n",
       "\n",
       "\\end{enumerate}\n"
      ],
      "text/markdown": [
       "1. 1. 1\n",
       "2. 2\n",
       "3. 3\n",
       "\n",
       "\n",
       "\n",
       "2. 1. 1\n",
       "2. 2\n",
       "3. 5\n",
       "\n",
       "\n",
       "\n",
       "3. 1. 1\n",
       "2. 2\n",
       "3. 4\n",
       "4. 6\n",
       "\n",
       "\n",
       "\n",
       "4. 1. 1\n",
       "2. 7\n",
       "\n",
       "\n",
       "\n",
       "5. 1. 1\n",
       "2. 3\n",
       "3. 5\n",
       "\n",
       "\n",
       "\n",
       "\n",
       "\n"
      ],
      "text/plain": [
       "[[1]]\n",
       "[1] 1 2 3\n",
       "\n",
       "[[2]]\n",
       "[1] 1 2 5\n",
       "\n",
       "[[3]]\n",
       "[1] 1 2 4 6\n",
       "\n",
       "[[4]]\n",
       "[1] 1 7\n",
       "\n",
       "[[5]]\n",
       "[1] 1 3 5\n"
      ]
     },
     "metadata": {},
     "output_type": "display_data"
    }
   ],
   "source": [
    "my_list<- list(array1,array2,array3,array4,array5)\n",
    "my_list<- lapply(my_list, sort)\n",
    "my_list"
   ]
  },
  {
   "cell_type": "markdown",
   "metadata": {},
   "source": [
    "4. Calculate the minimum value of each column of a matrix, but assume odd numbers are negative and even numbers are positive."
   ]
  },
  {
   "cell_type": "code",
   "execution_count": 5,
   "metadata": {},
   "outputs": [
    {
     "data": {
      "text/html": [
       "<ol class=list-inline>\n",
       "\t<li>-33</li>\n",
       "\t<li>-11</li>\n",
       "\t<li>-53</li>\n",
       "</ol>\n"
      ],
      "text/latex": [
       "\\begin{enumerate*}\n",
       "\\item -33\n",
       "\\item -11\n",
       "\\item -53\n",
       "\\end{enumerate*}\n"
      ],
      "text/markdown": [
       "1. -33\n",
       "2. -11\n",
       "3. -53\n",
       "\n",
       "\n"
      ],
      "text/plain": [
       "[1] -33 -11 -53"
      ]
     },
     "metadata": {},
     "output_type": "display_data"
    }
   ],
   "source": [
    "negativeodd<- function(m){\n",
    "  ifelse(m%%2 == 0, m, -m)\n",
    "}\n",
    "\n",
    "my_m<- matrix(c(1,2,3,4,5,7,8,4,22,5,11,22,33,44,53), ncol = 3, byrow = T)\n",
    "my_m<- negativeodd(my_m)\n",
    "\n",
    "#calculo los menores valores para cada col\n",
    "min_col<- apply(my_m, 2, min)\n",
    "min_col"
   ]
  },
  {
   "cell_type": "markdown",
   "metadata": {},
   "source": [
    "5. Given a matrix return a list of all values greater than 7 of each row."
   ]
  },
  {
   "cell_type": "code",
   "execution_count": 6,
   "metadata": {},
   "outputs": [
    {
     "data": {
      "text/html": [
       "<ol>\n",
       "\t<li></li>\n",
       "\t<li></li>\n",
       "\t<li><ol class=list-inline>\n",
       "\t<li>8</li>\n",
       "\t<li>22</li>\n",
       "</ol>\n",
       "</li>\n",
       "\t<li><ol class=list-inline>\n",
       "\t<li>11</li>\n",
       "\t<li>22</li>\n",
       "</ol>\n",
       "</li>\n",
       "\t<li><ol class=list-inline>\n",
       "\t<li>33</li>\n",
       "\t<li>44</li>\n",
       "\t<li>53</li>\n",
       "</ol>\n",
       "</li>\n",
       "</ol>\n"
      ],
      "text/latex": [
       "\\begin{enumerate}\n",
       "\\item \n",
       "\\item \n",
       "\\item \\begin{enumerate*}\n",
       "\\item 8\n",
       "\\item 22\n",
       "\\end{enumerate*}\n",
       "\n",
       "\\item \\begin{enumerate*}\n",
       "\\item 11\n",
       "\\item 22\n",
       "\\end{enumerate*}\n",
       "\n",
       "\\item \\begin{enumerate*}\n",
       "\\item 33\n",
       "\\item 44\n",
       "\\item 53\n",
       "\\end{enumerate*}\n",
       "\n",
       "\\end{enumerate}\n"
      ],
      "text/markdown": [
       "1. \n",
       "2. \n",
       "3. 1. 8\n",
       "2. 22\n",
       "\n",
       "\n",
       "\n",
       "4. 1. 11\n",
       "2. 22\n",
       "\n",
       "\n",
       "\n",
       "5. 1. 33\n",
       "2. 44\n",
       "3. 53\n",
       "\n",
       "\n",
       "\n",
       "\n",
       "\n"
      ],
      "text/plain": [
       "[[1]]\n",
       "numeric(0)\n",
       "\n",
       "[[2]]\n",
       "numeric(0)\n",
       "\n",
       "[[3]]\n",
       "[1]  8 22\n",
       "\n",
       "[[4]]\n",
       "[1] 11 22\n",
       "\n",
       "[[5]]\n",
       "[1] 33 44 53\n"
      ]
     },
     "metadata": {},
     "output_type": "display_data"
    }
   ],
   "source": [
    "mayor_7<- function(x){\n",
    "  x[which(x>7)]\n",
    "}\n",
    "\n",
    "my_m<- matrix(c(1,2,3,4,5,7,8,4,22,5,11,22,33,44,53), ncol = 3, byrow = T)\n",
    "greater_seven<- apply(my_m, 1, mayor_7)\n",
    "greater_seven"
   ]
  },
  {
   "cell_type": "code",
   "execution_count": null,
   "metadata": {},
   "outputs": [],
   "source": []
  }
 ],
 "metadata": {
  "celltoolbar": "Raw Cell Format",
  "kernelspec": {
   "display_name": "R",
   "language": "R",
   "name": "ir"
  },
  "language_info": {
   "codemirror_mode": "r",
   "file_extension": ".r",
   "mimetype": "text/x-r-source",
   "name": "R",
   "pygments_lexer": "r",
   "version": "3.6.1"
  }
 },
 "nbformat": 4,
 "nbformat_minor": 2
}
